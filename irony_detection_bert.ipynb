{
  "nbformat": 4,
  "nbformat_minor": 0,
  "metadata": {
    "colab": {
      "provenance": [],
      "authorship_tag": "ABX9TyMf+eOKv1g3LDsOZmOni1pb",
      "include_colab_link": true
    },
    "kernelspec": {
      "name": "python3",
      "display_name": "Python 3"
    },
    "language_info": {
      "name": "python"
    },
    "accelerator": "GPU"
  },
  "cells": [
    {
      "cell_type": "markdown",
      "metadata": {
        "id": "view-in-github",
        "colab_type": "text"
      },
      "source": [
        "<a href=\"https://colab.research.google.com/github/viniciusrpb/116319_estruturasdedados/blob/main/irony_detection_bert.ipynb\" target=\"_parent\"><img src=\"https://colab.research.google.com/assets/colab-badge.svg\" alt=\"Open In Colab\"/></a>"
      ]
    },
    {
      "cell_type": "code",
      "execution_count": 1,
      "metadata": {
        "id": "LtSx5WGhILU-",
        "colab": {
          "base_uri": "https://localhost:8080/"
        },
        "outputId": "93261b74-c065-4580-d3ea-b9e2102d31ba"
      },
      "outputs": [
        {
          "output_type": "stream",
          "name": "stdout",
          "text": [
            "Mounted at /content/drive\n"
          ]
        }
      ],
      "source": [
        "from google.colab import drive\n",
        "drive.mount('/content/drive')"
      ]
    },
    {
      "cell_type": "code",
      "source": [
        "!cp -r \"/content/drive/My Drive/sentiment_analysis/irony_detection_EN_taskA\" \"irony_detection_EN\"\n",
        "#!cp -r \"/content/drive/My Drive/sentiment_analysis/irony_detection_pt2\" \"irony_detection_pt2\""
      ],
      "metadata": {
        "id": "pZbPRkr4LgxY"
      },
      "execution_count": 2,
      "outputs": []
    },
    {
      "cell_type": "code",
      "source": [
        "!pip install tensorflow-datasets\n",
        "!pip install tensorflow\n",
        "!pip install transformers==4.37.2\n",
        "!pip install tensorflow_addons\n",
        "!pip install keras-tuner --upgrade"
      ],
      "metadata": {
        "id": "wq-kQ_ASLhCw"
      },
      "execution_count": null,
      "outputs": []
    },
    {
      "cell_type": "code",
      "source": [
        "from keras.models import Sequential,Model\n",
        "from keras.layers import Dense,Embedding,Reshape,BatchNormalization,Input,LSTM,Bidirectional\n",
        "from transformers import TFBertModel,AutoTokenizer,BertTokenizer\n",
        "from sklearn.metrics import classification_report\n",
        "import matplotlib.pyplot as plt\n",
        "from sklearn.model_selection import train_test_split\n",
        "from tensorflow.keras.callbacks import EarlyStopping\n",
        "import gensim\n",
        "import numpy as np\n",
        "import tensorflow as tf\n",
        "import tensorflow_addons as tfa\n",
        "import tensorflow_datasets as tfds\n",
        "import pandas as pd\n",
        "import keras_tuner\n",
        "from tensorflow.keras.optimizers import Adam\n",
        "from keras.utils import to_categorical\n",
        "import re\n",
        "\n",
        "import nltk\n",
        "nltk.download('stopwords')\n",
        "from nltk.corpus import stopwords"
      ],
      "metadata": {
        "id": "sMcTe41zLmIY",
        "colab": {
          "base_uri": "https://localhost:8080/"
        },
        "outputId": "7865192e-ee8a-43f7-dcfe-976cc25f01d1"
      },
      "execution_count": 17,
      "outputs": [
        {
          "output_type": "stream",
          "name": "stderr",
          "text": [
            "[nltk_data] Downloading package stopwords to /root/nltk_data...\n",
            "[nltk_data]   Package stopwords is already up-to-date!\n"
          ]
        }
      ]
    },
    {
      "cell_type": "code",
      "source": [
        "def clean_stopwords_shortwords(w):\n",
        "    stopwords_list=stopwords.words('english')\n",
        "    words = w.split()\n",
        "    clean_words = [word for word in words if (word not in stopwords_list) and len(word) > 2]\n",
        "    return \" \".join(clean_words)\n",
        "\n",
        "def preprocess_tweets(sentence):\n",
        "    sentence = sentence.lower().strip()\n",
        "    sentence = re.sub(r\"([?.!,¿])\", r\" \", sentence)\n",
        "    #sentence = re.sub(r'[\" \"]+', \" \", sentence)\n",
        "    #sentence = re.sub(r\"[^a-zA-Z?.!,¿]+\", \" \", sentence)\n",
        "    sentence = clean_stopwords_shortwords(sentence)\n",
        "    sentence = re.sub(r'@\\w+', '',sentence)\n",
        "    return sentence"
      ],
      "metadata": {
        "id": "SscYt913a5Mr"
      },
      "execution_count": 5,
      "outputs": []
    },
    {
      "cell_type": "code",
      "source": [
        "def sentence_bert_encode(df,tokenizer,max_len):\n",
        "\n",
        "  input_ids = []\n",
        "  attention_masks = []\n",
        "\n",
        "  for i in range(len(df)):\n",
        "      encoded = tokenizer.encode_plus(\n",
        "        df[i],\n",
        "        add_special_tokens=True,\n",
        "        max_length=max_len,\n",
        "        pad_to_max_length=True,\n",
        "        #return_tensors = 'tf',\n",
        "        return_attention_mask=True\n",
        "      )\n",
        "\n",
        "      input_ids.append(encoded['input_ids'])\n",
        "      attention_masks.append(encoded['attention_mask'])\n",
        "\n",
        "  return np.array( input_ids),np.array( attention_masks)"
      ],
      "metadata": {
        "id": "IvBtUbZoFeny"
      },
      "execution_count": 32,
      "outputs": []
    },
    {
      "cell_type": "code",
      "source": [
        "def build_PreTrainedModel_bert(hp):\n",
        "\n",
        "    max_sentence_length = 32\n",
        "\n",
        "    input_tokens = Input(shape=(max_sentence_length,),dtype=\"int32\")\n",
        "    attention_masks = Input(shape=(max_sentence_length,),dtype=\"int32\")\n",
        "\n",
        "    bert_model = TFBertModel.from_pretrained(\"google-bert/bert-base-uncased\")\n",
        "\n",
        "    embedding = bert_model([input_tokens,attention_masks])\n",
        "\n",
        "    #embedding = bert_model.layers[0](input_tokens, attention_masks)\n",
        "    #last_hidden_states = embedding.last_hidden_state\n",
        "    fcc = Dense(hp.Choice('num_neurons_lstm',[64,128,256,512,1024,2048]), activation = 'relu')(embedding[1])\n",
        "    output_layer = Dense(2, activation='softmax')(fcc)\n",
        "    model_bert = Model(inputs=[input_tokens,attention_masks], outputs=output_layer)\n",
        "\n",
        "    '''lstm = LSTM(hp.Choice('num_neurons_lstm',[64,128,256,512,1024,2048]),activation=\"relu\")(newReshape)\n",
        "    newout = Dense(hp.Choice('num_neurons_dense',[64,128,256,512,1024,2048]),activation=\"relu\")(lstm)\n",
        "    preds = Dense(num_classes, activation='softmax')(newout)\n",
        "    model = Model(inputs, preds)'''\n",
        "\n",
        "    f1_score2 = tfa.metrics.F1Score(num_classes=2, average='macro',threshold=0.5)\n",
        "\n",
        "    adam = Adam(hp.Choice('learning_rate',[0.01,0.001,0.0001,0.0005,0.00001,0.00005,0.000001]))\n",
        "    model_bert.compile(loss='categorical_crossentropy',optimizer=adam,metrics=[f1_score2])\n",
        "\n",
        "    return model_bert"
      ],
      "metadata": {
        "id": "FcmoTXuBi9yu"
      },
      "execution_count": 36,
      "outputs": []
    },
    {
      "cell_type": "code",
      "source": [
        "def getBestModel(hyperparameters):\n",
        "\n",
        "    max_sentence_length = 32\n",
        "\n",
        "    input_tokens = Input(shape=(max_sentence_length,),dtype=\"int64\")\n",
        "    attention_masks = Input(shape=(max_sentence_length,),dtype=\"int64\")\n",
        "\n",
        "    bert_model = TFBertModel.from_pretrained(\"google-bert/bert-base-uncased\")\n",
        "\n",
        "    embedding = bert_model([input_tokens,attention_masks])\n",
        "\n",
        "    fcc = Dense(64, activation = 'relu')(embedding[1])\n",
        "    output_layer = Dense(2, activation='softmax')(fcc)\n",
        "    model = Model(inputs=[input_tokens,attention_masks], outputs=output_layer)\n",
        "\n",
        "    f1_score2 = tfa.metrics.F1Score(num_classes=2, average='macro',threshold=0.5)\n",
        "\n",
        "    adam = Adam(learning_rate=0.000003)#hyperparameters.get('learning_rate'))\n",
        "\n",
        "    model.compile(loss='categorical_crossentropy',optimizer=adam,metrics=[f1_score2])\n",
        "\n",
        "    return model"
      ],
      "metadata": {
        "id": "EOciDHwDk_kq"
      },
      "execution_count": 23,
      "outputs": []
    },
    {
      "cell_type": "code",
      "source": [
        "path_train = \"irony_detection_EN/SemEval2018-T3-train-taskA.txt\"\n",
        "path_valid = \"irony_detection_EN/SemEval2018-T3-valid-taskA.txt\"\n",
        "path_test = \"irony_detection_EN/SemEval2018-T3_gold_test_taskA_emoji.txt\""
      ],
      "metadata": {
        "id": "17LY3Uq5QEpj"
      },
      "execution_count": 10,
      "outputs": []
    },
    {
      "cell_type": "code",
      "source": [
        "df_train = pd.read_csv(path_train, sep='\\t',encoding=\"UTF-8\",low_memory = False)\n",
        "df_valid = pd.read_csv(path_valid, sep='\\t',encoding=\"UTF-8\",low_memory = False)\n",
        "df_test = pd.read_csv(path_test, sep='\\t',encoding=\"UTF-8\",low_memory = False)\n",
        "\n",
        "df_train.head()"
      ],
      "metadata": {
        "id": "GZPEnQw7QGAq",
        "colab": {
          "base_uri": "https://localhost:8080/",
          "height": 206
        },
        "outputId": "c7a4ff5d-f84d-4992-b11c-0712e7246541"
      },
      "execution_count": 11,
      "outputs": [
        {
          "output_type": "execute_result",
          "data": {
            "text/plain": [
              "   Tweet index                                         Tweet text  Label\n",
              "0         2248                                     Beautiful day       1\n",
              "1          156  @Moose_eBooks You seriously bought a giant TV ...      0\n",
              "2         2831  @NewDay: .@JebBush considering a run for the @...      1\n",
              "3          842   a bad game last night. Way to go Packers! htt...      0\n",
              "4           20  But @DarklightDave was trying to find us, and ...      1"
            ],
            "text/html": [
              "\n",
              "  <div id=\"df-d0d42f0b-1038-4c15-a036-984a7e1d0b5f\" class=\"colab-df-container\">\n",
              "    <div>\n",
              "<style scoped>\n",
              "    .dataframe tbody tr th:only-of-type {\n",
              "        vertical-align: middle;\n",
              "    }\n",
              "\n",
              "    .dataframe tbody tr th {\n",
              "        vertical-align: top;\n",
              "    }\n",
              "\n",
              "    .dataframe thead th {\n",
              "        text-align: right;\n",
              "    }\n",
              "</style>\n",
              "<table border=\"1\" class=\"dataframe\">\n",
              "  <thead>\n",
              "    <tr style=\"text-align: right;\">\n",
              "      <th></th>\n",
              "      <th>Tweet index</th>\n",
              "      <th>Tweet text</th>\n",
              "      <th>Label</th>\n",
              "    </tr>\n",
              "  </thead>\n",
              "  <tbody>\n",
              "    <tr>\n",
              "      <th>0</th>\n",
              "      <td>2248</td>\n",
              "      <td>Beautiful day</td>\n",
              "      <td>1</td>\n",
              "    </tr>\n",
              "    <tr>\n",
              "      <th>1</th>\n",
              "      <td>156</td>\n",
              "      <td>@Moose_eBooks You seriously bought a giant TV ...</td>\n",
              "      <td>0</td>\n",
              "    </tr>\n",
              "    <tr>\n",
              "      <th>2</th>\n",
              "      <td>2831</td>\n",
              "      <td>@NewDay: .@JebBush considering a run for the @...</td>\n",
              "      <td>1</td>\n",
              "    </tr>\n",
              "    <tr>\n",
              "      <th>3</th>\n",
              "      <td>842</td>\n",
              "      <td>a bad game last night. Way to go Packers! htt...</td>\n",
              "      <td>0</td>\n",
              "    </tr>\n",
              "    <tr>\n",
              "      <th>4</th>\n",
              "      <td>20</td>\n",
              "      <td>But @DarklightDave was trying to find us, and ...</td>\n",
              "      <td>1</td>\n",
              "    </tr>\n",
              "  </tbody>\n",
              "</table>\n",
              "</div>\n",
              "    <div class=\"colab-df-buttons\">\n",
              "\n",
              "  <div class=\"colab-df-container\">\n",
              "    <button class=\"colab-df-convert\" onclick=\"convertToInteractive('df-d0d42f0b-1038-4c15-a036-984a7e1d0b5f')\"\n",
              "            title=\"Convert this dataframe to an interactive table.\"\n",
              "            style=\"display:none;\">\n",
              "\n",
              "  <svg xmlns=\"http://www.w3.org/2000/svg\" height=\"24px\" viewBox=\"0 -960 960 960\">\n",
              "    <path d=\"M120-120v-720h720v720H120Zm60-500h600v-160H180v160Zm220 220h160v-160H400v160Zm0 220h160v-160H400v160ZM180-400h160v-160H180v160Zm440 0h160v-160H620v160ZM180-180h160v-160H180v160Zm440 0h160v-160H620v160Z\"/>\n",
              "  </svg>\n",
              "    </button>\n",
              "\n",
              "  <style>\n",
              "    .colab-df-container {\n",
              "      display:flex;\n",
              "      gap: 12px;\n",
              "    }\n",
              "\n",
              "    .colab-df-convert {\n",
              "      background-color: #E8F0FE;\n",
              "      border: none;\n",
              "      border-radius: 50%;\n",
              "      cursor: pointer;\n",
              "      display: none;\n",
              "      fill: #1967D2;\n",
              "      height: 32px;\n",
              "      padding: 0 0 0 0;\n",
              "      width: 32px;\n",
              "    }\n",
              "\n",
              "    .colab-df-convert:hover {\n",
              "      background-color: #E2EBFA;\n",
              "      box-shadow: 0px 1px 2px rgba(60, 64, 67, 0.3), 0px 1px 3px 1px rgba(60, 64, 67, 0.15);\n",
              "      fill: #174EA6;\n",
              "    }\n",
              "\n",
              "    .colab-df-buttons div {\n",
              "      margin-bottom: 4px;\n",
              "    }\n",
              "\n",
              "    [theme=dark] .colab-df-convert {\n",
              "      background-color: #3B4455;\n",
              "      fill: #D2E3FC;\n",
              "    }\n",
              "\n",
              "    [theme=dark] .colab-df-convert:hover {\n",
              "      background-color: #434B5C;\n",
              "      box-shadow: 0px 1px 3px 1px rgba(0, 0, 0, 0.15);\n",
              "      filter: drop-shadow(0px 1px 2px rgba(0, 0, 0, 0.3));\n",
              "      fill: #FFFFFF;\n",
              "    }\n",
              "  </style>\n",
              "\n",
              "    <script>\n",
              "      const buttonEl =\n",
              "        document.querySelector('#df-d0d42f0b-1038-4c15-a036-984a7e1d0b5f button.colab-df-convert');\n",
              "      buttonEl.style.display =\n",
              "        google.colab.kernel.accessAllowed ? 'block' : 'none';\n",
              "\n",
              "      async function convertToInteractive(key) {\n",
              "        const element = document.querySelector('#df-d0d42f0b-1038-4c15-a036-984a7e1d0b5f');\n",
              "        const dataTable =\n",
              "          await google.colab.kernel.invokeFunction('convertToInteractive',\n",
              "                                                    [key], {});\n",
              "        if (!dataTable) return;\n",
              "\n",
              "        const docLinkHtml = 'Like what you see? Visit the ' +\n",
              "          '<a target=\"_blank\" href=https://colab.research.google.com/notebooks/data_table.ipynb>data table notebook</a>'\n",
              "          + ' to learn more about interactive tables.';\n",
              "        element.innerHTML = '';\n",
              "        dataTable['output_type'] = 'display_data';\n",
              "        await google.colab.output.renderOutput(dataTable, element);\n",
              "        const docLink = document.createElement('div');\n",
              "        docLink.innerHTML = docLinkHtml;\n",
              "        element.appendChild(docLink);\n",
              "      }\n",
              "    </script>\n",
              "  </div>\n",
              "\n",
              "\n",
              "<div id=\"df-03d73649-0894-40f5-a612-83ce41181c9f\">\n",
              "  <button class=\"colab-df-quickchart\" onclick=\"quickchart('df-03d73649-0894-40f5-a612-83ce41181c9f')\"\n",
              "            title=\"Suggest charts\"\n",
              "            style=\"display:none;\">\n",
              "\n",
              "<svg xmlns=\"http://www.w3.org/2000/svg\" height=\"24px\"viewBox=\"0 0 24 24\"\n",
              "     width=\"24px\">\n",
              "    <g>\n",
              "        <path d=\"M19 3H5c-1.1 0-2 .9-2 2v14c0 1.1.9 2 2 2h14c1.1 0 2-.9 2-2V5c0-1.1-.9-2-2-2zM9 17H7v-7h2v7zm4 0h-2V7h2v10zm4 0h-2v-4h2v4z\"/>\n",
              "    </g>\n",
              "</svg>\n",
              "  </button>\n",
              "\n",
              "<style>\n",
              "  .colab-df-quickchart {\n",
              "      --bg-color: #E8F0FE;\n",
              "      --fill-color: #1967D2;\n",
              "      --hover-bg-color: #E2EBFA;\n",
              "      --hover-fill-color: #174EA6;\n",
              "      --disabled-fill-color: #AAA;\n",
              "      --disabled-bg-color: #DDD;\n",
              "  }\n",
              "\n",
              "  [theme=dark] .colab-df-quickchart {\n",
              "      --bg-color: #3B4455;\n",
              "      --fill-color: #D2E3FC;\n",
              "      --hover-bg-color: #434B5C;\n",
              "      --hover-fill-color: #FFFFFF;\n",
              "      --disabled-bg-color: #3B4455;\n",
              "      --disabled-fill-color: #666;\n",
              "  }\n",
              "\n",
              "  .colab-df-quickchart {\n",
              "    background-color: var(--bg-color);\n",
              "    border: none;\n",
              "    border-radius: 50%;\n",
              "    cursor: pointer;\n",
              "    display: none;\n",
              "    fill: var(--fill-color);\n",
              "    height: 32px;\n",
              "    padding: 0;\n",
              "    width: 32px;\n",
              "  }\n",
              "\n",
              "  .colab-df-quickchart:hover {\n",
              "    background-color: var(--hover-bg-color);\n",
              "    box-shadow: 0 1px 2px rgba(60, 64, 67, 0.3), 0 1px 3px 1px rgba(60, 64, 67, 0.15);\n",
              "    fill: var(--button-hover-fill-color);\n",
              "  }\n",
              "\n",
              "  .colab-df-quickchart-complete:disabled,\n",
              "  .colab-df-quickchart-complete:disabled:hover {\n",
              "    background-color: var(--disabled-bg-color);\n",
              "    fill: var(--disabled-fill-color);\n",
              "    box-shadow: none;\n",
              "  }\n",
              "\n",
              "  .colab-df-spinner {\n",
              "    border: 2px solid var(--fill-color);\n",
              "    border-color: transparent;\n",
              "    border-bottom-color: var(--fill-color);\n",
              "    animation:\n",
              "      spin 1s steps(1) infinite;\n",
              "  }\n",
              "\n",
              "  @keyframes spin {\n",
              "    0% {\n",
              "      border-color: transparent;\n",
              "      border-bottom-color: var(--fill-color);\n",
              "      border-left-color: var(--fill-color);\n",
              "    }\n",
              "    20% {\n",
              "      border-color: transparent;\n",
              "      border-left-color: var(--fill-color);\n",
              "      border-top-color: var(--fill-color);\n",
              "    }\n",
              "    30% {\n",
              "      border-color: transparent;\n",
              "      border-left-color: var(--fill-color);\n",
              "      border-top-color: var(--fill-color);\n",
              "      border-right-color: var(--fill-color);\n",
              "    }\n",
              "    40% {\n",
              "      border-color: transparent;\n",
              "      border-right-color: var(--fill-color);\n",
              "      border-top-color: var(--fill-color);\n",
              "    }\n",
              "    60% {\n",
              "      border-color: transparent;\n",
              "      border-right-color: var(--fill-color);\n",
              "    }\n",
              "    80% {\n",
              "      border-color: transparent;\n",
              "      border-right-color: var(--fill-color);\n",
              "      border-bottom-color: var(--fill-color);\n",
              "    }\n",
              "    90% {\n",
              "      border-color: transparent;\n",
              "      border-bottom-color: var(--fill-color);\n",
              "    }\n",
              "  }\n",
              "</style>\n",
              "\n",
              "  <script>\n",
              "    async function quickchart(key) {\n",
              "      const quickchartButtonEl =\n",
              "        document.querySelector('#' + key + ' button');\n",
              "      quickchartButtonEl.disabled = true;  // To prevent multiple clicks.\n",
              "      quickchartButtonEl.classList.add('colab-df-spinner');\n",
              "      try {\n",
              "        const charts = await google.colab.kernel.invokeFunction(\n",
              "            'suggestCharts', [key], {});\n",
              "      } catch (error) {\n",
              "        console.error('Error during call to suggestCharts:', error);\n",
              "      }\n",
              "      quickchartButtonEl.classList.remove('colab-df-spinner');\n",
              "      quickchartButtonEl.classList.add('colab-df-quickchart-complete');\n",
              "    }\n",
              "    (() => {\n",
              "      let quickchartButtonEl =\n",
              "        document.querySelector('#df-03d73649-0894-40f5-a612-83ce41181c9f button');\n",
              "      quickchartButtonEl.style.display =\n",
              "        google.colab.kernel.accessAllowed ? 'block' : 'none';\n",
              "    })();\n",
              "  </script>\n",
              "</div>\n",
              "\n",
              "    </div>\n",
              "  </div>\n"
            ],
            "application/vnd.google.colaboratory.intrinsic+json": {
              "type": "dataframe",
              "variable_name": "df_train",
              "summary": "{\n  \"name\": \"df_train\",\n  \"rows\": 2442,\n  \"fields\": [\n    {\n      \"column\": \"Tweet index\",\n      \"properties\": {\n        \"dtype\": \"number\",\n        \"std\": 1104,\n        \"min\": 2,\n        \"max\": 3833,\n        \"num_unique_values\": 2442,\n        \"samples\": [\n          3805,\n          1783,\n          1720\n        ],\n        \"semantic_type\": \"\",\n        \"description\": \"\"\n      }\n    },\n    {\n      \"column\": \"Tweet text\",\n      \"properties\": {\n        \"dtype\": \"string\",\n        \"num_unique_values\": 2442,\n        \"samples\": [\n          \"@Nylons @quick13 @jamieyuccas @chadhartman it was an In progress list of \\\"MN of the year\\\"\",\n          \"Wow thanks for the good vibes right before my exam, parents. \",\n          \"@laurenfleskes hahaha such a 1% town\"\n        ],\n        \"semantic_type\": \"\",\n        \"description\": \"\"\n      }\n    },\n    {\n      \"column\": \"Label\",\n      \"properties\": {\n        \"dtype\": \"number\",\n        \"std\": 0,\n        \"min\": 0,\n        \"max\": 1,\n        \"num_unique_values\": 2,\n        \"samples\": [\n          0,\n          1\n        ],\n        \"semantic_type\": \"\",\n        \"description\": \"\"\n      }\n    }\n  ]\n}"
            }
          },
          "metadata": {},
          "execution_count": 11
        }
      ]
    },
    {
      "cell_type": "code",
      "source": [
        "df_train['Tweet text'] = df_train['Tweet text'].map(preprocess_tweets)\n",
        "df_valid['Tweet text'] = df_valid['Tweet text'].map(preprocess_tweets)\n",
        "df_test['Tweet text'] = df_test['Tweet text'].map(preprocess_tweets)"
      ],
      "metadata": {
        "id": "DX-5uGgSbPlK"
      },
      "execution_count": 12,
      "outputs": []
    },
    {
      "cell_type": "code",
      "source": [
        "max_sentence_length = 32\n",
        "\n",
        "bert_tokenizer = BertTokenizer.from_pretrained(\"google-bert/bert-base-uncased\")\n",
        "\n",
        "train_input_ids,train_attention_masks = sentence_bert_encode(df_train['Tweet text'],bert_tokenizer,max_sentence_length)\n",
        "valid_input_ids,valid_attention_masks = sentence_bert_encode(df_valid['Tweet text'],bert_tokenizer,max_sentence_length)\n",
        "test_input_ids,test_attention_masks = sentence_bert_encode(df_test['Tweet text'],bert_tokenizer,max_sentence_length)"
      ],
      "metadata": {
        "id": "Cd4vS-oPFkdL",
        "colab": {
          "base_uri": "https://localhost:8080/"
        },
        "outputId": "21efebe1-f141-42eb-f323-5813b15ef9ee"
      },
      "execution_count": 33,
      "outputs": [
        {
          "output_type": "stream",
          "name": "stderr",
          "text": [
            "Truncation was not explicitly activated but `max_length` is provided a specific value, please use `truncation=True` to explicitly truncate examples to max length. Defaulting to 'longest_first' truncation strategy. If you encode pairs of sequences (GLUE-style) with the tokenizer you can select this strategy more precisely by providing a specific strategy to `truncation`.\n"
          ]
        }
      ]
    },
    {
      "cell_type": "code",
      "source": [
        "df_train['Label'] = pd.Categorical(df_train['Label'])\n",
        "y_train = df_train['Label'].cat.codes\n",
        "\n",
        "df_valid['Label'] = pd.Categorical(df_valid['Label'])\n",
        "y_valid = df_valid['Label'].cat.codes\n",
        "\n",
        "df_test['Label'] = pd.Categorical(df_test['Label'])\n",
        "y_test = df_test['Label'].cat.codes\n",
        "\n",
        "num_classes = 2\n",
        "\n",
        "y_train_enc = to_categorical(df_train['Label'],num_classes)\n",
        "y_valid_enc = to_categorical(df_valid['Label'],num_classes)\n",
        "y_test_enc = to_categorical(df_test['Label'],num_classes)"
      ],
      "metadata": {
        "id": "E5GPOvUpQKeq"
      },
      "execution_count": 44,
      "outputs": []
    },
    {
      "cell_type": "markdown",
      "source": [
        "Hyperparameter Optimization"
      ],
      "metadata": {
        "id": "tYhq0BhaknaR"
      }
    },
    {
      "cell_type": "code",
      "source": [
        "early_stop = EarlyStopping(monitor='val_loss', patience=10)\n",
        "\n",
        "tuner = keras_tuner.RandomSearch(\n",
        "                build_PreTrainedModel_bert,\n",
        "                directory='/content/drive/MyDrive/irony',\n",
        "                objective='val_loss',\n",
        "                project_name='bert_simple',\n",
        "                max_trials=5,\n",
        "                overwrite=True)\n",
        "\n",
        "tuner.search([train_input_ids,train_attention_masks],y_train_enc, epochs=20, validation_data=([valid_input_ids,valid_attention_masks],y_valid_enc),callbacks = [early_stop])\n",
        "\n",
        "best_hps = tuner.get_best_hyperparameters(num_trials=5)[0]\n",
        "\n",
        "string = \"The hyperparameter search is complete. The number of neurons in FCC layers is \"+str(best_hps.get('num_neurons_dense'))+\"\\nThe optimal number of units in the lstm layer is \"+str(best_hps.get('num_neurons_lstm'))+\" and the optimal learning rate for the optimizer is \"+str(best_hps.get('learning_rate'))+\".\""
      ],
      "metadata": {
        "id": "7EPrvjsDkmwe"
      },
      "execution_count": null,
      "outputs": []
    },
    {
      "cell_type": "markdown",
      "source": [
        "sentença de exemplo codificada"
      ],
      "metadata": {
        "id": "MfB2noO7TTSM"
      }
    },
    {
      "cell_type": "code",
      "source": [
        "df_train2 = pd.concat([df_train,df_valid],ignore_index=True)\n",
        "df_train2['Label'] = pd.Categorical(df_train2['Label'])\n",
        "y_train2 = df_train2['Label'].cat.codes\n",
        "\n",
        "y_train_enc2 = to_categorical(y_train2,num_classes)\n",
        "\n",
        "train_input_ids,train_attention_masks = sentence_bert_encode(df_train2['Tweet text'],bert_tokenizer,max_sentence_length)"
      ],
      "metadata": {
        "id": "SLprvU1eiT4a",
        "colab": {
          "base_uri": "https://localhost:8080/"
        },
        "outputId": "f045bf12-ff9e-48ff-e0cf-307c3baa6d30"
      },
      "execution_count": 50,
      "outputs": [
        {
          "output_type": "stream",
          "name": "stderr",
          "text": [
            "/usr/local/lib/python3.10/dist-packages/transformers/tokenization_utils_base.py:2619: FutureWarning: The `pad_to_max_length` argument is deprecated and will be removed in a future version, use `padding=True` or `padding='longest'` to pad to the longest sequence in the batch, or use `padding='max_length'` to pad to a max length. In this case, you can give a specific length with `max_length` (e.g. `max_length=45`) or leave max_length to None to pad to the maximal input size of the model (e.g. 512 for Bert).\n",
            "  warnings.warn(\n"
          ]
        }
      ]
    },
    {
      "cell_type": "code",
      "source": [
        "best_model = getBestModel({})\n",
        "\n",
        "early_stop2 = EarlyStopping(monitor='loss', patience=3)\n",
        "\n",
        "history = best_model.fit([train_input_ids,train_attention_masks],y_train_enc,\n",
        "                          epochs=4,\n",
        "                          batch_size=32,\n",
        "                          callbacks = [early_stop2])\n"
      ],
      "metadata": {
        "id": "bWulDLGATTaE",
        "colab": {
          "base_uri": "https://localhost:8080/",
          "height": 515
        },
        "outputId": "4bbbe8cb-7c97-4064-a7f5-7e67c2b9de05"
      },
      "execution_count": 51,
      "outputs": [
        {
          "output_type": "stream",
          "name": "stderr",
          "text": [
            "Some weights of the PyTorch model were not used when initializing the TF 2.0 model TFBertModel: ['cls.predictions.transform.dense.weight', 'cls.predictions.transform.LayerNorm.bias', 'cls.predictions.bias', 'cls.predictions.transform.dense.bias', 'cls.seq_relationship.bias', 'cls.predictions.transform.LayerNorm.weight', 'cls.seq_relationship.weight']\n",
            "- This IS expected if you are initializing TFBertModel from a PyTorch model trained on another task or with another architecture (e.g. initializing a TFBertForSequenceClassification model from a BertForPreTraining model).\n",
            "- This IS NOT expected if you are initializing TFBertModel from a PyTorch model that you expect to be exactly identical (e.g. initializing a TFBertForSequenceClassification model from a BertForSequenceClassification model).\n",
            "All the weights of TFBertModel were initialized from the PyTorch model.\n",
            "If your task is similar to the task the model of the checkpoint was trained on, you can already use TFBertModel for predictions without further training.\n"
          ]
        },
        {
          "output_type": "error",
          "ename": "ValueError",
          "evalue": "Data cardinality is ambiguous:\n  x sizes: 3053, 3053\n  y sizes: 2442\nMake sure all arrays contain the same number of samples.",
          "traceback": [
            "\u001b[0;31m---------------------------------------------------------------------------\u001b[0m",
            "\u001b[0;31mValueError\u001b[0m                                Traceback (most recent call last)",
            "\u001b[0;32m<ipython-input-51-13052bdc700e>\u001b[0m in \u001b[0;36m<cell line: 5>\u001b[0;34m()\u001b[0m\n\u001b[1;32m      3\u001b[0m \u001b[0mearly_stop2\u001b[0m \u001b[0;34m=\u001b[0m \u001b[0mEarlyStopping\u001b[0m\u001b[0;34m(\u001b[0m\u001b[0mmonitor\u001b[0m\u001b[0;34m=\u001b[0m\u001b[0;34m'loss'\u001b[0m\u001b[0;34m,\u001b[0m \u001b[0mpatience\u001b[0m\u001b[0;34m=\u001b[0m\u001b[0;36m3\u001b[0m\u001b[0;34m)\u001b[0m\u001b[0;34m\u001b[0m\u001b[0;34m\u001b[0m\u001b[0m\n\u001b[1;32m      4\u001b[0m \u001b[0;34m\u001b[0m\u001b[0m\n\u001b[0;32m----> 5\u001b[0;31m history = best_model.fit([train_input_ids,train_attention_masks],y_train_enc,\n\u001b[0m\u001b[1;32m      6\u001b[0m                           \u001b[0mepochs\u001b[0m\u001b[0;34m=\u001b[0m\u001b[0;36m4\u001b[0m\u001b[0;34m,\u001b[0m\u001b[0;34m\u001b[0m\u001b[0;34m\u001b[0m\u001b[0m\n\u001b[1;32m      7\u001b[0m                           \u001b[0mbatch_size\u001b[0m\u001b[0;34m=\u001b[0m\u001b[0;36m32\u001b[0m\u001b[0;34m,\u001b[0m\u001b[0;34m\u001b[0m\u001b[0;34m\u001b[0m\u001b[0m\n",
            "\u001b[0;32m/usr/local/lib/python3.10/dist-packages/keras/src/utils/traceback_utils.py\u001b[0m in \u001b[0;36merror_handler\u001b[0;34m(*args, **kwargs)\u001b[0m\n\u001b[1;32m     68\u001b[0m             \u001b[0;31m# To get the full stack trace, call:\u001b[0m\u001b[0;34m\u001b[0m\u001b[0;34m\u001b[0m\u001b[0m\n\u001b[1;32m     69\u001b[0m             \u001b[0;31m# `tf.debugging.disable_traceback_filtering()`\u001b[0m\u001b[0;34m\u001b[0m\u001b[0;34m\u001b[0m\u001b[0m\n\u001b[0;32m---> 70\u001b[0;31m             \u001b[0;32mraise\u001b[0m \u001b[0me\u001b[0m\u001b[0;34m.\u001b[0m\u001b[0mwith_traceback\u001b[0m\u001b[0;34m(\u001b[0m\u001b[0mfiltered_tb\u001b[0m\u001b[0;34m)\u001b[0m \u001b[0;32mfrom\u001b[0m \u001b[0;32mNone\u001b[0m\u001b[0;34m\u001b[0m\u001b[0;34m\u001b[0m\u001b[0m\n\u001b[0m\u001b[1;32m     71\u001b[0m         \u001b[0;32mfinally\u001b[0m\u001b[0;34m:\u001b[0m\u001b[0;34m\u001b[0m\u001b[0;34m\u001b[0m\u001b[0m\n\u001b[1;32m     72\u001b[0m             \u001b[0;32mdel\u001b[0m \u001b[0mfiltered_tb\u001b[0m\u001b[0;34m\u001b[0m\u001b[0;34m\u001b[0m\u001b[0m\n",
            "\u001b[0;32m/usr/local/lib/python3.10/dist-packages/keras/src/engine/data_adapter.py\u001b[0m in \u001b[0;36m_check_data_cardinality\u001b[0;34m(data)\u001b[0m\n\u001b[1;32m   1958\u001b[0m             )\n\u001b[1;32m   1959\u001b[0m         \u001b[0mmsg\u001b[0m \u001b[0;34m+=\u001b[0m \u001b[0;34m\"Make sure all arrays contain the same number of samples.\"\u001b[0m\u001b[0;34m\u001b[0m\u001b[0;34m\u001b[0m\u001b[0m\n\u001b[0;32m-> 1960\u001b[0;31m         \u001b[0;32mraise\u001b[0m \u001b[0mValueError\u001b[0m\u001b[0;34m(\u001b[0m\u001b[0mmsg\u001b[0m\u001b[0;34m)\u001b[0m\u001b[0;34m\u001b[0m\u001b[0;34m\u001b[0m\u001b[0m\n\u001b[0m\u001b[1;32m   1961\u001b[0m \u001b[0;34m\u001b[0m\u001b[0m\n\u001b[1;32m   1962\u001b[0m \u001b[0;34m\u001b[0m\u001b[0m\n",
            "\u001b[0;31mValueError\u001b[0m: Data cardinality is ambiguous:\n  x sizes: 3053, 3053\n  y sizes: 2442\nMake sure all arrays contain the same number of samples."
          ]
        }
      ]
    },
    {
      "cell_type": "markdown",
      "source": [
        "sentença de exemplo decodificada"
      ],
      "metadata": {
        "id": "u7kPUZ16TOs8"
      }
    },
    {
      "cell_type": "code",
      "source": [
        "y_prob = best_model.predict([test_input_ids,test_attention_masks])\n",
        "y_pred = np.argmax(y_prob,axis=1)"
      ],
      "metadata": {
        "id": "f7xIIe_hTN6M",
        "colab": {
          "base_uri": "https://localhost:8080/"
        },
        "outputId": "f8e5e84a-b351-4f8d-8c05-07252658b384"
      },
      "execution_count": 48,
      "outputs": [
        {
          "output_type": "stream",
          "name": "stdout",
          "text": [
            "25/25 [==============================] - 5s 80ms/step\n"
          ]
        }
      ]
    },
    {
      "cell_type": "markdown",
      "source": [
        "Codificando os labels"
      ],
      "metadata": {
        "id": "txQJbLElTiFr"
      }
    },
    {
      "cell_type": "code",
      "source": [
        "print(classification_report(y_test,y_pred))"
      ],
      "metadata": {
        "id": "s-ktVip6TiPT",
        "colab": {
          "base_uri": "https://localhost:8080/"
        },
        "outputId": "3beee3ea-84ed-4d55-dc32-aa2c335629a6"
      },
      "execution_count": 49,
      "outputs": [
        {
          "output_type": "stream",
          "name": "stdout",
          "text": [
            "              precision    recall  f1-score   support\n",
            "\n",
            "           0       0.78      0.48      0.60       473\n",
            "           1       0.50      0.79      0.61       311\n",
            "\n",
            "    accuracy                           0.61       784\n",
            "   macro avg       0.64      0.64      0.61       784\n",
            "weighted avg       0.67      0.61      0.60       784\n",
            "\n"
          ]
        }
      ]
    }
  ]
}