{
  "nbformat": 4,
  "nbformat_minor": 0,
  "metadata": {
    "kernelspec": {
      "display_name": "Python 3",
      "language": "python",
      "name": "python3"
    },
    "language_info": {
      "codemirror_mode": {
        "name": "ipython",
        "version": 3
      },
      "file_extension": ".py",
      "mimetype": "text/x-python",
      "name": "python",
      "nbconvert_exporter": "python",
      "pygments_lexer": "ipython3",
      "version": "3.6.10"
    },
    "colab": {
      "name": "selenastraceae_keras_cnnmodels.ipynb",
      "provenance": [],
      "collapsed_sections": [],
      "include_colab_link": true
    },
    "accelerator": "GPU"
  },
  "cells": [
    {
      "cell_type": "markdown",
      "metadata": {
        "id": "view-in-github",
        "colab_type": "text"
      },
      "source": [
        "<a href=\"https://colab.research.google.com/github/viniciusrpb/116319_estruturasdedados/blob/main/selenastraceae_keras_cnnmodel_two.ipynb\" target=\"_parent\"><img src=\"https://colab.research.google.com/assets/colab-badge.svg\" alt=\"Open In Colab\"/></a>"
      ]
    },
    {
      "cell_type": "code",
      "metadata": {
        "id": "Lf68PvvD_GXN"
      },
      "source": [
        "#from google.colab import drive\n",
        "#drive.mount('/content/drive')"
      ],
      "execution_count": 1,
      "outputs": []
    },
    {
      "cell_type": "markdown",
      "source": [
        "# New Section"
      ],
      "metadata": {
        "id": "uSEdHGn26Hzg"
      }
    },
    {
      "cell_type": "code",
      "metadata": {
        "id": "6o0SMmf8z9qD"
      },
      "source": [
        "#!pip install tensorflow_addons"
      ],
      "execution_count": 2,
      "outputs": []
    },
    {
      "cell_type": "code",
      "metadata": {
        "id": "voJBV5X_g0B6"
      },
      "source": [
        "#!cp -r \"/content/drive/My Drive/alga/aug_roi_train_bin\" \"aug_roi_train_bin\"\n",
        "#!cp -r \"/content/drive/My Drive/alga/roi_validation_bin\" \"roi_validation_bin\"\n",
        "#!cp -r \"/content/drive/My Drive/alga/roi_test_bin\" \"roi_test_bin\"\n",
        "#!cp -r \"/content/drive/My Drive/alga/roi_train_bin\" \"roi_train_bin\""
      ],
      "execution_count": 3,
      "outputs": []
    },
    {
      "cell_type": "code",
      "metadata": {
        "id": "W384maMHy7Yc"
      },
      "source": [
        "import tensorflow as tf\n",
        "from tensorflow.keras.optimizers import RMSprop\n",
        "from tensorflow.keras.preprocessing.image import ImageDataGenerator\n",
        "from keras.layers import Dense,GlobalAveragePooling2D ,MaxPooling2D,Activation,Flatten,Conv2D,BatchNormalization,Dropout\n",
        "from tensorflow.keras import layers\n",
        "from tensorflow.keras import Model\n",
        "from keras.models import Sequential\n",
        "from tensorflow.keras.optimizers import SGD\n",
        "import matplotlib.pyplot as plt\n",
        "from sklearn.metrics import classification_report\n",
        "from sklearn.metrics import confusion_matrix\n",
        "import numpy as np\n",
        "import tensorflow_addons as tfa"
      ],
      "execution_count": 4,
      "outputs": []
    },
    {
      "cell_type": "code",
      "metadata": {
        "id": "ThJjNtJBi900"
      },
      "source": [
        "path_train = 'roi_train_bin'\n",
        "path_validation = 'roi_validation_bin'\n",
        "path_test = 'roi_test_bin'"
      ],
      "execution_count": 5,
      "outputs": []
    },
    {
      "cell_type": "markdown",
      "metadata": {
        "id": "3-0nc-LxNSF2"
      },
      "source": [
        "# Pretrained GoogLeNet model using ImageNet\n"
      ]
    },
    {
      "cell_type": "code",
      "metadata": {
        "id": "yWx2apyg_GXQ"
      },
      "source": [
        "from tensorflow.keras.applications.inception_v3 import InceptionV3\n",
        "\n",
        "pre_trained_model = InceptionV3(input_shape=(224,224,3),include_top=False,weights='imagenet')\n",
        "\n",
        "for layer in pre_trained_model.layers:\n",
        "  layer.trainable = False"
      ],
      "execution_count": 6,
      "outputs": []
    },
    {
      "cell_type": "markdown",
      "metadata": {
        "id": "Q8ZNyeF4v9FL"
      },
      "source": [
        "Hyperparameters"
      ]
    },
    {
      "cell_type": "code",
      "metadata": {
        "id": "js1kaBFGv9MD"
      },
      "source": [
        "batch_size = 16\n",
        "epochs=50"
      ],
      "execution_count": 7,
      "outputs": []
    },
    {
      "cell_type": "markdown",
      "metadata": {
        "id": "sHw1dYWP_GXV"
      },
      "source": [
        "### Data augmentation"
      ]
    },
    {
      "cell_type": "code",
      "metadata": {
        "id": "qh3pPvvDzvEq"
      },
      "source": [
        "train_datagen = ImageDataGenerator(rescale=1. / 255)\n",
        "\n",
        "validation_datagen = ImageDataGenerator(rescale=1. / 255)\n",
        "\n",
        "test_datagen = ImageDataGenerator(rescale=1. / 255)"
      ],
      "execution_count": 8,
      "outputs": []
    },
    {
      "cell_type": "markdown",
      "metadata": {
        "id": "mfA7Ta99wW_a"
      },
      "source": [
        "Read the images"
      ]
    },
    {
      "cell_type": "code",
      "metadata": {
        "colab": {
          "base_uri": "https://localhost:8080/"
        },
        "id": "c5Fpl71WwXGa",
        "outputId": "cad9473d-e679-46ee-c7c7-447701e6e855"
      },
      "source": [
        "# Flow training images in batches of 20 using train_datagen generator\n",
        "train_generator = train_datagen.flow_from_directory(path_train,\n",
        "                                                    batch_size = batch_size,\n",
        "                                                    class_mode = 'categorical', \n",
        "                                                    target_size = (224, 224))     \n",
        "\n",
        "# Flow validation images in batches of 20 using test_datagen generator\n",
        "validation_generator =  validation_datagen.flow_from_directory( path_validation,\n",
        "                                                          batch_size  = batch_size,\n",
        "                                                          class_mode  = 'categorical', \n",
        "                                                          target_size = (224, 224))\n",
        "\n",
        "test_generator =  test_datagen.flow_from_directory( path_test,\n",
        "                                                          batch_size  = batch_size,\n",
        "                                                          class_mode  = 'categorical', \n",
        "                                                          target_size = (224, 224))"
      ],
      "execution_count": 9,
      "outputs": [
        {
          "output_type": "stream",
          "name": "stdout",
          "text": [
            "Found 131 images belonging to 2 classes.\n",
            "Found 21 images belonging to 2 classes.\n",
            "Found 27 images belonging to 2 classes.\n"
          ]
        }
      ]
    },
    {
      "cell_type": "markdown",
      "metadata": {
        "id": "JV5TTVwGtY1p"
      },
      "source": [
        "Hyper-parameters"
      ]
    },
    {
      "cell_type": "code",
      "metadata": {
        "id": "fcNysNaZtY74"
      },
      "source": [
        "number_of_neurons = 500\n",
        "number_of_classes = validation_generator.class_indices"
      ],
      "execution_count": 10,
      "outputs": []
    },
    {
      "cell_type": "markdown",
      "metadata": {
        "id": "Qh_m54z-5VW8"
      },
      "source": [
        "Lets see some samples"
      ]
    },
    {
      "cell_type": "code",
      "metadata": {
        "id": "mDvSxorK_GXV"
      },
      "source": [
        "model = Sequential()\n",
        "\n",
        "model.add(pre_trained_model)\n",
        "model.add(GlobalAveragePooling2D())\n",
        "model.add(Flatten())\n",
        "\n",
        "model.add(Dense(number_of_neurons))\n",
        "model.add(Activation(\"relu\"))\n",
        "model.add(Dropout(0.2))\n",
        "model.add(Dense(2))\n",
        "\n",
        "model.add(Activation(\"softmax\"))"
      ],
      "execution_count": 11,
      "outputs": []
    },
    {
      "cell_type": "code",
      "metadata": {
        "id": "sqeVzAQhsj6i"
      },
      "source": [
        "#sgd = SGD(learning_rate=0.001,decay=1e-6,  nesterov=True)\n",
        "\n",
        "f1_score = tfa.metrics.F1Score(num_classes=2, average='macro',threshold=0.5)\n",
        "\n",
        "#model.compile(optimizer = sgd, \n",
        "#              loss = 'categorical_crossentropy', \n",
        "#              metrics = 'accuracy')\n",
        "            #metrics = ['accuracy',f1_score])\n",
        "\n",
        "model.compile(optimizer = tf.keras.optimizers.Adam(learning_rate=0.00001,decay=0.01), \n",
        "              loss = 'categorical_crossentropy', \n",
        "              metrics = ['accuracy',f1_score])\n",
        "            #metrics = ['accuracy',f1_score])"
      ],
      "execution_count": 12,
      "outputs": []
    },
    {
      "cell_type": "code",
      "metadata": {
        "id": "c9zT6oaF_GXX",
        "colab": {
          "base_uri": "https://localhost:8080/"
        },
        "outputId": "e860a234-f7ca-4695-8525-3f1318bc93c6"
      },
      "source": [
        "history_fine = model.fit(train_generator,\n",
        "                         epochs=epochs,\n",
        "                         validation_data=validation_generator\n",
        "                         #initial_epoch=history.epoch[-1],\n",
        "                         )"
      ],
      "execution_count": 13,
      "outputs": [
        {
          "output_type": "stream",
          "name": "stdout",
          "text": [
            "Epoch 1/50\n",
            "9/9 [==============================] - 18s 437ms/step - loss: 0.8278 - accuracy: 0.5573 - f1_score: 0.5573 - val_loss: 0.5091 - val_accuracy: 0.6667 - val_f1_score: 0.6667\n",
            "Epoch 2/50\n",
            "9/9 [==============================] - 1s 88ms/step - loss: 0.5651 - accuracy: 0.7176 - f1_score: 0.7176 - val_loss: 0.4289 - val_accuracy: 0.8571 - val_f1_score: 0.8571\n",
            "Epoch 3/50\n",
            "9/9 [==============================] - 1s 88ms/step - loss: 0.5190 - accuracy: 0.7328 - f1_score: 0.7328 - val_loss: 0.3911 - val_accuracy: 0.9048 - val_f1_score: 0.9048\n",
            "Epoch 4/50\n",
            "9/9 [==============================] - 1s 89ms/step - loss: 0.4991 - accuracy: 0.7557 - f1_score: 0.7557 - val_loss: 0.3614 - val_accuracy: 0.9524 - val_f1_score: 0.9524\n",
            "Epoch 5/50\n",
            "9/9 [==============================] - 1s 90ms/step - loss: 0.4317 - accuracy: 0.8397 - f1_score: 0.8397 - val_loss: 0.3349 - val_accuracy: 0.9524 - val_f1_score: 0.9524\n",
            "Epoch 6/50\n",
            "9/9 [==============================] - 1s 97ms/step - loss: 0.4197 - accuracy: 0.8626 - f1_score: 0.8626 - val_loss: 0.3124 - val_accuracy: 0.9524 - val_f1_score: 0.9524\n",
            "Epoch 7/50\n",
            "9/9 [==============================] - 1s 86ms/step - loss: 0.3848 - accuracy: 0.8550 - f1_score: 0.8550 - val_loss: 0.2918 - val_accuracy: 0.9524 - val_f1_score: 0.9524\n",
            "Epoch 8/50\n",
            "9/9 [==============================] - 1s 87ms/step - loss: 0.3330 - accuracy: 0.9008 - f1_score: 0.9008 - val_loss: 0.2741 - val_accuracy: 0.9524 - val_f1_score: 0.9524\n",
            "Epoch 9/50\n",
            "9/9 [==============================] - 1s 87ms/step - loss: 0.3201 - accuracy: 0.8931 - f1_score: 0.8931 - val_loss: 0.2600 - val_accuracy: 0.9524 - val_f1_score: 0.9524\n",
            "Epoch 10/50\n",
            "9/9 [==============================] - 1s 90ms/step - loss: 0.3167 - accuracy: 0.9084 - f1_score: 0.9084 - val_loss: 0.2478 - val_accuracy: 0.9524 - val_f1_score: 0.9524\n",
            "Epoch 11/50\n",
            "9/9 [==============================] - 1s 90ms/step - loss: 0.2852 - accuracy: 0.9542 - f1_score: 0.9542 - val_loss: 0.2369 - val_accuracy: 0.9524 - val_f1_score: 0.9524\n",
            "Epoch 12/50\n",
            "9/9 [==============================] - 1s 91ms/step - loss: 0.2619 - accuracy: 0.9771 - f1_score: 0.9771 - val_loss: 0.2274 - val_accuracy: 0.9524 - val_f1_score: 0.9524\n",
            "Epoch 13/50\n",
            "9/9 [==============================] - 1s 86ms/step - loss: 0.2523 - accuracy: 0.9542 - f1_score: 0.9542 - val_loss: 0.2191 - val_accuracy: 0.9524 - val_f1_score: 0.9524\n",
            "Epoch 14/50\n",
            "9/9 [==============================] - 1s 91ms/step - loss: 0.2608 - accuracy: 0.9695 - f1_score: 0.9695 - val_loss: 0.2115 - val_accuracy: 1.0000 - val_f1_score: 1.0000\n",
            "Epoch 15/50\n",
            "9/9 [==============================] - 1s 87ms/step - loss: 0.2397 - accuracy: 0.9466 - f1_score: 0.9466 - val_loss: 0.2042 - val_accuracy: 1.0000 - val_f1_score: 1.0000\n",
            "Epoch 16/50\n",
            "9/9 [==============================] - 1s 91ms/step - loss: 0.2343 - accuracy: 0.9695 - f1_score: 0.9695 - val_loss: 0.1977 - val_accuracy: 1.0000 - val_f1_score: 1.0000\n",
            "Epoch 17/50\n",
            "9/9 [==============================] - 1s 87ms/step - loss: 0.2332 - accuracy: 0.9466 - f1_score: 0.9466 - val_loss: 0.1921 - val_accuracy: 1.0000 - val_f1_score: 1.0000\n",
            "Epoch 18/50\n",
            "9/9 [==============================] - 1s 91ms/step - loss: 0.2251 - accuracy: 0.9847 - f1_score: 0.9847 - val_loss: 0.1866 - val_accuracy: 1.0000 - val_f1_score: 1.0000\n",
            "Epoch 19/50\n",
            "9/9 [==============================] - 1s 88ms/step - loss: 0.2210 - accuracy: 0.9771 - f1_score: 0.9771 - val_loss: 0.1812 - val_accuracy: 1.0000 - val_f1_score: 1.0000\n",
            "Epoch 20/50\n",
            "9/9 [==============================] - 1s 86ms/step - loss: 0.2118 - accuracy: 0.9771 - f1_score: 0.9771 - val_loss: 0.1761 - val_accuracy: 1.0000 - val_f1_score: 1.0000\n",
            "Epoch 21/50\n",
            "9/9 [==============================] - 1s 84ms/step - loss: 0.1953 - accuracy: 0.9771 - f1_score: 0.9771 - val_loss: 0.1716 - val_accuracy: 1.0000 - val_f1_score: 1.0000\n",
            "Epoch 22/50\n",
            "9/9 [==============================] - 1s 91ms/step - loss: 0.1875 - accuracy: 0.9924 - f1_score: 0.9924 - val_loss: 0.1676 - val_accuracy: 1.0000 - val_f1_score: 1.0000\n",
            "Epoch 23/50\n",
            "9/9 [==============================] - 1s 87ms/step - loss: 0.1817 - accuracy: 0.9847 - f1_score: 0.9847 - val_loss: 0.1637 - val_accuracy: 1.0000 - val_f1_score: 1.0000\n",
            "Epoch 24/50\n",
            "9/9 [==============================] - 1s 89ms/step - loss: 0.1837 - accuracy: 0.9847 - f1_score: 0.9847 - val_loss: 0.1600 - val_accuracy: 1.0000 - val_f1_score: 1.0000\n",
            "Epoch 25/50\n",
            "9/9 [==============================] - 1s 88ms/step - loss: 0.1658 - accuracy: 1.0000 - f1_score: 1.0000 - val_loss: 0.1565 - val_accuracy: 1.0000 - val_f1_score: 1.0000\n",
            "Epoch 26/50\n",
            "9/9 [==============================] - 1s 85ms/step - loss: 0.1776 - accuracy: 0.9771 - f1_score: 0.9771 - val_loss: 0.1534 - val_accuracy: 1.0000 - val_f1_score: 1.0000\n",
            "Epoch 27/50\n",
            "9/9 [==============================] - 1s 89ms/step - loss: 0.1694 - accuracy: 0.9695 - f1_score: 0.9695 - val_loss: 0.1505 - val_accuracy: 1.0000 - val_f1_score: 1.0000\n",
            "Epoch 28/50\n",
            "9/9 [==============================] - 1s 89ms/step - loss: 0.1528 - accuracy: 0.9847 - f1_score: 0.9847 - val_loss: 0.1478 - val_accuracy: 1.0000 - val_f1_score: 1.0000\n",
            "Epoch 29/50\n",
            "9/9 [==============================] - 1s 87ms/step - loss: 0.1624 - accuracy: 1.0000 - f1_score: 1.0000 - val_loss: 0.1452 - val_accuracy: 1.0000 - val_f1_score: 1.0000\n",
            "Epoch 30/50\n",
            "9/9 [==============================] - 1s 86ms/step - loss: 0.1407 - accuracy: 0.9924 - f1_score: 0.9924 - val_loss: 0.1428 - val_accuracy: 1.0000 - val_f1_score: 1.0000\n",
            "Epoch 31/50\n",
            "9/9 [==============================] - 1s 88ms/step - loss: 0.1463 - accuracy: 0.9924 - f1_score: 0.9924 - val_loss: 0.1405 - val_accuracy: 1.0000 - val_f1_score: 1.0000\n",
            "Epoch 32/50\n",
            "9/9 [==============================] - 1s 87ms/step - loss: 0.1506 - accuracy: 0.9924 - f1_score: 0.9924 - val_loss: 0.1382 - val_accuracy: 1.0000 - val_f1_score: 1.0000\n",
            "Epoch 33/50\n",
            "9/9 [==============================] - 1s 90ms/step - loss: 0.1587 - accuracy: 1.0000 - f1_score: 1.0000 - val_loss: 0.1360 - val_accuracy: 1.0000 - val_f1_score: 1.0000\n",
            "Epoch 34/50\n",
            "9/9 [==============================] - 1s 89ms/step - loss: 0.1376 - accuracy: 1.0000 - f1_score: 1.0000 - val_loss: 0.1339 - val_accuracy: 1.0000 - val_f1_score: 1.0000\n",
            "Epoch 35/50\n",
            "9/9 [==============================] - 1s 90ms/step - loss: 0.1329 - accuracy: 0.9924 - f1_score: 0.9924 - val_loss: 0.1319 - val_accuracy: 1.0000 - val_f1_score: 1.0000\n",
            "Epoch 36/50\n",
            "9/9 [==============================] - 1s 90ms/step - loss: 0.1452 - accuracy: 0.9924 - f1_score: 0.9924 - val_loss: 0.1300 - val_accuracy: 1.0000 - val_f1_score: 1.0000\n",
            "Epoch 37/50\n",
            "9/9 [==============================] - 1s 86ms/step - loss: 0.1564 - accuracy: 0.9847 - f1_score: 0.9847 - val_loss: 0.1278 - val_accuracy: 1.0000 - val_f1_score: 1.0000\n",
            "Epoch 38/50\n",
            "9/9 [==============================] - 1s 85ms/step - loss: 0.1280 - accuracy: 0.9924 - f1_score: 0.9924 - val_loss: 0.1259 - val_accuracy: 1.0000 - val_f1_score: 1.0000\n",
            "Epoch 39/50\n",
            "9/9 [==============================] - 1s 90ms/step - loss: 0.1263 - accuracy: 1.0000 - f1_score: 1.0000 - val_loss: 0.1241 - val_accuracy: 1.0000 - val_f1_score: 1.0000\n",
            "Epoch 40/50\n",
            "9/9 [==============================] - 1s 95ms/step - loss: 0.1351 - accuracy: 0.9924 - f1_score: 0.9924 - val_loss: 0.1224 - val_accuracy: 1.0000 - val_f1_score: 1.0000\n",
            "Epoch 41/50\n",
            "9/9 [==============================] - 1s 88ms/step - loss: 0.1170 - accuracy: 1.0000 - f1_score: 1.0000 - val_loss: 0.1208 - val_accuracy: 1.0000 - val_f1_score: 1.0000\n",
            "Epoch 42/50\n",
            "9/9 [==============================] - 1s 87ms/step - loss: 0.1316 - accuracy: 0.9847 - f1_score: 0.9847 - val_loss: 0.1193 - val_accuracy: 1.0000 - val_f1_score: 1.0000\n",
            "Epoch 43/50\n",
            "9/9 [==============================] - 1s 92ms/step - loss: 0.1155 - accuracy: 0.9924 - f1_score: 0.9924 - val_loss: 0.1178 - val_accuracy: 1.0000 - val_f1_score: 1.0000\n",
            "Epoch 44/50\n",
            "9/9 [==============================] - 1s 88ms/step - loss: 0.1208 - accuracy: 1.0000 - f1_score: 1.0000 - val_loss: 0.1164 - val_accuracy: 1.0000 - val_f1_score: 1.0000\n",
            "Epoch 45/50\n",
            "9/9 [==============================] - 1s 87ms/step - loss: 0.1207 - accuracy: 0.9924 - f1_score: 0.9924 - val_loss: 0.1150 - val_accuracy: 1.0000 - val_f1_score: 1.0000\n",
            "Epoch 46/50\n",
            "9/9 [==============================] - 1s 170ms/step - loss: 0.1111 - accuracy: 1.0000 - f1_score: 1.0000 - val_loss: 0.1137 - val_accuracy: 1.0000 - val_f1_score: 1.0000\n",
            "Epoch 47/50\n",
            "9/9 [==============================] - 2s 186ms/step - loss: 0.1170 - accuracy: 1.0000 - f1_score: 1.0000 - val_loss: 0.1124 - val_accuracy: 1.0000 - val_f1_score: 1.0000\n",
            "Epoch 48/50\n",
            "9/9 [==============================] - 1s 121ms/step - loss: 0.1120 - accuracy: 0.9924 - f1_score: 0.9924 - val_loss: 0.1111 - val_accuracy: 1.0000 - val_f1_score: 1.0000\n",
            "Epoch 49/50\n",
            "9/9 [==============================] - 1s 92ms/step - loss: 0.1291 - accuracy: 0.9771 - f1_score: 0.9771 - val_loss: 0.1099 - val_accuracy: 1.0000 - val_f1_score: 1.0000\n",
            "Epoch 50/50\n",
            "9/9 [==============================] - 1s 95ms/step - loss: 0.1060 - accuracy: 0.9924 - f1_score: 0.9924 - val_loss: 0.1088 - val_accuracy: 1.0000 - val_f1_score: 1.0000\n"
          ]
        }
      ]
    },
    {
      "cell_type": "code",
      "metadata": {
        "id": "1WFZwVEg_GXb"
      },
      "source": [
        "#f1 = history_fine.history['f1_score']\n",
        "#val_f1 = history_fine.history['val_f1_score']\n",
        "\n",
        "#plt.figure(figsize=(8, 8))\n",
        "#plt.subplot(2, 1, 1)\n",
        "#plt.plot(f1, label='Training F1-Score')\n",
        "#plt.plot(val_f1, label='Validation F1-Score')\n",
        "#plt.legend(loc='lower right')\n",
        "#plt.ylabel('F1-Score')\n",
        "#plt.ylim([min(plt.ylim()),1])\n",
        "#plt.title('Training and Validation F1-Score')\n"
      ],
      "execution_count": 14,
      "outputs": []
    },
    {
      "cell_type": "code",
      "source": [
        "f1 = history_fine.history['accuracy']\n",
        "val_f1 = history_fine.history['val_accuracy']\n",
        "\n",
        "plt.figure(figsize=(8, 8))\n",
        "plt.subplot(2, 1, 1)\n",
        "plt.plot(f1, label='Training F1-Score')\n",
        "plt.plot(val_f1, label='Validation F1-Score')\n",
        "plt.legend(loc='lower right')\n",
        "plt.ylabel('F1-Score')\n",
        "plt.ylim([min(plt.ylim()),1])\n",
        "plt.title('Training and Validation F1-Score')\n"
      ],
      "metadata": {
        "colab": {
          "base_uri": "https://localhost:8080/",
          "height": 279
        },
        "id": "fOSIrhK5g1ZF",
        "outputId": "19bead57-2cbc-42d4-9ef2-faa1369b6f67"
      },
      "execution_count": 15,
      "outputs": [
        {
          "output_type": "execute_result",
          "data": {
            "text/plain": [
              "Text(0.5, 1.0, 'Training and Validation F1-Score')"
            ]
          },
          "metadata": {},
          "execution_count": 15
        },
        {
          "output_type": "display_data",
          "data": {
            "image/png": "[encoded data removed]",
            "text/plain": [
              "<Figure size 576x576 with 1 Axes>"
            ]
          },
          "metadata": {
            "needs_background": "light"
          }
        }
      ]
    },
    {
      "cell_type": "code",
      "metadata": {
        "id": "Q8ENVvZSrKrS",
        "colab": {
          "base_uri": "https://localhost:8080/",
          "height": 295
        },
        "outputId": "874497af-48a3-4c96-a0af-639dfcf7087b"
      },
      "source": [
        "loss = history_fine.history['loss']\n",
        "val_loss = history_fine.history['val_loss']\n",
        "\n",
        "plt.plot(history_fine.history['loss'])\n",
        "plt.plot(history_fine.history['val_loss'])\n",
        "plt.title('model loss')\n",
        "plt.ylabel('loss')\n",
        "plt.xlabel('epoch')\n",
        "plt.legend(['training set', 'validation set'], loc='upper left')\n",
        "plt.show()"
      ],
      "execution_count": 16,
      "outputs": [
        {
          "output_type": "display_data",
          "data": {
            "image/png": "[encoded data removed]",
            "text/plain": [
              "<Figure size 432x288 with 1 Axes>"
            ]
          },
          "metadata": {
            "needs_background": "light"
          }
        }
      ]
    },
    {
      "cell_type": "code",
      "source": [
        "score = model.evaluate(test_generator,batch_size=batch_size) \n",
        "print(f'Test loss: {score[0]} / Test accuracy: {score[1]}')"
      ],
      "metadata": {
        "colab": {
          "base_uri": "https://localhost:8080/"
        },
        "id": "g2VR_adbrsUp",
        "outputId": "fff72642-c92c-4596-fd92-cb9858f71af0"
      },
      "execution_count": 17,
      "outputs": [
        {
          "output_type": "stream",
          "name": "stdout",
          "text": [
            "2/2 [==============================] - 1s 870ms/step - loss: 0.2350 - accuracy: 0.9259 - f1_score: 0.9259\n",
            "Test loss: 0.23500844836235046 / Test accuracy: 0.9259259104728699\n"
          ]
        }
      ]
    },
    {
      "cell_type": "markdown",
      "metadata": {
        "id": "zFraRq9i9FNA"
      },
      "source": [
        ""
      ]
    },
    {
      "cell_type": "code",
      "metadata": {
        "id": "RXFG_Bn19FTX",
        "colab": {
          "base_uri": "https://localhost:8080/"
        },
        "outputId": "330e7fc5-2142-466c-c2bf-b98919ca4549"
      },
      "source": [
        "#y_prob = model.predict(test_generator,batch_size=batch_size)\n",
        "#y_pred = np.argmax(y_prob,axis=1)\n",
        "\n",
        "y_prob = model.predict(test_generator)\n",
        "y_pred = np.argmax(y_prob,axis=1)\n",
        "#print(pred, labels[np.argmax(pred)])\n",
        "print(classification_report(test_generator.classes,y_pred))"
      ],
      "execution_count": 18,
      "outputs": [
        {
          "output_type": "stream",
          "name": "stdout",
          "text": [
            "              precision    recall  f1-score   support\n",
            "\n",
            "           0       0.64      0.54      0.58        13\n",
            "           1       0.62      0.71      0.67        14\n",
            "\n",
            "    accuracy                           0.63        27\n",
            "   macro avg       0.63      0.63      0.62        27\n",
            "weighted avg       0.63      0.63      0.63        27\n",
            "\n"
          ]
        }
      ]
    },
    {
      "cell_type": "code",
      "source": [
        "y_prob"
      ],
      "metadata": {
        "colab": {
          "base_uri": "https://localhost:8080/"
        },
        "id": "0gCeN5zQyylW",
        "outputId": "1e89ebf6-844c-473c-e028-28e7384a6a13"
      },
      "execution_count": 19,
      "outputs": [
        {
          "output_type": "execute_result",
          "data": {
            "text/plain": [
              "array([[0.80074924, 0.19925082],\n",
              "       [0.41724616, 0.5827538 ],\n",
              "       [0.27566803, 0.724332  ],\n",
              "       [0.06692804, 0.933072  ],\n",
              "       [0.9835186 , 0.0164814 ],\n",
              "       [0.9512508 , 0.04874916],\n",
              "       [0.87821597, 0.12178408],\n",
              "       [0.7744348 , 0.22556517],\n",
              "       [0.29141143, 0.7085886 ],\n",
              "       [0.25272825, 0.7472717 ],\n",
              "       [0.09499696, 0.905003  ],\n",
              "       [0.9928665 , 0.00713343],\n",
              "       [0.9560006 , 0.04399939],\n",
              "       [0.10265617, 0.8973438 ],\n",
              "       [0.06177775, 0.9382223 ],\n",
              "       [0.18808131, 0.8119187 ],\n",
              "       [0.02261621, 0.97738373],\n",
              "       [0.09371529, 0.9062847 ],\n",
              "       [0.6974037 , 0.3025962 ],\n",
              "       [0.02211889, 0.9778811 ],\n",
              "       [0.35685933, 0.6431406 ],\n",
              "       [0.9073029 , 0.09269704],\n",
              "       [0.23216745, 0.7678326 ],\n",
              "       [0.4402146 , 0.55978537],\n",
              "       [0.8618877 , 0.13811226],\n",
              "       [0.29681978, 0.7031802 ],\n",
              "       [0.5439836 , 0.4560164 ]], dtype=float32)"
            ]
          },
          "metadata": {},
          "execution_count": 19
        }
      ]
    },
    {
      "cell_type": "code",
      "source": [
        "test_generator.classes"
      ],
      "metadata": {
        "colab": {
          "base_uri": "https://localhost:8080/"
        },
        "id": "cbxMbryxo31y",
        "outputId": "0762b8f5-5f78-4625-fb05-49e62b55f4f8"
      },
      "execution_count": 20,
      "outputs": [
        {
          "output_type": "execute_result",
          "data": {
            "text/plain": [
              "array([0, 0, 0, 0, 0, 0, 0, 0, 0, 0, 0, 0, 0, 1, 1, 1, 1, 1, 1, 1, 1, 1,\n",
              "       1, 1, 1, 1, 1], dtype=int32)"
            ]
          },
          "metadata": {},
          "execution_count": 20
        }
      ]
    },
    {
      "cell_type": "code",
      "source": [
        "y_pred"
      ],
      "metadata": {
        "colab": {
          "base_uri": "https://localhost:8080/"
        },
        "id": "_C6CCDiayO0g",
        "outputId": "c8a58b77-15cb-44b9-ee6e-644c4c232612"
      },
      "execution_count": 21,
      "outputs": [
        {
          "output_type": "execute_result",
          "data": {
            "text/plain": [
              "array([0, 1, 1, 1, 0, 0, 0, 0, 1, 1, 1, 0, 0, 1, 1, 1, 1, 1, 0, 1, 1, 0,\n",
              "       1, 1, 0, 1, 0])"
            ]
          },
          "metadata": {},
          "execution_count": 21
        }
      ]
    },
    {
      "cell_type": "code",
      "source": [
        "import plotly.figure_factory as ff\n",
        "\n",
        "y_true = test_generator.classes\n",
        "\n",
        "z = confusion_matrix(y_true, y_pred)\n",
        "\n",
        "x = list(test_generator.class_indices.keys())\n",
        "\n",
        "y = list(test_generator.class_indices.keys())\n"
      ],
      "metadata": {
        "id": "5NOZQOgN_DHU"
      },
      "execution_count": 22,
      "outputs": []
    },
    {
      "cell_type": "code",
      "metadata": {
        "id": "EHxUyHkC1URt",
        "colab": {
          "base_uri": "https://localhost:8080/",
          "height": 542
        },
        "outputId": "a6b24b7e-d8d0-402e-9df7-86fdf013bdb9"
      },
      "source": [
        "# change each element of z to type string for annotations\n",
        "z_text = [[str(y) for y in x] for x in z]\n",
        "\n",
        "# set up figure \n",
        "fig = ff.create_annotated_heatmap(z, x=x, y=y, annotation_text=z_text, colorscale='Viridis')\n",
        "\n",
        "# add title\n",
        "fig.update_layout(title_text='<i><b>Confusion matrix</b></i>',\n",
        "                  #xaxis = dict(title='x'),\n",
        "                  #yaxis = dict(title='x')\n",
        "                 )\n",
        "\n",
        "# add custom xaxis title\n",
        "fig.add_annotation(dict(font=dict(color=\"black\",size=14),\n",
        "                        x=0.5,\n",
        "                        y=-0.15,\n",
        "                        showarrow=False,\n",
        "                        text=\"Predicted value\",\n",
        "                        xref=\"paper\",\n",
        "                        yref=\"paper\"))\n",
        "\n",
        "# add custom yaxis title\n",
        "fig.add_annotation(dict(font=dict(color=\"black\",size=14),\n",
        "                        x=-0.35,\n",
        "                        y=0.5,\n",
        "                        showarrow=False,\n",
        "                        text=\"Real value\",\n",
        "                        textangle=-90,\n",
        "                        xref=\"paper\",\n",
        "                        yref=\"paper\"))\n",
        "\n",
        "# adjust margins to make room for yaxis title\n",
        "fig.update_layout(margin=dict(t=50, l=200))\n",
        "\n",
        "# add colorbar\n",
        "fig['data'][0]['showscale'] = True\n",
        "fig.show()"
      ],
      "execution_count": 23,
      "outputs": [
        {
          "output_type": "display_data",
          "data": {
            "text/html": [
              "<html>\n",
              "<head><meta charset=\"utf-8\" /></head>\n",
              "<body>\n",
              "    <div>            <script src=\"https://cdnjs.cloudflare.com/ajax/libs/mathjax/2.7.5/MathJax.js?config=TeX-AMS-MML_SVG\"></script><script type=\"text/javascript\">if (window.MathJax) {MathJax.Hub.Config({SVG: {font: \"STIX-Web\"}});}</script>                <script type=\"text/javascript\">window.PlotlyConfig = {MathJaxConfig: 'local'};</script>\n",
              "        <script src=\"https://cdn.plot.ly/plotly-2.8.3.min.js\"></script>                <div id=\"1e93d113-7a37-41b0-816e-4ad9059a8776\" class=\"plotly-graph-div\" style=\"height:525px; width:100%;\"></div>            <script type=\"text/javascript\">                                    window.PLOTLYENV=window.PLOTLYENV || {};                                    if (document.getElementById(\"1e93d113-7a37-41b0-816e-4ad9059a8776\")) {                    Plotly.newPlot(                        \"1e93d113-7a37-41b0-816e-4ad9059a8776\",                        [{\"colorscale\":[[0.0,\"#440154\"],[0.1111111111111111,\"#482878\"],[0.2222222222222222,\"#3e4989\"],[0.3333333333333333,\"#31688e\"],[0.4444444444444444,\"#26828e\"],[0.5555555555555556,\"#1f9e89\"],[0.6666666666666666,\"#35b779\"],[0.7777777777777778,\"#6ece58\"],[0.8888888888888888,\"#b5de2b\"],[1.0,\"#fde725\"]],\"reversescale\":false,\"showscale\":true,\"x\":[\"monorapgriff\",\"selenastrumbrib\"],\"y\":[\"monorapgriff\",\"selenastrumbrib\"],\"z\":[[7,6],[4,10]],\"type\":\"heatmap\"}],                        {\"annotations\":[{\"font\":{\"color\":\"#000000\"},\"showarrow\":false,\"text\":\"7\",\"x\":\"monorapgriff\",\"xref\":\"x\",\"y\":\"monorapgriff\",\"yref\":\"y\"},{\"font\":{\"color\":\"#FFFFFF\"},\"showarrow\":false,\"text\":\"6\",\"x\":\"selenastrumbrib\",\"xref\":\"x\",\"y\":\"monorapgriff\",\"yref\":\"y\"},{\"font\":{\"color\":\"#FFFFFF\"},\"showarrow\":false,\"text\":\"4\",\"x\":\"monorapgriff\",\"xref\":\"x\",\"y\":\"selenastrumbrib\",\"yref\":\"y\"},{\"font\":{\"color\":\"#000000\"},\"showarrow\":false,\"text\":\"10\",\"x\":\"selenastrumbrib\",\"xref\":\"x\",\"y\":\"selenastrumbrib\",\"yref\":\"y\"},{\"font\":{\"color\":\"black\",\"size\":14},\"showarrow\":false,\"text\":\"Predicted value\",\"x\":0.5,\"xref\":\"paper\",\"y\":-0.15,\"yref\":\"paper\"},{\"font\":{\"color\":\"black\",\"size\":14},\"showarrow\":false,\"text\":\"Real value\",\"textangle\":-90,\"x\":-0.35,\"xref\":\"paper\",\"y\":0.5,\"yref\":\"paper\"}],\"xaxis\":{\"dtick\":1,\"gridcolor\":\"rgb(0, 0, 0)\",\"side\":\"top\",\"ticks\":\"\"},\"yaxis\":{\"dtick\":1,\"ticks\":\"\",\"ticksuffix\":\"  \"},\"template\":{\"data\":{\"bar\":[{\"error_x\":{\"color\":\"#2a3f5f\"},\"error_y\":{\"color\":\"#2a3f5f\"},\"marker\":{\"line\":{\"color\":\"#E5ECF6\",\"width\":0.5},\"pattern\":{\"fillmode\":\"overlay\",\"size\":10,\"solidity\":0.2}},\"type\":\"bar\"}],\"barpolar\":[{\"marker\":{\"line\":{\"color\":\"#E5ECF6\",\"width\":0.5},\"pattern\":{\"fillmode\":\"overlay\",\"size\":10,\"solidity\":0.2}},\"type\":\"barpolar\"}],\"carpet\":[{\"aaxis\":{\"endlinecolor\":\"#2a3f5f\",\"gridcolor\":\"white\",\"linecolor\":\"white\",\"minorgridcolor\":\"white\",\"startlinecolor\":\"#2a3f5f\"},\"baxis\":{\"endlinecolor\":\"#2a3f5f\",\"gridcolor\":\"white\",\"linecolor\":\"white\",\"minorgridcolor\":\"white\",\"startlinecolor\":\"#2a3f5f\"},\"type\":\"carpet\"}],\"choropleth\":[{\"colorbar\":{\"outlinewidth\":0,\"ticks\":\"\"},\"type\":\"choropleth\"}],\"contour\":[{\"colorbar\":{\"outlinewidth\":0,\"ticks\":\"\"},\"colorscale\":[[0.0,\"#0d0887\"],[0.1111111111111111,\"#46039f\"],[0.2222222222222222,\"#7201a8\"],[0.3333333333333333,\"#9c179e\"],[0.4444444444444444,\"#bd3786\"],[0.5555555555555556,\"#d8576b\"],[0.6666666666666666,\"#ed7953\"],[0.7777777777777778,\"#fb9f3a\"],[0.8888888888888888,\"#fdca26\"],[1.0,\"#f0f921\"]],\"type\":\"contour\"}],\"contourcarpet\":[{\"colorbar\":{\"outlinewidth\":0,\"ticks\":\"\"},\"type\":\"contourcarpet\"}],\"heatmap\":[{\"colorbar\":{\"outlinewidth\":0,\"ticks\":\"\"},\"colorscale\":[[0.0,\"#0d0887\"],[0.1111111111111111,\"#46039f\"],[0.2222222222222222,\"#7201a8\"],[0.3333333333333333,\"#9c179e\"],[0.4444444444444444,\"#bd3786\"],[0.5555555555555556,\"#d8576b\"],[0.6666666666666666,\"#ed7953\"],[0.7777777777777778,\"#fb9f3a\"],[0.8888888888888888,\"#fdca26\"],[1.0,\"#f0f921\"]],\"type\":\"heatmap\"}],\"heatmapgl\":[{\"colorbar\":{\"outlinewidth\":0,\"ticks\":\"\"},\"colorscale\":[[0.0,\"#0d0887\"],[0.1111111111111111,\"#46039f\"],[0.2222222222222222,\"#7201a8\"],[0.3333333333333333,\"#9c179e\"],[0.4444444444444444,\"#bd3786\"],[0.5555555555555556,\"#d8576b\"],[0.6666666666666666,\"#ed7953\"],[0.7777777777777778,\"#fb9f3a\"],[0.8888888888888888,\"#fdca26\"],[1.0,\"#f0f921\"]],\"type\":\"heatmapgl\"}],\"histogram\":[{\"marker\":{\"pattern\":{\"fillmode\":\"overlay\",\"size\":10,\"solidity\":0.2}},\"type\":\"histogram\"}],\"histogram2d\":[{\"colorbar\":{\"outlinewidth\":0,\"ticks\":\"\"},\"colorscale\":[[0.0,\"#0d0887\"],[0.1111111111111111,\"#46039f\"],[0.2222222222222222,\"#7201a8\"],[0.3333333333333333,\"#9c179e\"],[0.4444444444444444,\"#bd3786\"],[0.5555555555555556,\"#d8576b\"],[0.6666666666666666,\"#ed7953\"],[0.7777777777777778,\"#fb9f3a\"],[0.8888888888888888,\"#fdca26\"],[1.0,\"#f0f921\"]],\"type\":\"histogram2d\"}],\"histogram2dcontour\":[{\"colorbar\":{\"outlinewidth\":0,\"ticks\":\"\"},\"colorscale\":[[0.0,\"#0d0887\"],[0.1111111111111111,\"#46039f\"],[0.2222222222222222,\"#7201a8\"],[0.3333333333333333,\"#9c179e\"],[0.4444444444444444,\"#bd3786\"],[0.5555555555555556,\"#d8576b\"],[0.6666666666666666,\"#ed7953\"],[0.7777777777777778,\"#fb9f3a\"],[0.8888888888888888,\"#fdca26\"],[1.0,\"#f0f921\"]],\"type\":\"histogram2dcontour\"}],\"mesh3d\":[{\"colorbar\":{\"outlinewidth\":0,\"ticks\":\"\"},\"type\":\"mesh3d\"}],\"parcoords\":[{\"line\":{\"colorbar\":{\"outlinewidth\":0,\"ticks\":\"\"}},\"type\":\"parcoords\"}],\"pie\":[{\"automargin\":true,\"type\":\"pie\"}],\"scatter\":[{\"marker\":{\"colorbar\":{\"outlinewidth\":0,\"ticks\":\"\"}},\"type\":\"scatter\"}],\"scatter3d\":[{\"line\":{\"colorbar\":{\"outlinewidth\":0,\"ticks\":\"\"}},\"marker\":{\"colorbar\":{\"outlinewidth\":0,\"ticks\":\"\"}},\"type\":\"scatter3d\"}],\"scattercarpet\":[{\"marker\":{\"colorbar\":{\"outlinewidth\":0,\"ticks\":\"\"}},\"type\":\"scattercarpet\"}],\"scattergeo\":[{\"marker\":{\"colorbar\":{\"outlinewidth\":0,\"ticks\":\"\"}},\"type\":\"scattergeo\"}],\"scattergl\":[{\"marker\":{\"colorbar\":{\"outlinewidth\":0,\"ticks\":\"\"}},\"type\":\"scattergl\"}],\"scattermapbox\":[{\"marker\":{\"colorbar\":{\"outlinewidth\":0,\"ticks\":\"\"}},\"type\":\"scattermapbox\"}],\"scatterpolar\":[{\"marker\":{\"colorbar\":{\"outlinewidth\":0,\"ticks\":\"\"}},\"type\":\"scatterpolar\"}],\"scatterpolargl\":[{\"marker\":{\"colorbar\":{\"outlinewidth\":0,\"ticks\":\"\"}},\"type\":\"scatterpolargl\"}],\"scatterternary\":[{\"marker\":{\"colorbar\":{\"outlinewidth\":0,\"ticks\":\"\"}},\"type\":\"scatterternary\"}],\"surface\":[{\"colorbar\":{\"outlinewidth\":0,\"ticks\":\"\"},\"colorscale\":[[0.0,\"#0d0887\"],[0.1111111111111111,\"#46039f\"],[0.2222222222222222,\"#7201a8\"],[0.3333333333333333,\"#9c179e\"],[0.4444444444444444,\"#bd3786\"],[0.5555555555555556,\"#d8576b\"],[0.6666666666666666,\"#ed7953\"],[0.7777777777777778,\"#fb9f3a\"],[0.8888888888888888,\"#fdca26\"],[1.0,\"#f0f921\"]],\"type\":\"surface\"}],\"table\":[{\"cells\":{\"fill\":{\"color\":\"#EBF0F8\"},\"line\":{\"color\":\"white\"}},\"header\":{\"fill\":{\"color\":\"#C8D4E3\"},\"line\":{\"color\":\"white\"}},\"type\":\"table\"}]},\"layout\":{\"annotationdefaults\":{\"arrowcolor\":\"#2a3f5f\",\"arrowhead\":0,\"arrowwidth\":1},\"autotypenumbers\":\"strict\",\"coloraxis\":{\"colorbar\":{\"outlinewidth\":0,\"ticks\":\"\"}},\"colorscale\":{\"diverging\":[[0,\"#8e0152\"],[0.1,\"#c51b7d\"],[0.2,\"#de77ae\"],[0.3,\"#f1b6da\"],[0.4,\"#fde0ef\"],[0.5,\"#f7f7f7\"],[0.6,\"#e6f5d0\"],[0.7,\"#b8e186\"],[0.8,\"#7fbc41\"],[0.9,\"#4d9221\"],[1,\"#276419\"]],\"sequential\":[[0.0,\"#0d0887\"],[0.1111111111111111,\"#46039f\"],[0.2222222222222222,\"#7201a8\"],[0.3333333333333333,\"#9c179e\"],[0.4444444444444444,\"#bd3786\"],[0.5555555555555556,\"#d8576b\"],[0.6666666666666666,\"#ed7953\"],[0.7777777777777778,\"#fb9f3a\"],[0.8888888888888888,\"#fdca26\"],[1.0,\"#f0f921\"]],\"sequentialminus\":[[0.0,\"#0d0887\"],[0.1111111111111111,\"#46039f\"],[0.2222222222222222,\"#7201a8\"],[0.3333333333333333,\"#9c179e\"],[0.4444444444444444,\"#bd3786\"],[0.5555555555555556,\"#d8576b\"],[0.6666666666666666,\"#ed7953\"],[0.7777777777777778,\"#fb9f3a\"],[0.8888888888888888,\"#fdca26\"],[1.0,\"#f0f921\"]]},\"colorway\":[\"#636efa\",\"#EF553B\",\"#00cc96\",\"#ab63fa\",\"#FFA15A\",\"#19d3f3\",\"#FF6692\",\"#B6E880\",\"#FF97FF\",\"#FECB52\"],\"font\":{\"color\":\"#2a3f5f\"},\"geo\":{\"bgcolor\":\"white\",\"lakecolor\":\"white\",\"landcolor\":\"#E5ECF6\",\"showlakes\":true,\"showland\":true,\"subunitcolor\":\"white\"},\"hoverlabel\":{\"align\":\"left\"},\"hovermode\":\"closest\",\"mapbox\":{\"style\":\"light\"},\"paper_bgcolor\":\"white\",\"plot_bgcolor\":\"#E5ECF6\",\"polar\":{\"angularaxis\":{\"gridcolor\":\"white\",\"linecolor\":\"white\",\"ticks\":\"\"},\"bgcolor\":\"#E5ECF6\",\"radialaxis\":{\"gridcolor\":\"white\",\"linecolor\":\"white\",\"ticks\":\"\"}},\"scene\":{\"xaxis\":{\"backgroundcolor\":\"#E5ECF6\",\"gridcolor\":\"white\",\"gridwidth\":2,\"linecolor\":\"white\",\"showbackground\":true,\"ticks\":\"\",\"zerolinecolor\":\"white\"},\"yaxis\":{\"backgroundcolor\":\"#E5ECF6\",\"gridcolor\":\"white\",\"gridwidth\":2,\"linecolor\":\"white\",\"showbackground\":true,\"ticks\":\"\",\"zerolinecolor\":\"white\"},\"zaxis\":{\"backgroundcolor\":\"#E5ECF6\",\"gridcolor\":\"white\",\"gridwidth\":2,\"linecolor\":\"white\",\"showbackground\":true,\"ticks\":\"\",\"zerolinecolor\":\"white\"}},\"shapedefaults\":{\"line\":{\"color\":\"#2a3f5f\"}},\"ternary\":{\"aaxis\":{\"gridcolor\":\"white\",\"linecolor\":\"white\",\"ticks\":\"\"},\"baxis\":{\"gridcolor\":\"white\",\"linecolor\":\"white\",\"ticks\":\"\"},\"bgcolor\":\"#E5ECF6\",\"caxis\":{\"gridcolor\":\"white\",\"linecolor\":\"white\",\"ticks\":\"\"}},\"title\":{\"x\":0.05},\"xaxis\":{\"automargin\":true,\"gridcolor\":\"white\",\"linecolor\":\"white\",\"ticks\":\"\",\"title\":{\"standoff\":15},\"zerolinecolor\":\"white\",\"zerolinewidth\":2},\"yaxis\":{\"automargin\":true,\"gridcolor\":\"white\",\"linecolor\":\"white\",\"ticks\":\"\",\"title\":{\"standoff\":15},\"zerolinecolor\":\"white\",\"zerolinewidth\":2}}},\"title\":{\"text\":\"<i><b>Confusion matrix</b></i>\"},\"margin\":{\"t\":50,\"l\":200}},                        {\"responsive\": true}                    ).then(function(){\n",
              "                            \n",
              "var gd = document.getElementById('1e93d113-7a37-41b0-816e-4ad9059a8776');\n",
              "var x = new MutationObserver(function (mutations, observer) {{\n",
              "        var display = window.getComputedStyle(gd).display;\n",
              "        if (!display || display === 'none') {{\n",
              "            console.log([gd, 'removed!']);\n",
              "            Plotly.purge(gd);\n",
              "            observer.disconnect();\n",
              "        }}\n",
              "}});\n",
              "\n",
              "// Listen for the removal of the full notebook cells\n",
              "var notebookContainer = gd.closest('#notebook-container');\n",
              "if (notebookContainer) {{\n",
              "    x.observe(notebookContainer, {childList: true});\n",
              "}}\n",
              "\n",
              "// Listen for the clearing of the current output cell\n",
              "var outputEl = gd.closest('.output');\n",
              "if (outputEl) {{\n",
              "    x.observe(outputEl, {childList: true});\n",
              "}}\n",
              "\n",
              "                        })                };                            </script>        </div>\n",
              "</body>\n",
              "</html>"
            ]
          },
          "metadata": {}
        }
      ]
    }
  ]
}