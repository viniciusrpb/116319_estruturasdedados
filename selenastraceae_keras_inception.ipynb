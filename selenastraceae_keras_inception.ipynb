{
  "nbformat": 4,
  "nbformat_minor": 0,
  "metadata": {
    "kernelspec": {
      "display_name": "Python 3",
      "language": "python",
      "name": "python3"
    },
    "language_info": {
      "codemirror_mode": {
        "name": "ipython",
        "version": 3
      },
      "file_extension": ".py",
      "mimetype": "text/x-python",
      "name": "python",
      "nbconvert_exporter": "python",
      "pygments_lexer": "ipython3",
      "version": "3.6.10"
    },
    "colab": {
      "provenance": [],
      "include_colab_link": true
    },
    "accelerator": "GPU"
  },
  "cells": [
    {
      "cell_type": "markdown",
      "metadata": {
        "id": "view-in-github",
        "colab_type": "text"
      },
      "source": [
        "<a href=\"https://colab.research.google.com/github/viniciusrpb/116319_estruturasdedados/blob/main/selenastraceae_keras_inception.ipynb\" target=\"_parent\"><img src=\"https://colab.research.google.com/assets/colab-badge.svg\" alt=\"Open In Colab\"/></a>"
      ]
    },
    {
      "cell_type": "code",
      "metadata": {
        "id": "Lf68PvvD_GXN"
      },
      "source": [
        "#from google.colab import drive\n",
        "#drive.mount('/content/drive')"
      ],
      "execution_count": 1,
      "outputs": []
    },
    {
      "cell_type": "markdown",
      "source": [
        "# New Section"
      ],
      "metadata": {
        "id": "uSEdHGn26Hzg"
      }
    },
    {
      "cell_type": "code",
      "metadata": {
        "id": "6o0SMmf8z9qD"
      },
      "source": [
        "#!pip install tensorflow_addons"
      ],
      "execution_count": 2,
      "outputs": []
    },
    {
      "cell_type": "code",
      "metadata": {
        "id": "voJBV5X_g0B6"
      },
      "source": [
        "#!cp -r \"/content/drive/My Drive/alga/dataset\" \"selenastraceae\"\n",
        "path_data = \"selenastraceae\""
      ],
      "execution_count": 3,
      "outputs": []
    },
    {
      "cell_type": "code",
      "metadata": {
        "id": "W384maMHy7Yc",
        "colab": {
          "base_uri": "https://localhost:8080/"
        },
        "outputId": "85daa573-4c89-49cf-b67d-1dbea2aa24cc"
      },
      "source": [
        "from tensorflow.keras.models import Sequential\n",
        "from keras.layers import Dense,GlobalAveragePooling2D ,MaxPooling2D,Activation,Flatten,Conv2D,BatchNormalization,Dropout, Input\n",
        "from tensorflow.keras.losses import sparse_categorical_crossentropy\n",
        "from tensorflow.keras.optimizers import SGD,Adam,RMSprop\n",
        "from sklearn.model_selection import KFold, StratifiedKFold\n",
        "from tensorflow.keras.preprocessing.image import ImageDataGenerator\n",
        "from tensorflow.keras.callbacks import EarlyStopping\n",
        "from tensorflow.keras.applications.resnet50 import ResNet50\n",
        "from tensorflow.keras.applications.vgg16 import VGG16\n",
        "from tensorflow.keras.applications.inception_v3 import InceptionV3\n",
        "import numpy as np\n",
        "import pandas as pd\n",
        "import tensorflow_addons as tfa\n",
        "from tensorflow import keras\n",
        "from sklearn.model_selection import train_test_split\n",
        "from sklearn.metrics import f1_score, recall_score, precision_score\n",
        "from sklearn.metrics import confusion_matrix\n",
        "from sklearn.metrics import classification_report\n",
        "import matplotlib.pyplot as plt\n",
        "import itertools\n",
        "import os"
      ],
      "execution_count": 4,
      "outputs": [
        {
          "output_type": "stream",
          "name": "stderr",
          "text": [
            "/usr/local/lib/python3.10/dist-packages/tensorflow_addons/utils/tfa_eol_msg.py:23: UserWarning: \n",
            "\n",
            "TensorFlow Addons (TFA) has ended development and introduction of new features.\n",
            "TFA has entered a minimal maintenance and release mode until a planned end of life in May 2024.\n",
            "Please modify downstream libraries to take dependencies from other repositories in our TensorFlow community (e.g. Keras, Keras-CV, and Keras-NLP). \n",
            "\n",
            "For more information see: https://github.com/tensorflow/addons/issues/2807 \n",
            "\n",
            "  warnings.warn(\n"
          ]
        }
      ]
    },
    {
      "cell_type": "code",
      "source": [
        "def loadData(path_data):\n",
        "\n",
        "    list_subfolders = os.listdir(path_data)\n",
        "\n",
        "    list_subfolders.sort()\n",
        "\n",
        "    dataset_dict = {}\n",
        "\n",
        "    dataset_dict['filename'] = []\n",
        "    dataset_dict['label'] = []\n",
        "\n",
        "    for folder in list_subfolders:\n",
        "\n",
        "        list_images_path = os.listdir(path_data+\"/\"+folder)\n",
        "\n",
        "        list_images_path.sort()\n",
        "\n",
        "        for image_name in list_images_path:\n",
        "\n",
        "            dataset_dict['filename'].append(folder+\"/\"+image_name)\n",
        "\n",
        "            dataset_dict['label'].append(folder)\n",
        "\n",
        "    df = pd.DataFrame.from_dict(dataset_dict)\n",
        "    labels = list(df['label'].unique())\n",
        "\n",
        "    return df,labels"
      ],
      "metadata": {
        "id": "TeA9Camdif2z"
      },
      "execution_count": 5,
      "outputs": []
    },
    {
      "cell_type": "code",
      "metadata": {
        "id": "ThJjNtJBi900",
        "colab": {
          "base_uri": "https://localhost:8080/"
        },
        "outputId": "7b67ce9c-9e30-4eb7-c970-7c8289620939"
      },
      "source": [
        "df,labels = loadData(path_data)\n",
        "\n",
        "num_labels = len(labels)\n",
        "\n",
        "train, test = train_test_split(df, test_size=0.4, random_state=36)\n",
        "\n",
        "valid, test = train_test_split(test, test_size=0.5, random_state=36)\n",
        "\n",
        "agnostic_datagen = ImageDataGenerator(rescale=1./255)\n",
        "\n",
        "#train_datagen = ImageDataGenerator(rescale=1./255)\n",
        "\n",
        "train_datagen = ImageDataGenerator(rescale=1./255,\n",
        "                                           rotation_range=10,\n",
        "                                           width_shift_range=0.2,\n",
        "                                           height_shift_range=0.2,\n",
        "                                           zoom_range=0.2,\n",
        "                                           horizontal_flip=True,\n",
        "                                           brightness_range=[0.2,1.2])\n",
        "\n",
        "train_generator = train_datagen.flow_from_dataframe(train, directory = path_data,\n",
        "                                                    x_col = \"filename\", y_col = \"label\",\n",
        "                                                    batch_size=32,\n",
        "                                                    seed=42,\n",
        "                                                    class_mode = \"categorical\")\n",
        "\n",
        "valid_generator = agnostic_datagen.flow_from_dataframe(valid, directory = path_data,\n",
        "                                                        x_col = \"filename\", y_col = \"label\",\n",
        "                                                        batch_size=32,\n",
        "                                                        seed=42,\n",
        "                                                        shuffle=False,\n",
        "                                                        class_mode = \"categorical\")\n",
        "\n",
        "test_generator = agnostic_datagen.flow_from_dataframe(test, directory = path_data,\n",
        "                                                            x_col = \"filename\", y_col = \"label\",\n",
        "                                                            batch_size=32,\n",
        "                                                            seed=42,\n",
        "                                                            shuffle=False,\n",
        "                                                            class_mode = \"categorical\")"
      ],
      "execution_count": 6,
      "outputs": [
        {
          "output_type": "stream",
          "name": "stdout",
          "text": [
            "Found 793 validated image filenames belonging to 15 classes.\n",
            "Found 265 validated image filenames belonging to 15 classes.\n",
            "Found 265 validated image filenames belonging to 15 classes.\n"
          ]
        }
      ]
    },
    {
      "cell_type": "markdown",
      "metadata": {
        "id": "3-0nc-LxNSF2"
      },
      "source": [
        "# Pretrained GoogLeNet model using ImageNet\n"
      ]
    },
    {
      "cell_type": "code",
      "metadata": {
        "id": "js1kaBFGv9MD"
      },
      "source": [
        "batch_size = 32\n",
        "epochs=100\n",
        "number_of_neurons = 300\n",
        "number_of_classes = 15"
      ],
      "execution_count": 7,
      "outputs": []
    },
    {
      "cell_type": "code",
      "source": [
        "df['label'].value_counts()"
      ],
      "metadata": {
        "colab": {
          "base_uri": "https://localhost:8080/"
        },
        "id": "ALIevieShvqx",
        "outputId": "aecce816-bd6d-4b7f-8be1-6c18a2f1ae2d"
      },
      "execution_count": 8,
      "outputs": [
        {
          "output_type": "execute_result",
          "data": {
            "text/plain": [
              "selenastrum_bibraianum       231\n",
              "monoraphidium_pusillum       150\n",
              "raphidocelis_subcapitata     132\n",
              "kirchneriella_irregularis    122\n",
              "ankistrodesmus_fusiformis    109\n",
              "ankistrodesmus_stipitatus    104\n",
              "monoraphidium_komarkovae      98\n",
              "ankistrodesmus_densus         89\n",
              "monoraphidium_griffithi       88\n",
              "ankistrodesmus_bibraianus     57\n",
              "monoraphidium_contortum       42\n",
              "kirchneriella_lunaris         41\n",
              "nephrocytium_lunatum          28\n",
              "monoraphidium_arcuatum        18\n",
              "kirchneriella_aperta          14\n",
              "Name: label, dtype: int64"
            ]
          },
          "metadata": {},
          "execution_count": 8
        }
      ]
    },
    {
      "cell_type": "code",
      "metadata": {
        "id": "yWx2apyg_GXQ"
      },
      "source": [
        "pre_trained_model = InceptionV3(input_shape=(224,224,3),include_top=False,weights='imagenet')\n",
        "#pre_trained_model = VGG16(input_shape=(224,224,3),include_top=False,pooling ='avg',weights='imagenet', classes=num_labels)\n",
        "\n",
        "#pre_trained_model = ResNet50(input_shape=(224,224,3),include_top=False,pooling ='avg',weights='imagenet', classes=num_labels)\n",
        "\n",
        "for layer in pre_trained_model.layers:\n",
        "  layer.trainable = False"
      ],
      "execution_count": 9,
      "outputs": []
    },
    {
      "cell_type": "markdown",
      "metadata": {
        "id": "Q8ZNyeF4v9FL"
      },
      "source": [
        "Hyperparameters"
      ]
    },
    {
      "cell_type": "markdown",
      "metadata": {
        "id": "Qh_m54z-5VW8"
      },
      "source": [
        "Lets see some samples"
      ]
    },
    {
      "cell_type": "code",
      "metadata": {
        "id": "mDvSxorK_GXV"
      },
      "source": [
        "model = Sequential()\n",
        "\n",
        "model.add(pre_trained_model)\n",
        "\n",
        "model.add(GlobalAveragePooling2D())\n",
        "model.add(Flatten())\n",
        "#model.add(BatchNormalization())\n",
        "\n",
        "# 1st hidden layer: 300 neurons\n",
        "#model.add(Dense(number_of_neurons,activation=\"relu\"))\n",
        "#model.add(Dropout(0.2))\n",
        "\n",
        "# 2nd hidden layer : 150 neurons\n",
        "#model.add(BatchNormalization())\n",
        "#model.add(Dense(number_of_neurons//2,activation=\"relu\"))\n",
        "#model.add(Dropout(0.2))\n",
        "\n",
        "# 3rd hidden layer : 75 neurons\n",
        "model.add(Dense(number_of_neurons//2,activation=\"relu\"))\n",
        "model.add(BatchNormalization())\n",
        "model.add(Dropout(0.2))\n",
        "\n",
        "model.add(Dense(number_of_classes,activation=\"softmax\"))"
      ],
      "execution_count": 10,
      "outputs": []
    },
    {
      "cell_type": "code",
      "metadata": {
        "id": "sqeVzAQhsj6i"
      },
      "source": [
        "#sgd = SGD(learning_rate=0.001,decay=1e-6,  nesterov=True)\n",
        "\n",
        "f1_score2 = tfa.metrics.F1Score(num_classes=number_of_classes, average='macro',threshold=0.5)\n",
        "\n",
        "#model.compile(optimizer = sgd,\n",
        "#              loss = 'categorical_crossentropy',\n",
        "#              metrics = 'accuracy')\n",
        "            #metrics = ['accuracy',f1_score])\n",
        "\n",
        "#opt = RMSprop(learning_rate=0.002)\n",
        "opt = Adam(learning_rate=0.001)\n",
        "\n",
        "model.compile(optimizer = opt,\n",
        "              loss = 'categorical_crossentropy',\n",
        "              metrics = [f1_score2])\n",
        "            #metrics = ['accuracy',f1_score])"
      ],
      "execution_count": 11,
      "outputs": []
    },
    {
      "cell_type": "code",
      "metadata": {
        "id": "c9zT6oaF_GXX",
        "colab": {
          "base_uri": "https://localhost:8080/"
        },
        "outputId": "e307dac4-6af0-4ddb-d29f-c448f7cd6ee3"
      },
      "source": [
        "history_fine = model.fit(train_generator,\n",
        "                         epochs=epochs,\n",
        "                         batch_size=32,\n",
        "                         validation_data=valid_generator\n",
        "                         #initial_epoch=history.epoch[-1],\n",
        "                         )"
      ],
      "execution_count": 12,
      "outputs": [
        {
          "output_type": "stream",
          "name": "stdout",
          "text": [
            "Epoch 1/100\n",
            "25/25 [==============================] - 65s 2s/step - loss: 1.7934 - f1_score: 0.3193 - val_loss: 1.4705 - val_f1_score: 0.2413\n",
            "Epoch 2/100\n",
            "25/25 [==============================] - 40s 2s/step - loss: 0.8675 - f1_score: 0.5797 - val_loss: 0.9746 - val_f1_score: 0.5232\n",
            "Epoch 3/100\n",
            "25/25 [==============================] - 41s 2s/step - loss: 0.6247 - f1_score: 0.6985 - val_loss: 0.7835 - val_f1_score: 0.5851\n",
            "Epoch 4/100\n",
            "25/25 [==============================] - 40s 2s/step - loss: 0.5917 - f1_score: 0.7301 - val_loss: 0.7215 - val_f1_score: 0.6291\n",
            "Epoch 5/100\n",
            "25/25 [==============================] - 40s 2s/step - loss: 0.4711 - f1_score: 0.8177 - val_loss: 0.6650 - val_f1_score: 0.6718\n",
            "Epoch 6/100\n",
            "25/25 [==============================] - 40s 2s/step - loss: 0.4458 - f1_score: 0.8391 - val_loss: 0.6155 - val_f1_score: 0.6541\n",
            "Epoch 7/100\n",
            "25/25 [==============================] - 39s 2s/step - loss: 0.4528 - f1_score: 0.8284 - val_loss: 0.6071 - val_f1_score: 0.7285\n",
            "Epoch 8/100\n",
            "25/25 [==============================] - 44s 2s/step - loss: 0.3736 - f1_score: 0.8347 - val_loss: 0.5822 - val_f1_score: 0.7061\n",
            "Epoch 9/100\n",
            "25/25 [==============================] - 43s 2s/step - loss: 0.3351 - f1_score: 0.8740 - val_loss: 0.5782 - val_f1_score: 0.7164\n",
            "Epoch 10/100\n",
            "25/25 [==============================] - 39s 2s/step - loss: 0.3498 - f1_score: 0.8698 - val_loss: 0.6064 - val_f1_score: 0.7271\n",
            "Epoch 11/100\n",
            "25/25 [==============================] - 39s 2s/step - loss: 0.3226 - f1_score: 0.8707 - val_loss: 0.5586 - val_f1_score: 0.7258\n",
            "Epoch 12/100\n",
            "25/25 [==============================] - 39s 2s/step - loss: 0.2852 - f1_score: 0.9017 - val_loss: 0.6467 - val_f1_score: 0.6920\n",
            "Epoch 13/100\n",
            "25/25 [==============================] - 40s 2s/step - loss: 0.3225 - f1_score: 0.8800 - val_loss: 0.6717 - val_f1_score: 0.6884\n",
            "Epoch 14/100\n",
            "25/25 [==============================] - 39s 2s/step - loss: 0.2604 - f1_score: 0.9272 - val_loss: 0.6432 - val_f1_score: 0.7265\n",
            "Epoch 15/100\n",
            "25/25 [==============================] - 39s 2s/step - loss: 0.2401 - f1_score: 0.9218 - val_loss: 0.5809 - val_f1_score: 0.7217\n",
            "Epoch 16/100\n",
            "25/25 [==============================] - 43s 2s/step - loss: 0.2479 - f1_score: 0.9114 - val_loss: 0.5594 - val_f1_score: 0.7209\n",
            "Epoch 17/100\n",
            "25/25 [==============================] - 40s 2s/step - loss: 0.2420 - f1_score: 0.9337 - val_loss: 0.6699 - val_f1_score: 0.6977\n",
            "Epoch 18/100\n",
            "25/25 [==============================] - 39s 2s/step - loss: 0.2336 - f1_score: 0.9127 - val_loss: 0.6262 - val_f1_score: 0.7248\n",
            "Epoch 19/100\n",
            "25/25 [==============================] - 39s 2s/step - loss: 0.2119 - f1_score: 0.9328 - val_loss: 0.6598 - val_f1_score: 0.7291\n",
            "Epoch 20/100\n",
            "25/25 [==============================] - 42s 2s/step - loss: 0.2169 - f1_score: 0.9246 - val_loss: 0.7051 - val_f1_score: 0.7253\n",
            "Epoch 21/100\n",
            "25/25 [==============================] - 43s 2s/step - loss: 0.2235 - f1_score: 0.9225 - val_loss: 0.6375 - val_f1_score: 0.7206\n",
            "Epoch 22/100\n",
            "25/25 [==============================] - 39s 2s/step - loss: 0.1816 - f1_score: 0.9405 - val_loss: 0.6247 - val_f1_score: 0.7363\n",
            "Epoch 23/100\n",
            "25/25 [==============================] - 43s 2s/step - loss: 0.1628 - f1_score: 0.9536 - val_loss: 0.5828 - val_f1_score: 0.7209\n",
            "Epoch 24/100\n",
            "25/25 [==============================] - 39s 2s/step - loss: 0.2090 - f1_score: 0.9322 - val_loss: 0.6943 - val_f1_score: 0.7238\n",
            "Epoch 25/100\n",
            "25/25 [==============================] - 38s 2s/step - loss: 0.2154 - f1_score: 0.9152 - val_loss: 0.5842 - val_f1_score: 0.7344\n",
            "Epoch 26/100\n",
            "25/25 [==============================] - 40s 2s/step - loss: 0.1862 - f1_score: 0.9500 - val_loss: 0.5696 - val_f1_score: 0.7460\n",
            "Epoch 27/100\n",
            "25/25 [==============================] - 40s 2s/step - loss: 0.1684 - f1_score: 0.9441 - val_loss: 0.5919 - val_f1_score: 0.7468\n",
            "Epoch 28/100\n",
            "25/25 [==============================] - 40s 2s/step - loss: 0.1451 - f1_score: 0.9642 - val_loss: 0.6328 - val_f1_score: 0.7131\n",
            "Epoch 29/100\n",
            "25/25 [==============================] - 40s 2s/step - loss: 0.1649 - f1_score: 0.9400 - val_loss: 0.5992 - val_f1_score: 0.7277\n",
            "Epoch 30/100\n",
            "25/25 [==============================] - 39s 2s/step - loss: 0.1940 - f1_score: 0.9345 - val_loss: 0.6197 - val_f1_score: 0.7039\n",
            "Epoch 31/100\n",
            "25/25 [==============================] - 39s 2s/step - loss: 0.1943 - f1_score: 0.9342 - val_loss: 0.5907 - val_f1_score: 0.7308\n",
            "Epoch 32/100\n",
            "25/25 [==============================] - 40s 2s/step - loss: 0.1678 - f1_score: 0.9514 - val_loss: 0.5945 - val_f1_score: 0.7377\n",
            "Epoch 33/100\n",
            "25/25 [==============================] - 40s 2s/step - loss: 0.1930 - f1_score: 0.9266 - val_loss: 0.6300 - val_f1_score: 0.7208\n",
            "Epoch 34/100\n",
            "25/25 [==============================] - 39s 2s/step - loss: 0.1625 - f1_score: 0.9523 - val_loss: 0.5822 - val_f1_score: 0.7311\n",
            "Epoch 35/100\n",
            "25/25 [==============================] - 42s 2s/step - loss: 0.1359 - f1_score: 0.9698 - val_loss: 0.5913 - val_f1_score: 0.7162\n",
            "Epoch 36/100\n",
            "25/25 [==============================] - 40s 2s/step - loss: 0.1814 - f1_score: 0.9423 - val_loss: 0.6218 - val_f1_score: 0.7108\n",
            "Epoch 37/100\n",
            "25/25 [==============================] - 40s 2s/step - loss: 0.1845 - f1_score: 0.9420 - val_loss: 0.6447 - val_f1_score: 0.7063\n",
            "Epoch 38/100\n",
            "25/25 [==============================] - 43s 2s/step - loss: 0.2017 - f1_score: 0.9255 - val_loss: 0.5885 - val_f1_score: 0.7108\n",
            "Epoch 39/100\n",
            "25/25 [==============================] - 40s 2s/step - loss: 0.1943 - f1_score: 0.9294 - val_loss: 0.5409 - val_f1_score: 0.7546\n",
            "Epoch 40/100\n",
            "25/25 [==============================] - 43s 2s/step - loss: 0.1762 - f1_score: 0.9538 - val_loss: 0.5613 - val_f1_score: 0.7221\n",
            "Epoch 41/100\n",
            "25/25 [==============================] - 40s 2s/step - loss: 0.1742 - f1_score: 0.9499 - val_loss: 0.6572 - val_f1_score: 0.7053\n",
            "Epoch 42/100\n",
            "25/25 [==============================] - 39s 2s/step - loss: 0.1499 - f1_score: 0.9514 - val_loss: 0.5397 - val_f1_score: 0.7195\n",
            "Epoch 43/100\n",
            "25/25 [==============================] - 43s 2s/step - loss: 0.1503 - f1_score: 0.9537 - val_loss: 0.6617 - val_f1_score: 0.7105\n",
            "Epoch 44/100\n",
            "25/25 [==============================] - 40s 2s/step - loss: 0.1587 - f1_score: 0.9411 - val_loss: 0.5974 - val_f1_score: 0.7073\n",
            "Epoch 45/100\n",
            "25/25 [==============================] - 39s 2s/step - loss: 0.1557 - f1_score: 0.9501 - val_loss: 0.5878 - val_f1_score: 0.7460\n",
            "Epoch 46/100\n",
            "25/25 [==============================] - 42s 2s/step - loss: 0.1605 - f1_score: 0.9502 - val_loss: 0.5608 - val_f1_score: 0.7131\n",
            "Epoch 47/100\n",
            "25/25 [==============================] - 39s 2s/step - loss: 0.1631 - f1_score: 0.9337 - val_loss: 0.6153 - val_f1_score: 0.7373\n",
            "Epoch 48/100\n",
            "25/25 [==============================] - 43s 2s/step - loss: 0.1515 - f1_score: 0.9516 - val_loss: 0.6093 - val_f1_score: 0.7185\n",
            "Epoch 49/100\n",
            "25/25 [==============================] - 39s 2s/step - loss: 0.1443 - f1_score: 0.9472 - val_loss: 0.6064 - val_f1_score: 0.7116\n",
            "Epoch 50/100\n",
            "25/25 [==============================] - 43s 2s/step - loss: 0.1474 - f1_score: 0.9499 - val_loss: 0.5292 - val_f1_score: 0.7574\n",
            "Epoch 51/100\n",
            "25/25 [==============================] - 42s 2s/step - loss: 0.1322 - f1_score: 0.9621 - val_loss: 0.5661 - val_f1_score: 0.7439\n",
            "Epoch 52/100\n",
            "25/25 [==============================] - 39s 2s/step - loss: 0.1207 - f1_score: 0.9593 - val_loss: 0.5954 - val_f1_score: 0.7474\n",
            "Epoch 53/100\n",
            "25/25 [==============================] - 43s 2s/step - loss: 0.1391 - f1_score: 0.9606 - val_loss: 0.5549 - val_f1_score: 0.7508\n",
            "Epoch 54/100\n",
            "25/25 [==============================] - 39s 2s/step - loss: 0.1793 - f1_score: 0.9502 - val_loss: 0.5655 - val_f1_score: 0.7424\n",
            "Epoch 55/100\n",
            "25/25 [==============================] - 39s 2s/step - loss: 0.1267 - f1_score: 0.9571 - val_loss: 0.5804 - val_f1_score: 0.7412\n",
            "Epoch 56/100\n",
            "25/25 [==============================] - 39s 2s/step - loss: 0.1219 - f1_score: 0.9757 - val_loss: 0.6129 - val_f1_score: 0.7231\n",
            "Epoch 57/100\n",
            "25/25 [==============================] - 40s 2s/step - loss: 0.1571 - f1_score: 0.9550 - val_loss: 0.5938 - val_f1_score: 0.7423\n",
            "Epoch 58/100\n",
            "25/25 [==============================] - 40s 2s/step - loss: 0.1360 - f1_score: 0.9529 - val_loss: 0.5268 - val_f1_score: 0.7695\n",
            "Epoch 59/100\n",
            "25/25 [==============================] - 40s 2s/step - loss: 0.1304 - f1_score: 0.9410 - val_loss: 0.6135 - val_f1_score: 0.7472\n",
            "Epoch 60/100\n",
            "25/25 [==============================] - 40s 2s/step - loss: 0.1214 - f1_score: 0.9643 - val_loss: 0.5749 - val_f1_score: 0.7453\n",
            "Epoch 61/100\n",
            "25/25 [==============================] - 42s 2s/step - loss: 0.1430 - f1_score: 0.9537 - val_loss: 0.5783 - val_f1_score: 0.7942\n",
            "Epoch 62/100\n",
            "25/25 [==============================] - 40s 2s/step - loss: 0.1205 - f1_score: 0.9567 - val_loss: 0.7678 - val_f1_score: 0.7095\n",
            "Epoch 63/100\n",
            "25/25 [==============================] - 42s 2s/step - loss: 0.1016 - f1_score: 0.9696 - val_loss: 0.5862 - val_f1_score: 0.7679\n",
            "Epoch 64/100\n",
            "25/25 [==============================] - 40s 2s/step - loss: 0.1078 - f1_score: 0.9627 - val_loss: 0.6101 - val_f1_score: 0.7314\n",
            "Epoch 65/100\n",
            "25/25 [==============================] - 40s 2s/step - loss: 0.1583 - f1_score: 0.9594 - val_loss: 0.5841 - val_f1_score: 0.7233\n",
            "Epoch 66/100\n",
            "25/25 [==============================] - 39s 2s/step - loss: 0.1235 - f1_score: 0.9539 - val_loss: 0.5172 - val_f1_score: 0.7402\n",
            "Epoch 67/100\n",
            "25/25 [==============================] - 39s 2s/step - loss: 0.1358 - f1_score: 0.9574 - val_loss: 0.6518 - val_f1_score: 0.7244\n",
            "Epoch 68/100\n",
            "25/25 [==============================] - 40s 2s/step - loss: 0.1085 - f1_score: 0.9680 - val_loss: 0.5474 - val_f1_score: 0.7379\n",
            "Epoch 69/100\n",
            "25/25 [==============================] - 40s 2s/step - loss: 0.1392 - f1_score: 0.9474 - val_loss: 0.6663 - val_f1_score: 0.7005\n",
            "Epoch 70/100\n",
            "25/25 [==============================] - 39s 2s/step - loss: 0.1406 - f1_score: 0.9614 - val_loss: 0.6862 - val_f1_score: 0.7073\n",
            "Epoch 71/100\n",
            "25/25 [==============================] - 39s 2s/step - loss: 0.1459 - f1_score: 0.9486 - val_loss: 0.6643 - val_f1_score: 0.7021\n",
            "Epoch 72/100\n",
            "25/25 [==============================] - 42s 2s/step - loss: 0.1274 - f1_score: 0.9562 - val_loss: 0.6038 - val_f1_score: 0.7225\n",
            "Epoch 73/100\n",
            "25/25 [==============================] - 42s 2s/step - loss: 0.1357 - f1_score: 0.9449 - val_loss: 0.6337 - val_f1_score: 0.7215\n",
            "Epoch 74/100\n",
            "25/25 [==============================] - 39s 2s/step - loss: 0.1228 - f1_score: 0.9528 - val_loss: 0.7583 - val_f1_score: 0.7073\n",
            "Epoch 75/100\n",
            "25/25 [==============================] - 39s 2s/step - loss: 0.1269 - f1_score: 0.9631 - val_loss: 0.6225 - val_f1_score: 0.7365\n",
            "Epoch 76/100\n",
            "25/25 [==============================] - 42s 2s/step - loss: 0.1150 - f1_score: 0.9670 - val_loss: 0.6220 - val_f1_score: 0.7312\n",
            "Epoch 77/100\n",
            "25/25 [==============================] - 42s 2s/step - loss: 0.0989 - f1_score: 0.9691 - val_loss: 0.5806 - val_f1_score: 0.7409\n",
            "Epoch 78/100\n",
            "25/25 [==============================] - 40s 2s/step - loss: 0.1112 - f1_score: 0.9512 - val_loss: 0.5760 - val_f1_score: 0.7244\n",
            "Epoch 79/100\n",
            "25/25 [==============================] - 42s 2s/step - loss: 0.1261 - f1_score: 0.9553 - val_loss: 0.7106 - val_f1_score: 0.7295\n",
            "Epoch 80/100\n",
            "25/25 [==============================] - 39s 2s/step - loss: 0.1066 - f1_score: 0.9657 - val_loss: 0.5356 - val_f1_score: 0.6997\n",
            "Epoch 81/100\n",
            "25/25 [==============================] - 41s 2s/step - loss: 0.1200 - f1_score: 0.9651 - val_loss: 0.6683 - val_f1_score: 0.7467\n",
            "Epoch 82/100\n",
            "25/25 [==============================] - 40s 2s/step - loss: 0.1090 - f1_score: 0.9710 - val_loss: 0.6298 - val_f1_score: 0.7309\n",
            "Epoch 83/100\n",
            "25/25 [==============================] - 39s 2s/step - loss: 0.1152 - f1_score: 0.9583 - val_loss: 0.6352 - val_f1_score: 0.7302\n",
            "Epoch 84/100\n",
            "25/25 [==============================] - 40s 2s/step - loss: 0.1174 - f1_score: 0.9669 - val_loss: 0.6338 - val_f1_score: 0.7043\n",
            "Epoch 85/100\n",
            "25/25 [==============================] - 40s 2s/step - loss: 0.1195 - f1_score: 0.9590 - val_loss: 0.6080 - val_f1_score: 0.7252\n",
            "Epoch 86/100\n",
            "25/25 [==============================] - 40s 2s/step - loss: 0.1435 - f1_score: 0.9289 - val_loss: 0.6264 - val_f1_score: 0.7277\n",
            "Epoch 87/100\n",
            "25/25 [==============================] - 40s 2s/step - loss: 0.1158 - f1_score: 0.9596 - val_loss: 0.5825 - val_f1_score: 0.7358\n",
            "Epoch 88/100\n",
            "25/25 [==============================] - 40s 2s/step - loss: 0.1373 - f1_score: 0.9587 - val_loss: 0.6075 - val_f1_score: 0.7309\n",
            "Epoch 89/100\n",
            "25/25 [==============================] - 39s 2s/step - loss: 0.1180 - f1_score: 0.9683 - val_loss: 0.5909 - val_f1_score: 0.7327\n",
            "Epoch 90/100\n",
            "25/25 [==============================] - 39s 2s/step - loss: 0.0969 - f1_score: 0.9721 - val_loss: 0.6345 - val_f1_score: 0.7104\n",
            "Epoch 91/100\n",
            "25/25 [==============================] - 40s 2s/step - loss: 0.0963 - f1_score: 0.9705 - val_loss: 0.6730 - val_f1_score: 0.7422\n",
            "Epoch 92/100\n",
            "25/25 [==============================] - 40s 2s/step - loss: 0.0977 - f1_score: 0.9685 - val_loss: 0.6990 - val_f1_score: 0.7042\n",
            "Epoch 93/100\n",
            "25/25 [==============================] - 40s 2s/step - loss: 0.0889 - f1_score: 0.9705 - val_loss: 0.6512 - val_f1_score: 0.7196\n",
            "Epoch 94/100\n",
            "25/25 [==============================] - 40s 2s/step - loss: 0.1146 - f1_score: 0.9617 - val_loss: 0.6201 - val_f1_score: 0.7466\n",
            "Epoch 95/100\n",
            "25/25 [==============================] - 38s 2s/step - loss: 0.0984 - f1_score: 0.9639 - val_loss: 0.7547 - val_f1_score: 0.7179\n",
            "Epoch 96/100\n",
            "25/25 [==============================] - 43s 2s/step - loss: 0.0974 - f1_score: 0.9746 - val_loss: 0.6356 - val_f1_score: 0.7388\n",
            "Epoch 97/100\n",
            "25/25 [==============================] - 40s 2s/step - loss: 0.0822 - f1_score: 0.9761 - val_loss: 0.6750 - val_f1_score: 0.6968\n",
            "Epoch 98/100\n",
            "25/25 [==============================] - 39s 2s/step - loss: 0.1123 - f1_score: 0.9556 - val_loss: 0.8747 - val_f1_score: 0.6847\n",
            "Epoch 99/100\n",
            "25/25 [==============================] - 38s 2s/step - loss: 0.1227 - f1_score: 0.9685 - val_loss: 0.6910 - val_f1_score: 0.7140\n",
            "Epoch 100/100\n",
            "25/25 [==============================] - 41s 2s/step - loss: 0.1215 - f1_score: 0.9669 - val_loss: 0.5943 - val_f1_score: 0.7905\n"
          ]
        }
      ]
    },
    {
      "cell_type": "code",
      "metadata": {
        "id": "Q8ENVvZSrKrS",
        "colab": {
          "base_uri": "https://localhost:8080/",
          "height": 472
        },
        "outputId": "381e08c8-0d22-460e-9262-c57a1f02e994"
      },
      "source": [
        "loss = history_fine.history['loss']\n",
        "val_loss = history_fine.history['val_loss']\n",
        "\n",
        "plt.plot(history_fine.history['loss'])\n",
        "plt.plot(history_fine.history['val_loss'])\n",
        "plt.title('model loss')\n",
        "plt.ylabel('loss')\n",
        "plt.xlabel('epoch')\n",
        "plt.legend(['training set', 'validation set'], loc='upper left')\n",
        "plt.show()"
      ],
      "execution_count": 13,
      "outputs": [
        {
          "output_type": "display_data",
          "data": {
            "text/plain": [
              "<Figure size 640x480 with 1 Axes>"
            ],
            "image/png": "[encoded data removed]"
          },
          "metadata": {}
        }
      ]
    },
    {
      "cell_type": "code",
      "source": [
        "y_true = test_generator.labels\n",
        "y_prob = model.predict(test_generator)\n",
        "y_pred = np.argmax(y_prob,axis=1)\n",
        "\n",
        "recall = recall_score(y_true, y_pred, average='macro')\n",
        "precision = precision_score(y_true, y_pred, average='macro')\n",
        "f1s = f1_score(y_true, y_pred, average='macro')\n",
        "\n",
        "print(f'Recall: {recall}')\n",
        "print(f'Precision: {precision}')\n",
        "print(f'F1: {f1s}')\n",
        "\n",
        "print(classification_report(y_true,y_pred))"
      ],
      "metadata": {
        "id": "g2VR_adbrsUp",
        "colab": {
          "base_uri": "https://localhost:8080/"
        },
        "outputId": "5bbe91ed-fac2-43c2-9d76-86479b4dab79"
      },
      "execution_count": 14,
      "outputs": [
        {
          "output_type": "stream",
          "name": "stdout",
          "text": [
            "9/9 [==============================] - 8s 742ms/step\n",
            "Recall: 0.7674061060811088\n",
            "Precision: 0.7996797465424917\n",
            "F1: 0.7662626686676627\n",
            "              precision    recall  f1-score   support\n",
            "\n",
            "           0       0.53      0.82      0.64        11\n",
            "           1       0.70      0.74      0.72        19\n",
            "           2       0.83      0.91      0.87        32\n",
            "           3       1.00      0.82      0.90        17\n",
            "           4       0.33      0.33      0.33         3\n",
            "           5       0.76      1.00      0.87        26\n",
            "           6       0.83      0.56      0.67         9\n",
            "           7       1.00      0.50      0.67         6\n",
            "           8       1.00      0.62      0.77        16\n",
            "           9       0.75      0.92      0.83        13\n",
            "          10       1.00      0.95      0.97        19\n",
            "          11       0.81      0.76      0.79        29\n",
            "          12       0.83      1.00      0.91         5\n",
            "          13       0.80      1.00      0.89        24\n",
            "          14       0.81      0.58      0.68        36\n",
            "\n",
            "    accuracy                           0.80       265\n",
            "   macro avg       0.80      0.77      0.77       265\n",
            "weighted avg       0.82      0.80      0.80       265\n",
            "\n"
          ]
        }
      ]
    }
  ]
}