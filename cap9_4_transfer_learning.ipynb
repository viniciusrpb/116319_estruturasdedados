{
  "nbformat": 4,
  "nbformat_minor": 0,
  "metadata": {
    "colab": {
      "name": "cap9_4_transfer_learning.ipynb",
      "provenance": [],
      "collapsed_sections": [],
      "authorship_tag": "ABX9TyPi3WnO/vcC8bO6kd+RMiIa",
      "include_colab_link": true
    },
    "kernelspec": {
      "name": "python3",
      "display_name": "Python 3"
    },
    "language_info": {
      "name": "python"
    },
    "accelerator": "GPU"
  },
  "cells": [
    {
      "cell_type": "markdown",
      "metadata": {
        "id": "view-in-github",
        "colab_type": "text"
      },
      "source": [
        "<a href=\"https://colab.research.google.com/github/viniciusrpb/116319_estruturasdedados/blob/main/cap9_4_transfer_learning.ipynb\" target=\"_parent\"><img src=\"https://colab.research.google.com/assets/colab-badge.svg\" alt=\"Open In Colab\"/></a>"
      ]
    },
    {
      "cell_type": "code",
      "metadata": {
        "id": "9Fc-T8Q38YDg"
      },
      "source": [
        "from keras.models import Sequential\n",
        "from keras.layers import Dense,MaxPooling2D,Activation,Flatten,Conv2D,BatchNormalization,Dropout\n",
        "from tensorflow.keras.optimizers import SGD\n",
        "from tensorflow.keras.preprocessing.image import ImageDataGenerator\n",
        "from tensorflow.keras import layers\n",
        "from tensorflow.keras import Model\n",
        "from sklearn.metrics import classification_report\n",
        "import numpy as np\n",
        "\n"
      ],
      "execution_count": null,
      "outputs": []
    },
    {
      "cell_type": "code",
      "metadata": {
        "colab": {
          "base_uri": "https://localhost:8080/"
        },
        "id": "oKKnJGcy76R7",
        "outputId": "f1bc3aeb-818c-4ee1-a76a-bdb601458d73"
      },
      "source": [
        "from google.colab import drive\n",
        "drive.mount('/content/drive')"
      ],
      "execution_count": null,
      "outputs": [
        {
          "output_type": "stream",
          "name": "stdout",
          "text": [
            "Mounted at /content/drive\n"
          ]
        }
      ]
    },
    {
      "cell_type": "code",
      "metadata": {
        "id": "zvIGbaPN8Dwj"
      },
      "source": [
        "!cp -r \"/content/drive/My Drive/leafs\" \"leafs\""
      ],
      "execution_count": null,
      "outputs": []
    },
    {
      "cell_type": "code",
      "metadata": {
        "colab": {
          "base_uri": "https://localhost:8080/"
        },
        "id": "pZrYLKo59xBE",
        "outputId": "eaecfdf7-f7a7-4e9e-cb4c-43c9e009c87c"
      },
      "source": [
        "train_datagen = ImageDataGenerator(rescale=1./255.,\n",
        "                                   validation_split=0.2)\n",
        "\n",
        "test_datagen = ImageDataGenerator(rescale=1./255.)\n",
        "\n",
        "train_set = train_datagen.flow_from_directory(\"leafs/train\",\n",
        "                                              subset='training',\n",
        "                                              target_size=(224,224),\n",
        "                                              class_mode=\"categorical\",\n",
        "                                              batch_size=32)\n",
        "\n",
        "validation_set = train_datagen.flow_from_directory(\"leafs/train\",\n",
        "                                              subset='validation',\n",
        "                                              target_size=(224,224),\n",
        "                                              class_mode=\"categorical\",\n",
        "                                              batch_size=32)\n",
        "\n",
        "test_set = test_datagen.flow_from_directory(\"leafs/test\",\n",
        "                                            target_size=(224,224),\n",
        "                                            class_mode=\"categorical\",\n",
        "                                            batch_size=32)\n",
        "\n"
      ],
      "execution_count": null,
      "outputs": [
        {
          "output_type": "stream",
          "name": "stdout",
          "text": [
            "Found 160 images belonging to 4 classes.\n",
            "Found 40 images belonging to 4 classes.\n",
            "Found 100 images belonging to 4 classes.\n"
          ]
        }
      ]
    },
    {
      "cell_type": "code",
      "metadata": {
        "id": "nGHq3_m58Uf4"
      },
      "source": [
        "kernel_dimensions = (5,5)\n",
        "tam_strides = (1,1)\n",
        "number_filters = 50\n",
        "number_of_neurons = 30\n",
        "\n",
        "num_classes = 4"
      ],
      "execution_count": null,
      "outputs": []
    },
    {
      "cell_type": "markdown",
      "metadata": {
        "id": "c4qZuGqqMr3e"
      },
      "source": [
        "Transfer Learning"
      ]
    },
    {
      "cell_type": "code",
      "metadata": {
        "id": "9NBE4rVgMr_k",
        "colab": {
          "base_uri": "https://localhost:8080/"
        },
        "outputId": "935a7c95-db45-425b-cf48-1485933bfc8c"
      },
      "source": [
        "from tensorflow.keras.applications.inception_v3 import InceptionV3\n",
        "\n",
        "pre_trained_model = InceptionV3(input_shape=(224,224,3),\n",
        "                                include_top=False,\n",
        "                                weights='imagenet')"
      ],
      "execution_count": null,
      "outputs": [
        {
          "output_type": "stream",
          "name": "stdout",
          "text": [
            "Downloading data from https://storage.googleapis.com/tensorflow/keras-applications/inception_v3/inception_v3_weights_tf_dim_ordering_tf_kernels_notop.h5\n",
            "87916544/87910968 [==============================] - 1s 0us/step\n",
            "87924736/87910968 [==============================] - 1s 0us/step\n"
          ]
        }
      ]
    },
    {
      "cell_type": "code",
      "metadata": {
        "id": "wYTIdLmtOuEi"
      },
      "source": [
        "for layer in pre_trained_model.layers:\n",
        "  layer.trainable=False"
      ],
      "execution_count": null,
      "outputs": []
    },
    {
      "cell_type": "code",
      "metadata": {
        "id": "mGo91gUzPHrJ"
      },
      "source": [
        "ans = layers.Flatten()(pre_trained_model.output)\n",
        "\n",
        "ans = layers.Dense(512,activation=\"relu\")(ans)\n",
        "\n",
        "ans = layers.Dropout(0.2)(ans)\n",
        "\n",
        "ans = layers.Dense(num_classes,activation=\"softmax\")(ans)\n",
        "\n",
        "model_tl = Model(pre_trained_model.input,ans)"
      ],
      "execution_count": null,
      "outputs": []
    },
    {
      "cell_type": "code",
      "metadata": {
        "id": "WJ-FkpisQaVn"
      },
      "source": [
        "#model_tl.summary()"
      ],
      "execution_count": null,
      "outputs": []
    },
    {
      "cell_type": "code",
      "metadata": {
        "id": "gyBGLURDQBKh"
      },
      "source": [
        "model_tl.compile(optimizer=SGD(learning_rate=0.1),\n",
        "                 loss = \"categorical_crossentropy\",\n",
        "                 metrics=[\"accuracy\"])"
      ],
      "execution_count": null,
      "outputs": []
    },
    {
      "cell_type": "code",
      "metadata": {
        "id": "zx_AEzPXQPdg",
        "colab": {
          "base_uri": "https://localhost:8080/"
        },
        "outputId": "6c894ecd-b387-4add-bc91-733f38128e5f"
      },
      "source": [
        "history_fine = model_tl.fit(train_set,\n",
        "                            epochs=20,\n",
        "                            validation_data=validation_set\n",
        "                            #initial_epoch=history.epoch[-1],\n",
        "                            )"
      ],
      "execution_count": null,
      "outputs": [
        {
          "output_type": "stream",
          "name": "stdout",
          "text": [
            "Epoch 1/20\n",
            "5/5 [==============================] - 49s 3s/step - loss: 798.6488 - accuracy: 0.3000 - val_loss: 5129.9814 - val_accuracy: 0.2500\n",
            "Epoch 2/20\n",
            "5/5 [==============================] - 12s 3s/step - loss: 1266.4167 - accuracy: 0.3438 - val_loss: 3.6887 - val_accuracy: 0.2500\n",
            "Epoch 3/20\n",
            "5/5 [==============================] - 12s 3s/step - loss: 3.6896 - accuracy: 0.2875 - val_loss: 2.5255 - val_accuracy: 0.2500\n",
            "Epoch 4/20\n",
            "5/5 [==============================] - 12s 3s/step - loss: 1.6025 - accuracy: 0.2625 - val_loss: 1.3896 - val_accuracy: 0.2500\n",
            "Epoch 5/20\n",
            "5/5 [==============================] - 12s 3s/step - loss: 1.3912 - accuracy: 0.2500 - val_loss: 1.3887 - val_accuracy: 0.2500\n",
            "Epoch 6/20\n",
            "5/5 [==============================] - 13s 3s/step - loss: 1.3899 - accuracy: 0.2500 - val_loss: 1.3880 - val_accuracy: 0.2500\n",
            "Epoch 7/20\n",
            "5/5 [==============================] - 12s 3s/step - loss: 1.3893 - accuracy: 0.2500 - val_loss: 1.3874 - val_accuracy: 0.2500\n",
            "Epoch 8/20\n",
            "5/5 [==============================] - 12s 3s/step - loss: 1.3886 - accuracy: 0.2500 - val_loss: 1.3870 - val_accuracy: 0.2500\n",
            "Epoch 9/20\n",
            "5/5 [==============================] - 12s 3s/step - loss: 1.3886 - accuracy: 0.2500 - val_loss: 1.3867 - val_accuracy: 0.2500\n",
            "Epoch 10/20\n",
            "5/5 [==============================] - 13s 3s/step - loss: 1.3884 - accuracy: 0.1875 - val_loss: 1.3865 - val_accuracy: 0.2500\n",
            "Epoch 11/20\n",
            "5/5 [==============================] - 13s 3s/step - loss: 1.3874 - accuracy: 0.2500 - val_loss: 1.3863 - val_accuracy: 0.2500\n",
            "Epoch 12/20\n",
            "5/5 [==============================] - 12s 3s/step - loss: 1.3878 - accuracy: 0.2250 - val_loss: 1.3862 - val_accuracy: 0.2500\n",
            "Epoch 13/20\n",
            "5/5 [==============================] - 12s 3s/step - loss: 1.3873 - accuracy: 0.2500 - val_loss: 1.3860 - val_accuracy: 0.2500\n",
            "Epoch 14/20\n",
            "5/5 [==============================] - 13s 3s/step - loss: 1.3870 - accuracy: 0.2500 - val_loss: 1.3859 - val_accuracy: 0.2500\n",
            "Epoch 15/20\n",
            "5/5 [==============================] - 14s 3s/step - loss: 1.3878 - accuracy: 0.2500 - val_loss: 1.3859 - val_accuracy: 0.2500\n",
            "Epoch 16/20\n",
            "5/5 [==============================] - 14s 3s/step - loss: 1.3873 - accuracy: 0.2250 - val_loss: 1.3858 - val_accuracy: 0.2500\n",
            "Epoch 17/20\n",
            "5/5 [==============================] - 14s 3s/step - loss: 1.3870 - accuracy: 0.2438 - val_loss: 1.3858 - val_accuracy: 0.2500\n",
            "Epoch 18/20\n",
            "5/5 [==============================] - 14s 3s/step - loss: 1.3881 - accuracy: 0.2500 - val_loss: 1.3857 - val_accuracy: 0.2500\n",
            "Epoch 19/20\n",
            "5/5 [==============================] - 12s 3s/step - loss: 1.3869 - accuracy: 0.2375 - val_loss: 1.3857 - val_accuracy: 0.2500\n",
            "Epoch 20/20\n",
            "5/5 [==============================] - 12s 3s/step - loss: 1.3871 - accuracy: 0.2500 - val_loss: 1.3857 - val_accuracy: 0.2500\n"
          ]
        }
      ]
    },
    {
      "cell_type": "code",
      "metadata": {
        "colab": {
          "base_uri": "https://localhost:8080/"
        },
        "id": "yypPWEBtSmZy",
        "outputId": "f917986b-0d32-4a7e-845a-f62bb047da81"
      },
      "source": [
        "y_prob = model_tl.predict(test_set)\n",
        "y_pred = np.argmax(y_prob,axis=1)\n",
        "\n",
        "print(classification_report(test_set.classes,y_pred))"
      ],
      "execution_count": null,
      "outputs": [
        {
          "output_type": "stream",
          "name": "stdout",
          "text": [
            "              precision    recall  f1-score   support\n",
            "\n",
            "           0       0.25      1.00      0.40        25\n",
            "           1       1.00      0.04      0.08        25\n",
            "           2       0.00      0.00      0.00        25\n",
            "           3       0.00      0.00      0.00        25\n",
            "\n",
            "    accuracy                           0.26       100\n",
            "   macro avg       0.31      0.26      0.12       100\n",
            "weighted avg       0.31      0.26      0.12       100\n",
            "\n"
          ]
        },
        {
          "output_type": "stream",
          "name": "stderr",
          "text": [
            "/usr/local/lib/python3.7/dist-packages/sklearn/metrics/_classification.py:1272: UndefinedMetricWarning: Precision and F-score are ill-defined and being set to 0.0 in labels with no predicted samples. Use `zero_division` parameter to control this behavior.\n",
            "  _warn_prf(average, modifier, msg_start, len(result))\n"
          ]
        }
      ]
    },
    {
      "cell_type": "markdown",
      "metadata": {
        "id": "bTZgarvSfL9N"
      },
      "source": [
        "CIFAR10"
      ]
    },
    {
      "cell_type": "code",
      "metadata": {
        "id": "VfSiFYfafNIs"
      },
      "source": [
        "from keras.datasets import cifar10\n",
        "from sklearn.model_selection import train_test_split\n",
        "from keras.utils.np_utils import to_categorical"
      ],
      "execution_count": null,
      "outputs": []
    },
    {
      "cell_type": "code",
      "metadata": {
        "colab": {
          "base_uri": "https://localhost:8080/"
        },
        "id": "8q8eIauJfUkU",
        "outputId": "2df3a22d-fb3d-4b46-8f92-c4b87cd830a7"
      },
      "source": [
        "# load dataset\n",
        "(trainX, trainy), (testX, testy) = cifar10.load_data()\n",
        "# summarize loaded dataset\n",
        "print('Train: X=%s, y=%s' % (trainX.shape, trainy.shape))\n",
        "print('Test: X=%s, y=%s' % (testX.shape, testy.shape))"
      ],
      "execution_count": null,
      "outputs": [
        {
          "output_type": "stream",
          "name": "stdout",
          "text": [
            "Train: X=(50000, 32, 32, 3), y=(50000, 1)\n",
            "Test: X=(10000, 32, 32, 3), y=(10000, 1)\n"
          ]
        }
      ]
    },
    {
      "cell_type": "code",
      "metadata": {
        "id": "fZ-1V3AYfYgc"
      },
      "source": [
        "trainX = trainX.astype('float32')\n",
        "testX = testX.astype('float32')\n",
        "\n",
        "#X_train = trainX / 255.0\n",
        "#X_test = testX / 255.0\n",
        "for ch in range(3):\n",
        "  trainX[:,:,:,ch] = (trainX[:,:,:,ch]-trainX[:,:,:,ch].min())/(trainX[:,:,:,ch].max()-trainX[:,:,:,ch].min())\n",
        "  testX[:,:,:,ch] = (testX[:,:,:,ch]-testX[:,:,:,ch].min())/(testX[:,:,:,ch].max()-testX[:,:,:,ch].min())"
      ],
      "execution_count": null,
      "outputs": []
    },
    {
      "cell_type": "code",
      "metadata": {
        "id": "bOJAIyN3fZ1M"
      },
      "source": [
        "X_train, X_valid, y_train, y_valid = train_test_split(trainX, trainy, test_size=0.2, random_state=42)\n",
        "\n",
        "#y_train = to_categorical(y_train)\n",
        "#y_valid = to_categorical(y_valid)\n",
        "y_test = testy#to_categorical(testy)"
      ],
      "execution_count": null,
      "outputs": []
    },
    {
      "cell_type": "code",
      "metadata": {
        "colab": {
          "base_uri": "https://localhost:8080/"
        },
        "id": "2hKZIHLi3NhR",
        "outputId": "a5dc42e1-2b3e-49a9-f5a9-99f78d430036"
      },
      "source": [
        "y_valid.shape\n"
      ],
      "execution_count": null,
      "outputs": [
        {
          "output_type": "execute_result",
          "data": {
            "text/plain": [
              "(10000, 1)"
            ]
          },
          "metadata": {},
          "execution_count": 72
        }
      ]
    },
    {
      "cell_type": "markdown",
      "metadata": {
        "id": "rZskIYZRlr-V"
      },
      "source": [
        "Data Augmentation"
      ]
    },
    {
      "cell_type": "code",
      "metadata": {
        "id": "iwo390nOlsFl"
      },
      "source": [
        "train_generator = ImageDataGenerator(\n",
        "                                    rotation_range=2, \n",
        "                                    horizontal_flip=True,\n",
        "                                    zoom_range=.1 )\n",
        "\n",
        "val_generator = ImageDataGenerator(\n",
        "                                    rotation_range=2, \n",
        "                                    horizontal_flip=True,\n",
        "                                    zoom_range=.1)\n",
        "\n",
        "test_generator = ImageDataGenerator()\n",
        "\n",
        "train_generator.fit(X_train)\n",
        "val_generator.fit(X_valid)"
      ],
      "execution_count": null,
      "outputs": []
    },
    {
      "cell_type": "code",
      "metadata": {
        "id": "_iRFLv1HmEW8"
      },
      "source": [
        "from tensorflow.keras.applications.inception_v3 import InceptionV3\n",
        "from tensorflow.keras.applications import VGG19,ResNet50\n",
        "\n",
        "pre_trained_model = VGG19(include_top=False,weights='imagenet',input_shape=(32,32,3),classes=4)\n",
        "\n",
        "#pre_trained_model = InceptionV3(input_shape=(32,32,3),\n",
        "#                                include_top=False,\n",
        "#                                weights='imagenet')"
      ],
      "execution_count": null,
      "outputs": []
    },
    {
      "cell_type": "code",
      "metadata": {
        "id": "ZNnX-w2EnVrw"
      },
      "source": [
        "for layer in pre_trained_model.layers:\n",
        "  layer.trainable=False"
      ],
      "execution_count": null,
      "outputs": []
    },
    {
      "cell_type": "code",
      "metadata": {
        "id": "e6en5JD0nabQ"
      },
      "source": [
        "model_vgg = Sequential()\n",
        "model_vgg.add(pre_trained_model) #Adds the base model (in this case vgg19 to model_1)\n",
        "model_vgg.add(Flatten())\n",
        "model_vgg.add(Dense(512))\n",
        "model_vgg.add(Activation(\"relu\"))\n",
        "model_vgg.add(Dropout(0.2))\n",
        "model_vgg.add(Dense(num_classes,activation=\"softmax\"))"
      ],
      "execution_count": null,
      "outputs": []
    },
    {
      "cell_type": "code",
      "metadata": {
        "id": "jU2cPMS3nfk4"
      },
      "source": [
        "model_vgg.compile(optimizer=SGD(learning_rate=0.1),\n",
        "                 loss = \"categorical_crossentropy\",\n",
        "                 metrics=[\"accuracy\"])"
      ],
      "execution_count": null,
      "outputs": []
    },
    {
      "cell_type": "code",
      "metadata": {
        "colab": {
          "base_uri": "https://localhost:8080/"
        },
        "id": "-hlblLJd0Q_1",
        "outputId": "2935b3ee-e938-47e5-c3dd-f0123b2db10d"
      },
      "source": [
        "history_fine = model_vgg.fit(train_generator.flow(X_train,y_train,batch_size=32),\n",
        "                            epochs=20,\n",
        "                            validation_data=val_generator.flow(X_valid,y_valid,batch_size=32))\n",
        "                            #initial_epoch=history.epoch[-1],\n",
        "                            #)"
      ],
      "execution_count": null,
      "outputs": [
        {
          "output_type": "stream",
          "name": "stdout",
          "text": [
            "Epoch 1/20\n",
            "1250/1250 [==============================] - 48s 38ms/step - loss: nan - accuracy: 0.9883 - val_loss: nan - val_accuracy: 1.0000\n",
            "Epoch 2/20\n",
            "1250/1250 [==============================] - 47s 38ms/step - loss: nan - accuracy: 1.0000 - val_loss: nan - val_accuracy: 1.0000\n",
            "Epoch 3/20\n",
            "1250/1250 [==============================] - 47s 38ms/step - loss: nan - accuracy: 1.0000 - val_loss: nan - val_accuracy: 1.0000\n",
            "Epoch 4/20\n",
            "1250/1250 [==============================] - 47s 38ms/step - loss: nan - accuracy: 1.0000 - val_loss: nan - val_accuracy: 1.0000\n",
            "Epoch 5/20\n",
            "1250/1250 [==============================] - 47s 38ms/step - loss: nan - accuracy: 1.0000 - val_loss: nan - val_accuracy: 1.0000\n",
            "Epoch 6/20\n",
            "1250/1250 [==============================] - 48s 38ms/step - loss: nan - accuracy: 1.0000 - val_loss: nan - val_accuracy: 1.0000\n",
            "Epoch 7/20\n",
            "1250/1250 [==============================] - 48s 38ms/step - loss: nan - accuracy: 1.0000 - val_loss: nan - val_accuracy: 1.0000\n",
            "Epoch 8/20\n",
            "1250/1250 [==============================] - 48s 38ms/step - loss: nan - accuracy: 1.0000 - val_loss: nan - val_accuracy: 1.0000\n",
            "Epoch 9/20\n",
            "1250/1250 [==============================] - 48s 38ms/step - loss: nan - accuracy: 1.0000 - val_loss: nan - val_accuracy: 1.0000\n",
            "Epoch 10/20\n",
            "1250/1250 [==============================] - 48s 38ms/step - loss: nan - accuracy: 1.0000 - val_loss: nan - val_accuracy: 1.0000\n",
            "Epoch 11/20\n",
            "1250/1250 [==============================] - 48s 38ms/step - loss: nan - accuracy: 1.0000 - val_loss: nan - val_accuracy: 1.0000\n",
            "Epoch 12/20\n",
            "1250/1250 [==============================] - 48s 38ms/step - loss: nan - accuracy: 1.0000 - val_loss: nan - val_accuracy: 1.0000\n",
            "Epoch 13/20\n",
            "1250/1250 [==============================] - 48s 38ms/step - loss: nan - accuracy: 1.0000 - val_loss: nan - val_accuracy: 1.0000\n",
            "Epoch 14/20\n",
            "1250/1250 [==============================] - 48s 38ms/step - loss: nan - accuracy: 1.0000 - val_loss: nan - val_accuracy: 1.0000\n",
            "Epoch 15/20\n",
            "1250/1250 [==============================] - 48s 38ms/step - loss: nan - accuracy: 1.0000 - val_loss: nan - val_accuracy: 1.0000\n",
            "Epoch 16/20\n",
            "1250/1250 [==============================] - 48s 38ms/step - loss: nan - accuracy: 1.0000 - val_loss: nan - val_accuracy: 1.0000\n",
            "Epoch 17/20\n",
            "1250/1250 [==============================] - 48s 39ms/step - loss: nan - accuracy: 1.0000 - val_loss: nan - val_accuracy: 1.0000\n",
            "Epoch 18/20\n",
            "1250/1250 [==============================] - 48s 38ms/step - loss: nan - accuracy: 1.0000 - val_loss: nan - val_accuracy: 1.0000\n",
            "Epoch 19/20\n",
            "1250/1250 [==============================] - 48s 39ms/step - loss: nan - accuracy: 1.0000 - val_loss: nan - val_accuracy: 1.0000\n",
            "Epoch 20/20\n",
            "1250/1250 [==============================] - 48s 39ms/step - loss: nan - accuracy: 1.0000 - val_loss: nan - val_accuracy: 1.0000\n"
          ]
        }
      ]
    },
    {
      "cell_type": "code",
      "metadata": {
        "id": "xstXAkc9fxz9"
      },
      "source": [
        "model = Sequential()\n",
        "model.add(Conv2D(32, (3, 3), input_shape=(32, 32, 3), padding='same', activation='relu'))\n",
        "model.add(Dropout(0.2))\n",
        "model.add(Conv2D(32, (3, 3), activation='relu', padding='same'))\n",
        "model.add(MaxPooling2D())\n",
        "model.add(Flatten())\n",
        "model.add(Dense(512, activation='relu'))\n",
        "model.add(Dropout(0.5))\n",
        "model.add(Dense(10, activation='softmax'))"
      ],
      "execution_count": null,
      "outputs": []
    },
    {
      "cell_type": "code",
      "metadata": {
        "colab": {
          "base_uri": "https://localhost:8080/"
        },
        "id": "lpOgNhd4gISL",
        "outputId": "d70898f5-be0b-41cd-b9fe-15177b906231"
      },
      "source": [
        "epochs = 25\n",
        "lrate = 0.01\n",
        "decay = lrate/epochs\n",
        "sgd = SGD(learning_rate=lrate)#, momentum=0.9, decay=decay, nesterov=False)\n",
        "model.compile(loss='categorical_crossentropy', optimizer=sgd, metrics=['accuracy'])\n",
        "model.summary()\n",
        "# Fit the model\n",
        "model.fit(X_train, y_train, validation_data=(X_valid, y_valid), epochs=epochs, batch_size=32)\n"
      ],
      "execution_count": null,
      "outputs": [
        {
          "output_type": "stream",
          "name": "stdout",
          "text": [
            "Model: \"sequential_8\"\n",
            "_________________________________________________________________\n",
            "Layer (type)                 Output Shape              Param #   \n",
            "=================================================================\n",
            "conv2d_13 (Conv2D)           (None, 32, 32, 32)        896       \n",
            "_________________________________________________________________\n",
            "dropout_13 (Dropout)         (None, 32, 32, 32)        0         \n",
            "_________________________________________________________________\n",
            "conv2d_14 (Conv2D)           (None, 32, 32, 32)        9248      \n",
            "_________________________________________________________________\n",
            "max_pooling2d_6 (MaxPooling2 (None, 16, 16, 32)        0         \n",
            "_________________________________________________________________\n",
            "flatten_6 (Flatten)          (None, 8192)              0         \n",
            "_________________________________________________________________\n",
            "dense_12 (Dense)             (None, 512)               4194816   \n",
            "_________________________________________________________________\n",
            "dropout_14 (Dropout)         (None, 512)               0         \n",
            "_________________________________________________________________\n",
            "dense_13 (Dense)             (None, 10)                5130      \n",
            "=================================================================\n",
            "Total params: 4,210,090\n",
            "Trainable params: 4,210,090\n",
            "Non-trainable params: 0\n",
            "_________________________________________________________________\n",
            "Epoch 1/25\n",
            "1250/1250 [==============================] - 14s 11ms/step - loss: 0.2343 - accuracy: 0.9178 - val_loss: 1.1216 - val_accuracy: 0.6952\n",
            "Epoch 2/25\n",
            "1250/1250 [==============================] - 13s 10ms/step - loss: 0.2249 - accuracy: 0.9202 - val_loss: 1.1310 - val_accuracy: 0.6928\n",
            "Epoch 3/25\n",
            "1250/1250 [==============================] - 13s 10ms/step - loss: 0.2121 - accuracy: 0.9255 - val_loss: 1.1555 - val_accuracy: 0.6920\n",
            "Epoch 4/25\n",
            "1250/1250 [==============================] - 13s 10ms/step - loss: 0.2099 - accuracy: 0.9273 - val_loss: 1.1396 - val_accuracy: 0.6935\n",
            "Epoch 5/25\n",
            "1250/1250 [==============================] - 13s 10ms/step - loss: 0.1988 - accuracy: 0.9301 - val_loss: 1.1868 - val_accuracy: 0.6921\n",
            "Epoch 6/25\n",
            "1250/1250 [==============================] - 13s 10ms/step - loss: 0.1915 - accuracy: 0.9331 - val_loss: 1.1718 - val_accuracy: 0.6910\n",
            "Epoch 7/25\n",
            "1250/1250 [==============================] - 13s 10ms/step - loss: 0.1875 - accuracy: 0.9342 - val_loss: 1.1804 - val_accuracy: 0.6952\n",
            "Epoch 8/25\n",
            "1250/1250 [==============================] - 13s 10ms/step - loss: 0.1792 - accuracy: 0.9379 - val_loss: 1.2069 - val_accuracy: 0.6919\n",
            "Epoch 9/25\n",
            "1250/1250 [==============================] - 13s 10ms/step - loss: 0.1690 - accuracy: 0.9424 - val_loss: 1.2093 - val_accuracy: 0.6964\n",
            "Epoch 10/25\n",
            "1250/1250 [==============================] - 13s 10ms/step - loss: 0.1636 - accuracy: 0.9427 - val_loss: 1.2252 - val_accuracy: 0.6936\n",
            "Epoch 11/25\n",
            "1250/1250 [==============================] - 13s 10ms/step - loss: 0.1568 - accuracy: 0.9473 - val_loss: 1.2564 - val_accuracy: 0.6914\n",
            "Epoch 12/25\n",
            "1250/1250 [==============================] - 13s 10ms/step - loss: 0.1503 - accuracy: 0.9485 - val_loss: 1.2591 - val_accuracy: 0.6942\n",
            "Epoch 13/25\n",
            "1250/1250 [==============================] - 13s 10ms/step - loss: 0.1481 - accuracy: 0.9488 - val_loss: 1.2898 - val_accuracy: 0.6988\n",
            "Epoch 14/25\n",
            "1250/1250 [==============================] - 13s 10ms/step - loss: 0.1455 - accuracy: 0.9495 - val_loss: 1.2710 - val_accuracy: 0.6945\n",
            "Epoch 15/25\n",
            "1250/1250 [==============================] - 13s 10ms/step - loss: 0.1403 - accuracy: 0.9530 - val_loss: 1.2630 - val_accuracy: 0.6969\n",
            "Epoch 16/25\n",
            "1250/1250 [==============================] - 13s 10ms/step - loss: 0.1367 - accuracy: 0.9520 - val_loss: 1.2706 - val_accuracy: 0.6985\n",
            "Epoch 17/25\n",
            "1250/1250 [==============================] - 13s 10ms/step - loss: 0.1307 - accuracy: 0.9557 - val_loss: 1.2832 - val_accuracy: 0.6976\n",
            "Epoch 18/25\n",
            "1250/1250 [==============================] - 13s 10ms/step - loss: 0.1263 - accuracy: 0.9570 - val_loss: 1.3421 - val_accuracy: 0.7006\n",
            "Epoch 19/25\n",
            "1250/1250 [==============================] - 13s 10ms/step - loss: 0.1208 - accuracy: 0.9578 - val_loss: 1.3120 - val_accuracy: 0.6996\n",
            "Epoch 20/25\n",
            "1250/1250 [==============================] - 13s 10ms/step - loss: 0.1199 - accuracy: 0.9581 - val_loss: 1.3375 - val_accuracy: 0.6982\n",
            "Epoch 21/25\n",
            "1250/1250 [==============================] - 13s 10ms/step - loss: 0.1185 - accuracy: 0.9595 - val_loss: 1.3288 - val_accuracy: 0.6972\n",
            "Epoch 22/25\n",
            "1250/1250 [==============================] - 13s 10ms/step - loss: 0.1117 - accuracy: 0.9617 - val_loss: 1.3387 - val_accuracy: 0.7017\n",
            "Epoch 23/25\n",
            "1250/1250 [==============================] - 13s 10ms/step - loss: 0.1104 - accuracy: 0.9638 - val_loss: 1.3473 - val_accuracy: 0.7021\n",
            "Epoch 24/25\n",
            "1250/1250 [==============================] - 13s 10ms/step - loss: 0.1060 - accuracy: 0.9644 - val_loss: 1.3298 - val_accuracy: 0.6990\n",
            "Epoch 25/25\n",
            "1250/1250 [==============================] - 13s 10ms/step - loss: 0.1038 - accuracy: 0.9646 - val_loss: 1.3490 - val_accuracy: 0.6978\n"
          ]
        },
        {
          "output_type": "execute_result",
          "data": {
            "text/plain": [
              "<keras.callbacks.History at 0x7f46d53c2090>"
            ]
          },
          "metadata": {},
          "execution_count": 46
        }
      ]
    },
    {
      "cell_type": "code",
      "metadata": {
        "id": "wZmXoJ6hlgL-"
      },
      "source": [
        ""
      ],
      "execution_count": null,
      "outputs": []
    },
    {
      "cell_type": "code",
      "metadata": {
        "colab": {
          "base_uri": "https://localhost:8080/"
        },
        "id": "cqbafTfhl3wU",
        "outputId": "1ff31647-414f-4b6e-dd52-0e6550f913d3"
      },
      "source": [
        "# Final evaluation of the model\n",
        "scores = model.evaluate(X_test, y_test, verbose=0)\n",
        "print(\"Accuracy: %.2f%%\" % (scores[1]*100))"
      ],
      "execution_count": null,
      "outputs": [
        {
          "output_type": "stream",
          "name": "stdout",
          "text": [
            "Accuracy: 69.04%\n"
          ]
        }
      ]
    }
  ]
}