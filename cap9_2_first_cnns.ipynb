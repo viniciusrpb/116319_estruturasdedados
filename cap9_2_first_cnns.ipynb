{
  "nbformat": 4,
  "nbformat_minor": 0,
  "metadata": {
    "accelerator": "GPU",
    "colab": {
      "name": "cap9_2_first_cnns.ipynb",
      "provenance": [],
      "collapsed_sections": [],
      "authorship_tag": "ABX9TyOyJ6Pq1BMTQYRRNuLUzNIk",
      "include_colab_link": true
    },
    "kernelspec": {
      "display_name": "Python 3",
      "name": "python3"
    },
    "language_info": {
      "name": "python"
    }
  },
  "cells": [
    {
      "cell_type": "markdown",
      "metadata": {
        "id": "view-in-github",
        "colab_type": "text"
      },
      "source": [
        "<a href=\"https://colab.research.google.com/github/viniciusrpb/116319_estruturasdedados/blob/main/cap9_2_first_cnns.ipynb\" target=\"_parent\"><img src=\"https://colab.research.google.com/assets/colab-badge.svg\" alt=\"Open In Colab\"/></a>"
      ]
    },
    {
      "cell_type": "markdown",
      "metadata": {
        "id": "Qh0ZWibZtXyZ"
      },
      "source": [
        "# Capítulo 9\n",
        "\n",
        "### 9.2. Criando Redes Neurais Convolucionais\n"
      ]
    },
    {
      "cell_type": "code",
      "metadata": {
        "id": "sko_fRbqI4ap"
      },
      "source": [
        "from keras.models import Sequential\n",
        "from keras.layers import Dense,MaxPooling2D,Activation,Dropout,Flatten,Conv2D\n",
        "from tensorflow.keras.optimizers import SGD\n",
        "from tensorflow.keras.preprocessing.image import ImageDataGenerator\n",
        "import numpy as np\n",
        "import cv2\n",
        "import matplotlib.pyplot as plt"
      ],
      "execution_count": 83,
      "outputs": []
    },
    {
      "cell_type": "markdown",
      "metadata": {
        "id": "FctMSCS4wxqu"
      },
      "source": [
        "Carregando o conjunto de dados de folhas que utilizaremos como exemplo:"
      ]
    },
    {
      "cell_type": "code",
      "metadata": {
        "id": "whvCeVL6IvDr"
      },
      "source": [
        ""
      ],
      "execution_count": 74,
      "outputs": []
    },
    {
      "cell_type": "markdown",
      "metadata": {
        "id": "1s3MtjUD_58Q"
      },
      "source": [
        "### 9.2.2. Utilizando nossos próprios dados\n",
        "\n",
        "\n"
      ]
    },
    {
      "cell_type": "code",
      "metadata": {
        "id": "APEjn_A6Bton",
        "colab": {
          "base_uri": "https://localhost:8080/"
        },
        "outputId": "ca81d6bf-2383-4f95-81e1-c36e6f8c4c86"
      },
      "source": [
        "from google.colab import drive\n",
        "drive.mount('/content/drive')"
      ],
      "execution_count": 75,
      "outputs": [
        {
          "output_type": "stream",
          "name": "stdout",
          "text": [
            "Drive already mounted at /content/drive; to attempt to forcibly remount, call drive.mount(\"/content/drive\", force_remount=True).\n"
          ]
        }
      ]
    },
    {
      "cell_type": "code",
      "metadata": {
        "id": "jf12eShWBsI4"
      },
      "source": [
        "!cp -r \"/content/drive/My Drive/leafs\" \"leafs\""
      ],
      "execution_count": 76,
      "outputs": []
    },
    {
      "cell_type": "code",
      "metadata": {
        "id": "5pze7VJhMwvE",
        "colab": {
          "base_uri": "https://localhost:8080/"
        },
        "outputId": "6c765b22-fab5-4ea8-8e6d-d83969b80732"
      },
      "source": [
        "train_datagen = ImageDataGenerator(rescale=1./255.,\n",
        "                                   rotation_range=40,\n",
        "                                   width_shift_range=0.2,\n",
        "                                   height_shift_range=0.2,\n",
        "                                   shear_range=0.2,\n",
        "                                   zoom_range=0.2,\n",
        "                                   horizontal_flip=True,\n",
        "                                   fill_mode='nearest',\n",
        "                                   validation_split=0.2)\n",
        "\n",
        "test_datagen = ImageDataGenerator(rescale=1./255)\n",
        "\n",
        "train_set = train_datagen.flow_from_directory('leafs/leafs/train/',\n",
        "                                        batch_size=32,\n",
        "                                        class_mode='categorical',\n",
        "                                        target_size=(128,128),\n",
        "                                        subset='training')\n",
        "\n",
        "validation_set = train_datagen.flow_from_directory('leafs/leafs/train/',\n",
        "                                        batch_size=32,\n",
        "                                        shuffle=False,\n",
        "                                        class_mode='categorical',\n",
        "                                        target_size=(128,128),\n",
        "                                        subset='validation')\n",
        "\n",
        "test_set = test_datagen.flow_from_directory('leafs/leafs/test/',\n",
        "                                        batch_size=32,\n",
        "                                        shuffle=False,\n",
        "                                        class_mode='categorical',\n",
        "                                        target_size=(128,128))"
      ],
      "execution_count": 149,
      "outputs": [
        {
          "output_type": "stream",
          "name": "stdout",
          "text": [
            "Found 160 images belonging to 4 classes.\n",
            "Found 40 images belonging to 4 classes.\n",
            "Found 100 images belonging to 4 classes.\n"
          ]
        }
      ]
    },
    {
      "cell_type": "code",
      "metadata": {
        "id": "iGMwj8XfEgb3"
      },
      "source": [
        "number_filters = 5\n",
        "kernel_dimensions = (5,5)\n",
        "tam_strides = (1,1)\n",
        "number_of_neurons = 10\n",
        "num_classes = 4\n",
        "\n",
        "depth = 3"
      ],
      "execution_count": 130,
      "outputs": []
    },
    {
      "cell_type": "code",
      "metadata": {
        "id": "3F8Sfh4xD8c6"
      },
      "source": [
        "model = Sequential()\n",
        "\n",
        "model.add(Conv2D(filters=number_filters,kernel_size=kernel_dimensions,strides=tam_strides, padding='same',kernel_initializer='glorot_normal',activation='relu',input_shape=(64,64,depth)))\n",
        "\n",
        "model.add(GlobalMaxPool2D())\n",
        "# fullly connected faz o stretch do activation map 2d para um vetor\n",
        "model.add(Flatten())\n",
        "model.add(Dense(number_of_neurons))\n",
        "model.add(Activation('relu'))\n",
        "model.add(Dropout(0.5))\n",
        "model.add(Dense(num_classes))\n",
        "model.add(Activation('softmax'))\n"
      ],
      "execution_count": 131,
      "outputs": []
    },
    {
      "cell_type": "code",
      "metadata": {
        "id": "HkFU8YpUiJkM"
      },
      "source": [
        "model2 = Sequential()\n",
        "\n",
        "model2.add(Conv2D(filters=64,kernel_size=(3,3),strides=tam_strides, padding='same',kernel_initializer='glorot_normal',activation='relu',input_shape=(128,128,depth)))\n",
        "model2.add(MaxPooling2D(pool_size=(2, 2)))\n",
        "\n",
        "model2.add(Conv2D(filters=32,kernel_size=(3,3),padding='same',kernel_initializer='glorot_normal',activation='relu'))\n",
        "model2.add(MaxPooling2D(pool_size=(2, 2)))\n",
        "\n",
        "model2.add(Conv2D(filters=16,kernel_size=(5,5),padding='same',kernel_initializer='glorot_normal'))\n",
        "model2.add(Activation('relu'))\n",
        "model2.add(MaxPooling2D(pool_size=(2, 2)))\n",
        "\n",
        "# fullly connected faz o stretch do activation map 2d para um vetor\n",
        "model2.add(Flatten())\n",
        "model2.add(Dense(number_of_neurons))\n",
        "model2.add(Activation('relu'))\n",
        "model2.add(Dropout(0.5))\n",
        "model2.add(Dense(num_classes))\n",
        "model2.add(Activation('softmax'))"
      ],
      "execution_count": 145,
      "outputs": []
    },
    {
      "cell_type": "markdown",
      "metadata": {
        "id": "Cn_kA8ZdiNKj"
      },
      "source": [
        ""
      ]
    },
    {
      "cell_type": "markdown",
      "metadata": {
        "id": "8j0w6-ScSKPe"
      },
      "source": [
        ""
      ]
    },
    {
      "cell_type": "code",
      "metadata": {
        "id": "k9NwCN40Saol",
        "colab": {
          "base_uri": "https://localhost:8080/"
        },
        "outputId": "c4009c51-39e3-4384-9306-e225b61f3e68"
      },
      "source": [
        "model2.summary()"
      ],
      "execution_count": 146,
      "outputs": [
        {
          "output_type": "stream",
          "name": "stdout",
          "text": [
            "Model: \"sequential_33\"\n",
            "_________________________________________________________________\n",
            "Layer (type)                 Output Shape              Param #   \n",
            "=================================================================\n",
            "conv2d_61 (Conv2D)           (None, 128, 128, 64)      1792      \n",
            "_________________________________________________________________\n",
            "max_pooling2d_34 (MaxPooling (None, 64, 64, 64)        0         \n",
            "_________________________________________________________________\n",
            "conv2d_62 (Conv2D)           (None, 64, 64, 32)        18464     \n",
            "_________________________________________________________________\n",
            "max_pooling2d_35 (MaxPooling (None, 32, 32, 32)        0         \n",
            "_________________________________________________________________\n",
            "conv2d_63 (Conv2D)           (None, 32, 32, 16)        12816     \n",
            "_________________________________________________________________\n",
            "activation_59 (Activation)   (None, 32, 32, 16)        0         \n",
            "_________________________________________________________________\n",
            "max_pooling2d_36 (MaxPooling (None, 16, 16, 16)        0         \n",
            "_________________________________________________________________\n",
            "flatten_20 (Flatten)         (None, 4096)              0         \n",
            "_________________________________________________________________\n",
            "dense_48 (Dense)             (None, 10)                40970     \n",
            "_________________________________________________________________\n",
            "activation_60 (Activation)   (None, 10)                0         \n",
            "_________________________________________________________________\n",
            "dropout_19 (Dropout)         (None, 10)                0         \n",
            "_________________________________________________________________\n",
            "dense_49 (Dense)             (None, 4)                 44        \n",
            "_________________________________________________________________\n",
            "activation_61 (Activation)   (None, 4)                 0         \n",
            "=================================================================\n",
            "Total params: 74,086\n",
            "Trainable params: 74,086\n",
            "Non-trainable params: 0\n",
            "_________________________________________________________________\n"
          ]
        }
      ]
    },
    {
      "cell_type": "code",
      "metadata": {
        "id": "qzJqrABxSigg"
      },
      "source": [
        "sgd = SGD(learning_rate=0.1)\n",
        "\n",
        "model2.compile(loss='categorical_crossentropy',optimizer=sgd,metrics=['accuracy'])"
      ],
      "execution_count": 147,
      "outputs": []
    },
    {
      "cell_type": "code",
      "metadata": {
        "id": "vPxBRdttTOWd",
        "colab": {
          "base_uri": "https://localhost:8080/"
        },
        "outputId": "6462873b-6212-40c8-8853-7484ac923c9e"
      },
      "source": [
        "model2.fit(train_set,validation_data=validation_set,epochs=20)"
      ],
      "execution_count": 150,
      "outputs": [
        {
          "output_type": "stream",
          "name": "stdout",
          "text": [
            "Epoch 1/20\n",
            "5/5 [==============================] - 15s 3s/step - loss: 1.5241 - accuracy: 0.1875 - val_loss: 1.3861 - val_accuracy: 0.2750\n",
            "Epoch 2/20\n",
            "5/5 [==============================] - 12s 3s/step - loss: 1.3879 - accuracy: 0.2062 - val_loss: 1.3855 - val_accuracy: 0.2500\n",
            "Epoch 3/20\n",
            "5/5 [==============================] - 12s 3s/step - loss: 1.3876 - accuracy: 0.2188 - val_loss: 1.3850 - val_accuracy: 0.2750\n",
            "Epoch 4/20\n",
            "5/5 [==============================] - 12s 3s/step - loss: 1.3872 - accuracy: 0.1937 - val_loss: 1.3843 - val_accuracy: 0.2250\n",
            "Epoch 5/20\n",
            "5/5 [==============================] - 13s 3s/step - loss: 1.3844 - accuracy: 0.3000 - val_loss: 1.3801 - val_accuracy: 0.2750\n",
            "Epoch 6/20\n",
            "5/5 [==============================] - 12s 3s/step - loss: 1.3893 - accuracy: 0.1937 - val_loss: 1.3865 - val_accuracy: 0.2500\n",
            "Epoch 7/20\n",
            "5/5 [==============================] - 12s 3s/step - loss: 1.3853 - accuracy: 0.2188 - val_loss: 1.3851 - val_accuracy: 0.1500\n",
            "Epoch 8/20\n",
            "5/5 [==============================] - 12s 3s/step - loss: 1.3828 - accuracy: 0.2875 - val_loss: 1.3849 - val_accuracy: 0.3000\n",
            "Epoch 9/20\n",
            "5/5 [==============================] - 13s 3s/step - loss: 1.3775 - accuracy: 0.3375 - val_loss: 1.3810 - val_accuracy: 0.3000\n",
            "Epoch 10/20\n",
            "5/5 [==============================] - 13s 3s/step - loss: 1.3774 - accuracy: 0.2875 - val_loss: 1.3627 - val_accuracy: 0.3000\n",
            "Epoch 11/20\n",
            "5/5 [==============================] - 12s 3s/step - loss: 1.3674 - accuracy: 0.2688 - val_loss: 1.3585 - val_accuracy: 0.3250\n",
            "Epoch 12/20\n",
            "5/5 [==============================] - 12s 3s/step - loss: 1.3872 - accuracy: 0.2812 - val_loss: 1.3832 - val_accuracy: 0.2500\n",
            "Epoch 13/20\n",
            "5/5 [==============================] - 12s 3s/step - loss: 1.3906 - accuracy: 0.2000 - val_loss: 1.3839 - val_accuracy: 0.2500\n",
            "Epoch 14/20\n",
            "5/5 [==============================] - 12s 3s/step - loss: 1.3833 - accuracy: 0.2250 - val_loss: 1.3706 - val_accuracy: 0.3000\n",
            "Epoch 15/20\n",
            "5/5 [==============================] - 12s 3s/step - loss: 1.3655 - accuracy: 0.2750 - val_loss: 1.3616 - val_accuracy: 0.3250\n",
            "Epoch 16/20\n",
            "5/5 [==============================] - 12s 3s/step - loss: 1.3577 - accuracy: 0.2875 - val_loss: 1.3677 - val_accuracy: 0.3750\n",
            "Epoch 17/20\n",
            "5/5 [==============================] - 12s 3s/step - loss: 1.3548 - accuracy: 0.3500 - val_loss: 1.3386 - val_accuracy: 0.3000\n",
            "Epoch 18/20\n",
            "5/5 [==============================] - 12s 3s/step - loss: 1.4267 - accuracy: 0.2688 - val_loss: 1.3849 - val_accuracy: 0.2500\n",
            "Epoch 19/20\n",
            "5/5 [==============================] - 13s 3s/step - loss: 1.3850 - accuracy: 0.2125 - val_loss: 1.3795 - val_accuracy: 0.2500\n",
            "Epoch 20/20\n",
            "5/5 [==============================] - 12s 3s/step - loss: 1.3847 - accuracy: 0.2562 - val_loss: 1.3791 - val_accuracy: 0.3000\n"
          ]
        },
        {
          "output_type": "execute_result",
          "data": {
            "text/plain": [
              "<keras.callbacks.History at 0x7f9cb86506d0>"
            ]
          },
          "metadata": {},
          "execution_count": 150
        }
      ]
    },
    {
      "cell_type": "code",
      "metadata": {
        "colab": {
          "base_uri": "https://localhost:8080/"
        },
        "id": "1pPWRN0lbwdW",
        "outputId": "0d57f010-51a4-4585-8fcb-4b66d8d880d2"
      },
      "source": [
        "from sklearn.metrics import classification_report, confusion_matrix\n",
        "\n",
        "Y_pred = model.predict(test_set, 100 // 32+1)\n",
        "y_pred = np.argmax(Y_pred, axis=1)\n",
        "print('Confusion Matrix')\n",
        "print(confusion_matrix(test_set.classes, y_pred))\n",
        "print('Classification Report')\n",
        "target_names = ['Leaf1', 'Leaf6', 'Leaf9','Leaf12']\n",
        "print(classification_report(test_set.classes, y_pred, target_names=target_names))"
      ],
      "execution_count": 151,
      "outputs": [
        {
          "output_type": "stream",
          "name": "stdout",
          "text": [
            "Confusion Matrix\n",
            "[[24  0  1  0]\n",
            " [25  0  0  0]\n",
            " [25  0  0  0]\n",
            " [25  0  0  0]]\n",
            "Classification Report\n",
            "              precision    recall  f1-score   support\n",
            "\n",
            "       Leaf1       0.24      0.96      0.39        25\n",
            "       Leaf6       0.00      0.00      0.00        25\n",
            "       Leaf9       0.00      0.00      0.00        25\n",
            "      Leaf12       0.00      0.00      0.00        25\n",
            "\n",
            "    accuracy                           0.24       100\n",
            "   macro avg       0.06      0.24      0.10       100\n",
            "weighted avg       0.06      0.24      0.10       100\n",
            "\n"
          ]
        },
        {
          "output_type": "stream",
          "name": "stderr",
          "text": [
            "/usr/local/lib/python3.7/dist-packages/sklearn/metrics/_classification.py:1272: UndefinedMetricWarning: Precision and F-score are ill-defined and being set to 0.0 in labels with no predicted samples. Use `zero_division` parameter to control this behavior.\n",
            "  _warn_prf(average, modifier, msg_start, len(result))\n"
          ]
        }
      ]
    },
    {
      "cell_type": "markdown",
      "metadata": {
        "id": "K-8gdjTbBegx"
      },
      "source": [
        "## Jargões\n",
        "\n",
        "Stride: pulo da evolução no processo de convolução entre uma imagem e um fitlro. O ideal é utilizarmos stride 1 ou 2 (caso a imagem seja grande). No stride 1, cada pixel da imagem é considerado na convolução, enquanto que no stride 2, o filtro é passado sobre a imagem a cada 2 pixels.\n",
        "\n",
        "Stride horizontal Stride vertical"
      ]
    }
  ]
}