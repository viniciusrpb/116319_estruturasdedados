{
  "nbformat": 4,
  "nbformat_minor": 0,
  "metadata": {
    "colab": {
      "name": "basics_cnn.ipynb",
      "provenance": [],
      "authorship_tag": "ABX9TyNWxqpdc1vxY2PX+Gn5TqAF",
      "include_colab_link": true
    },
    "kernelspec": {
      "name": "python3",
      "display_name": "Python 3"
    },
    "language_info": {
      "name": "python"
    },
    "accelerator": "GPU"
  },
  "cells": [
    {
      "cell_type": "markdown",
      "metadata": {
        "id": "view-in-github",
        "colab_type": "text"
      },
      "source": [
        "<a href=\"https://colab.research.google.com/github/viniciusrpb/116319_estruturasdedados/blob/main/basics_cnn.ipynb\" target=\"_parent\"><img src=\"https://colab.research.google.com/assets/colab-badge.svg\" alt=\"Open In Colab\"/></a>"
      ]
    },
    {
      "cell_type": "code",
      "metadata": {
        "colab": {
          "base_uri": "https://localhost:8080/"
        },
        "id": "OAMG0ueu0xbd",
        "outputId": "1f476f4a-8163-458e-8a9d-209a9eea63af"
      },
      "source": [
        "#from google.colab import drive\n",
        "#drive.mount('/content/drive')"
      ],
      "execution_count": 1,
      "outputs": [
        {
          "output_type": "stream",
          "name": "stdout",
          "text": [
            "Mounted at /content/drive\n"
          ]
        }
      ]
    },
    {
      "cell_type": "code",
      "metadata": {
        "id": "pqfxEuRM0y0s"
      },
      "source": [
        "#!cp -r \"/content/drive/My Drive/leafs\" \"leafs\""
      ],
      "execution_count": 2,
      "outputs": []
    },
    {
      "cell_type": "code",
      "metadata": {
        "id": "l_vorfRTu_V0"
      },
      "source": [
        "import numpy as np\n",
        "from keras.models import Sequential\n",
        "from keras.layers import Conv2D,GlobalMaxPooling2D,Dense,Dropout,Activation\n",
        "from tensorflow.keras.preprocessing.image import ImageDataGenerator"
      ],
      "execution_count": 7,
      "outputs": []
    },
    {
      "cell_type": "code",
      "metadata": {
        "id": "6QreUA6zuo9H"
      },
      "source": [
        "max_len = 300\n",
        "number_filters = 15\n",
        "kernel_size = (5, 5)\n",
        "epochs = 2\n",
        "input_dimensions = 3\n",
        "num_classes = 4\n",
        "hidden_dimensions = 5\n",
        "strides = (1,1)\n",
        "batch_size = 32\n"
      ],
      "execution_count": 18,
      "outputs": []
    },
    {
      "cell_type": "code",
      "metadata": {
        "id": "ZCCPr-k5x_I8",
        "colab": {
          "base_uri": "https://localhost:8080/"
        },
        "outputId": "241bc625-5239-41e8-f239-f06d382b3188"
      },
      "source": [
        "train_datagen = ImageDataGenerator(rescale = 1./255.,validation_split=0.2)\n",
        "\n",
        "train_gen = train_datagen.flow_from_directory('leafs',\n",
        "                                                    batch_size = 32,\n",
        "                                                    class_mode = 'categorical', \n",
        "                                                    target_size = (150, 150),\n",
        "                                                    subset='training')\n",
        "\n",
        "validation_gen = train_datagen.flow_from_directory('leafs',\n",
        "                                                    batch_size = 32,\n",
        "                                                    class_mode = 'categorical', \n",
        "                                                    target_size = (150, 150),\n",
        "                                                    subset='validation')"
      ],
      "execution_count": 19,
      "outputs": [
        {
          "output_type": "stream",
          "name": "stdout",
          "text": [
            "Found 240 images belonging to 4 classes.\n",
            "Found 60 images belonging to 4 classes.\n"
          ]
        }
      ]
    },
    {
      "cell_type": "code",
      "metadata": {
        "id": "rlT4DA-zuyD1"
      },
      "source": [
        "#model.add(Conv2D(filters,kernel_size,padding='valid',activation='relu',strides=1,input_shape=((max_len,max_len),input_dimensions)))\n",
        "model = Sequential()\n",
        "model.add(Conv2D(number_filters,kernel_size,strides,padding='valid',activation='relu',input_shape=(150,150,3)))\n",
        "\n",
        "\n",
        "model.add(GlobalMaxPooling2D())\n",
        "\n",
        "model.add(Dense(hidden_dimensions))\n",
        "model.add(Dropout(0.2))\n",
        "model.add(Activation('relu'))"
      ],
      "execution_count": 10,
      "outputs": []
    },
    {
      "cell_type": "markdown",
      "metadata": {
        "id": "BWlhkT8i1b9U"
      },
      "source": [
        "Camada de saída"
      ]
    },
    {
      "cell_type": "code",
      "metadata": {
        "id": "k65nUWMy1cFK"
      },
      "source": [
        "model.add(Dense(num_classes))\n",
        "model.add(Activation('sigmoid'))"
      ],
      "execution_count": 11,
      "outputs": []
    },
    {
      "cell_type": "code",
      "metadata": {
        "id": "9lfmTjwc12eS"
      },
      "source": [
        "model.compile(loss='binary_crossentropy',optimizer='adam',metrics=['accuracy'])"
      ],
      "execution_count": 12,
      "outputs": []
    },
    {
      "cell_type": "code",
      "metadata": {
        "colab": {
          "base_uri": "https://localhost:8080/"
        },
        "id": "ZXSsXN0P2QHH",
        "outputId": "8cfd4841-ad8e-4259-9189-df3760df2b77"
      },
      "source": [
        "history = model.fit(\n",
        "            train_gen,\n",
        "            validation_data = validation_gen,\n",
        "            steps_per_epoch = train_gen.samples // batch_size,\n",
        "            epochs = 20,\n",
        "            validation_steps = validation_gen.samples // batch_size)"
      ],
      "execution_count": null,
      "outputs": [
        {
          "output_type": "stream",
          "name": "stdout",
          "text": [
            "Epoch 1/20\n"
          ]
        }
      ]
    },
    {
      "cell_type": "code",
      "metadata": {
        "id": "6mVazj262bCl"
      },
      "source": [
        "model.save_weights(\"cnn_weights.h5\")"
      ],
      "execution_count": null,
      "outputs": []
    }
  ]
}