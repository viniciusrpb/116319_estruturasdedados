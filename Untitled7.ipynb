{
  "nbformat": 4,
  "nbformat_minor": 0,
  "metadata": {
    "colab": {
      "name": "Untitled7.ipynb",
      "provenance": [],
      "authorship_tag": "ABX9TyMqOITU4SLisGwtdIOpRwE6",
      "include_colab_link": true
    },
    "kernelspec": {
      "name": "python3",
      "display_name": "Python 3"
    },
    "language_info": {
      "name": "python"
    }
  },
  "cells": [
    {
      "cell_type": "markdown",
      "metadata": {
        "id": "view-in-github",
        "colab_type": "text"
      },
      "source": [
        "<a href=\"https://colab.research.google.com/github/viniciusrpb/116319_estruturasdedados/blob/main/Untitled7.ipynb\" target=\"_parent\"><img src=\"https://colab.research.google.com/assets/colab-badge.svg\" alt=\"Open In Colab\"/></a>"
      ]
    },
    {
      "cell_type": "markdown",
      "source": [
        ""
      ],
      "metadata": {
        "id": "H1svyaGzAYON"
      }
    },
    {
      "cell_type": "code",
      "source": [
        "from google.colab import drive\n",
        "drive.mount('/content/drive')"
      ],
      "metadata": {
        "colab": {
          "base_uri": "https://localhost:8080/"
        },
        "id": "P1rL1ebMAXG9",
        "outputId": "55dd0266-7088-488b-d0c3-c9b8eff48ab2"
      },
      "execution_count": 1,
      "outputs": [
        {
          "output_type": "stream",
          "name": "stdout",
          "text": [
            "Mounted at /content/drive\n"
          ]
        }
      ]
    },
    {
      "cell_type": "code",
      "source": [
        "!cp -r \"/content/drive/My Drive/shapes/kimia216\" \"kimia216\"\n"
      ],
      "metadata": {
        "id": "HsgHkR1KBWS5"
      },
      "execution_count": 2,
      "outputs": []
    },
    {
      "cell_type": "code",
      "source": [
        "from google.colab.patches import cv2_imshow\n",
        "import cv2"
      ],
      "metadata": {
        "id": "_-BAWoUaB0F_"
      },
      "execution_count": 8,
      "outputs": []
    },
    {
      "cell_type": "code",
      "execution_count": 20,
      "metadata": {
        "colab": {
          "base_uri": "https://localhost:8080/",
          "height": 120
        },
        "id": "fdYnqp4MASRS",
        "outputId": "08fddd5c-bebd-4ef7-8b55-5df78b42c66d"
      },
      "outputs": [
        {
          "output_type": "stream",
          "name": "stdout",
          "text": [
            "0.7010795681727309\n"
          ]
        },
        {
          "output_type": "display_data",
          "data": {
            "image/png": "[encoded data removed]",
            "text/plain": [
              "<PIL.Image.Image image mode=RGB size=115x86 at 0x7F0084F07B50>"
            ]
          },
          "metadata": {}
        }
      ],
      "source": [
        "# Load the image\n",
        "img1 = cv2.imread('/content/kimia216/kimia216/elephant/elephant05.png')\n",
        "# Convert it to greyscale\n",
        "img = cv2.cvtColor(img1, cv2.COLOR_BGR2GRAY)\n",
        "# Threshold the image\n",
        "ret, thresh = cv2.threshold(img,50,255,0)\n",
        "# Find the contours\n",
        "contours, hierarchy = cv2.findContours(thresh, cv2.RETR_EXTERNAL, cv2.CHAIN_APPROX_SIMPLE)\n",
        "# For each contour, find the convex hull and draw it\n",
        "# on the original image.\n",
        "for i in range(len(contours)):\n",
        "    hull = cv2.convexHull(contours[i])\n",
        "    cv2.drawContours(img1, [hull], -1, (255, 0, 0), 2)\n",
        "\n",
        "    area = cv2.contourArea(contours[i])\n",
        "    (x, y, w, h) = cv2.boundingRect(contours[i])\n",
        "    \n",
        "    hullArea = cv2.contourArea(hull)\n",
        "    solidity = area / float(hullArea)\n",
        " \n",
        "    print(solidity)\n",
        "# Display the final convex hull image\n",
        "cv2_imshow(img1)\n"
      ]
    },
    {
      "cell_type": "code",
      "source": [
        "\n",
        "# Load the image\n",
        "img1 = cv2.imread('/content/kimia216/kimia216/brick/brick08.png')\n",
        "# Convert it to greyscale\n",
        "img = cv2.cvtColor(img1, cv2.COLOR_BGR2GRAY)\n",
        "# Threshold the image\n",
        "ret, thresh = cv2.threshold(img,50,255,0)\n",
        "# Find the contours\n",
        "contours, hierarchy = cv2.findContours(thresh, cv2.RETR_TREE, cv2.CHAIN_APPROX_SIMPLE)\n",
        "# For each contour, find the convex hull and draw it\n",
        "# on the original image.\n",
        "for i in range(len(contours)):\n",
        "    hull = cv2.convexHull(contours[i])\n",
        "    cv2.drawContours(img1, [hull], -1, (255, 0, 0), 2)\n",
        "\n",
        "    area = cv2.contourArea(contours[i])\n",
        "    (x, y, w, h) = cv2.boundingRect(contours[i])\n",
        "    \n",
        "    hullArea = cv2.contourArea(hull)\n",
        "    solidity = area / float(hullArea)\n",
        " \n",
        "    print(solidity)\n",
        "# Display the final convex hull image\n",
        "cv2_imshow(img1)\n"
      ],
      "metadata": {
        "colab": {
          "base_uri": "https://localhost:8080/",
          "height": 83
        },
        "id": "grbHEpBKB3u9",
        "outputId": "f3ca893d-a496-4956-ce4a-e198a4f598c2"
      },
      "execution_count": 21,
      "outputs": [
        {
          "output_type": "stream",
          "name": "stdout",
          "text": [
            "0.8225114854517611\n"
          ]
        },
        {
          "output_type": "display_data",
          "data": {
            "image/png": "[encoded data removed]",
            "text/plain": [
              "<PIL.Image.Image image mode=RGB size=113x49 at 0x7F0084EE2ED0>"
            ]
          },
          "metadata": {}
        }
      ]
    }
  ]
}