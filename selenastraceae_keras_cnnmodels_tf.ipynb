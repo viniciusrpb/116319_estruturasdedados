{
  "nbformat": 4,
  "nbformat_minor": 0,
  "metadata": {
    "kernelspec": {
      "display_name": "Python 3",
      "language": "python",
      "name": "python3"
    },
    "language_info": {
      "codemirror_mode": {
        "name": "ipython",
        "version": 3
      },
      "file_extension": ".py",
      "mimetype": "text/x-python",
      "name": "python",
      "nbconvert_exporter": "python",
      "pygments_lexer": "ipython3",
      "version": "3.6.10"
    },
    "colab": {
      "name": "selenastraceae_keras_cnnmodels.ipynb",
      "provenance": [],
      "collapsed_sections": [],
      "include_colab_link": true
    },
    "accelerator": "GPU"
  },
  "cells": [
    {
      "cell_type": "markdown",
      "metadata": {
        "id": "view-in-github",
        "colab_type": "text"
      },
      "source": [
        "<a href=\"https://colab.research.google.com/github/viniciusrpb/116319_estruturasdedados/blob/main/selenastraceae_keras_cnnmodels_tf.ipynb\" target=\"_parent\"><img src=\"https://colab.research.google.com/assets/colab-badge.svg\" alt=\"Open In Colab\"/></a>"
      ]
    },
    {
      "cell_type": "code",
      "metadata": {
        "id": "Lf68PvvD_GXN",
        "colab": {
          "base_uri": "https://localhost:8080/"
        },
        "outputId": "ef1ad8b8-7452-42f7-9850-ce9936235031"
      },
      "source": [
        "from google.colab import drive\n",
        "drive.mount('/content/drive')"
      ],
      "execution_count": 2,
      "outputs": [
        {
          "output_type": "stream",
          "name": "stdout",
          "text": [
            "Mounted at /content/drive\n"
          ]
        }
      ]
    },
    {
      "cell_type": "markdown",
      "source": [
        "# New Section"
      ],
      "metadata": {
        "id": "uSEdHGn26Hzg"
      }
    },
    {
      "cell_type": "code",
      "metadata": {
        "colab": {
          "base_uri": "https://localhost:8080/"
        },
        "id": "6o0SMmf8z9qD",
        "outputId": "a7ab86c0-9c4f-42c7-826d-d93e8bf2efbe"
      },
      "source": [
        "!pip install tensorflow_addons"
      ],
      "execution_count": 3,
      "outputs": [
        {
          "output_type": "stream",
          "name": "stdout",
          "text": [
            "Collecting tensorflow_addons\n",
            "  Downloading tensorflow_addons-0.15.0-cp37-cp37m-manylinux_2_12_x86_64.manylinux2010_x86_64.whl (1.1 MB)\n",
            "\u001b[?25l\r\u001b[K     |▎                               | 10 kB 19.4 MB/s eta 0:00:01\r\u001b[K     |▋                               | 20 kB 10.8 MB/s eta 0:00:01\r\u001b[K     |▉                               | 30 kB 9.1 MB/s eta 0:00:01\r\u001b[K     |█▏                              | 40 kB 8.3 MB/s eta 0:00:01\r\u001b[K     |█▌                              | 51 kB 5.5 MB/s eta 0:00:01\r\u001b[K     |█▊                              | 61 kB 5.6 MB/s eta 0:00:01\r\u001b[K     |██                              | 71 kB 5.6 MB/s eta 0:00:01\r\u001b[K     |██▍                             | 81 kB 6.2 MB/s eta 0:00:01\r\u001b[K     |██▋                             | 92 kB 6.2 MB/s eta 0:00:01\r\u001b[K     |███                             | 102 kB 5.3 MB/s eta 0:00:01\r\u001b[K     |███▎                            | 112 kB 5.3 MB/s eta 0:00:01\r\u001b[K     |███▌                            | 122 kB 5.3 MB/s eta 0:00:01\r\u001b[K     |███▉                            | 133 kB 5.3 MB/s eta 0:00:01\r\u001b[K     |████▏                           | 143 kB 5.3 MB/s eta 0:00:01\r\u001b[K     |████▍                           | 153 kB 5.3 MB/s eta 0:00:01\r\u001b[K     |████▊                           | 163 kB 5.3 MB/s eta 0:00:01\r\u001b[K     |█████                           | 174 kB 5.3 MB/s eta 0:00:01\r\u001b[K     |█████▎                          | 184 kB 5.3 MB/s eta 0:00:01\r\u001b[K     |█████▋                          | 194 kB 5.3 MB/s eta 0:00:01\r\u001b[K     |█████▉                          | 204 kB 5.3 MB/s eta 0:00:01\r\u001b[K     |██████▏                         | 215 kB 5.3 MB/s eta 0:00:01\r\u001b[K     |██████▌                         | 225 kB 5.3 MB/s eta 0:00:01\r\u001b[K     |██████▊                         | 235 kB 5.3 MB/s eta 0:00:01\r\u001b[K     |███████                         | 245 kB 5.3 MB/s eta 0:00:01\r\u001b[K     |███████▍                        | 256 kB 5.3 MB/s eta 0:00:01\r\u001b[K     |███████▋                        | 266 kB 5.3 MB/s eta 0:00:01\r\u001b[K     |████████                        | 276 kB 5.3 MB/s eta 0:00:01\r\u001b[K     |████████▎                       | 286 kB 5.3 MB/s eta 0:00:01\r\u001b[K     |████████▌                       | 296 kB 5.3 MB/s eta 0:00:01\r\u001b[K     |████████▉                       | 307 kB 5.3 MB/s eta 0:00:01\r\u001b[K     |█████████                       | 317 kB 5.3 MB/s eta 0:00:01\r\u001b[K     |█████████▍                      | 327 kB 5.3 MB/s eta 0:00:01\r\u001b[K     |█████████▊                      | 337 kB 5.3 MB/s eta 0:00:01\r\u001b[K     |██████████                      | 348 kB 5.3 MB/s eta 0:00:01\r\u001b[K     |██████████▎                     | 358 kB 5.3 MB/s eta 0:00:01\r\u001b[K     |██████████▋                     | 368 kB 5.3 MB/s eta 0:00:01\r\u001b[K     |██████████▉                     | 378 kB 5.3 MB/s eta 0:00:01\r\u001b[K     |███████████▏                    | 389 kB 5.3 MB/s eta 0:00:01\r\u001b[K     |███████████▌                    | 399 kB 5.3 MB/s eta 0:00:01\r\u001b[K     |███████████▊                    | 409 kB 5.3 MB/s eta 0:00:01\r\u001b[K     |████████████                    | 419 kB 5.3 MB/s eta 0:00:01\r\u001b[K     |████████████▍                   | 430 kB 5.3 MB/s eta 0:00:01\r\u001b[K     |████████████▋                   | 440 kB 5.3 MB/s eta 0:00:01\r\u001b[K     |█████████████                   | 450 kB 5.3 MB/s eta 0:00:01\r\u001b[K     |█████████████▎                  | 460 kB 5.3 MB/s eta 0:00:01\r\u001b[K     |█████████████▌                  | 471 kB 5.3 MB/s eta 0:00:01\r\u001b[K     |█████████████▉                  | 481 kB 5.3 MB/s eta 0:00:01\r\u001b[K     |██████████████                  | 491 kB 5.3 MB/s eta 0:00:01\r\u001b[K     |██████████████▍                 | 501 kB 5.3 MB/s eta 0:00:01\r\u001b[K     |██████████████▊                 | 512 kB 5.3 MB/s eta 0:00:01\r\u001b[K     |███████████████                 | 522 kB 5.3 MB/s eta 0:00:01\r\u001b[K     |███████████████▎                | 532 kB 5.3 MB/s eta 0:00:01\r\u001b[K     |███████████████▋                | 542 kB 5.3 MB/s eta 0:00:01\r\u001b[K     |███████████████▉                | 552 kB 5.3 MB/s eta 0:00:01\r\u001b[K     |████████████████▏               | 563 kB 5.3 MB/s eta 0:00:01\r\u001b[K     |████████████████▌               | 573 kB 5.3 MB/s eta 0:00:01\r\u001b[K     |████████████████▊               | 583 kB 5.3 MB/s eta 0:00:01\r\u001b[K     |█████████████████               | 593 kB 5.3 MB/s eta 0:00:01\r\u001b[K     |█████████████████▍              | 604 kB 5.3 MB/s eta 0:00:01\r\u001b[K     |█████████████████▋              | 614 kB 5.3 MB/s eta 0:00:01\r\u001b[K     |██████████████████              | 624 kB 5.3 MB/s eta 0:00:01\r\u001b[K     |██████████████████▏             | 634 kB 5.3 MB/s eta 0:00:01\r\u001b[K     |██████████████████▌             | 645 kB 5.3 MB/s eta 0:00:01\r\u001b[K     |██████████████████▉             | 655 kB 5.3 MB/s eta 0:00:01\r\u001b[K     |███████████████████             | 665 kB 5.3 MB/s eta 0:00:01\r\u001b[K     |███████████████████▍            | 675 kB 5.3 MB/s eta 0:00:01\r\u001b[K     |███████████████████▊            | 686 kB 5.3 MB/s eta 0:00:01\r\u001b[K     |████████████████████            | 696 kB 5.3 MB/s eta 0:00:01\r\u001b[K     |████████████████████▎           | 706 kB 5.3 MB/s eta 0:00:01\r\u001b[K     |████████████████████▋           | 716 kB 5.3 MB/s eta 0:00:01\r\u001b[K     |████████████████████▉           | 727 kB 5.3 MB/s eta 0:00:01\r\u001b[K     |█████████████████████▏          | 737 kB 5.3 MB/s eta 0:00:01\r\u001b[K     |█████████████████████▌          | 747 kB 5.3 MB/s eta 0:00:01\r\u001b[K     |█████████████████████▊          | 757 kB 5.3 MB/s eta 0:00:01\r\u001b[K     |██████████████████████          | 768 kB 5.3 MB/s eta 0:00:01\r\u001b[K     |██████████████████████▎         | 778 kB 5.3 MB/s eta 0:00:01\r\u001b[K     |██████████████████████▋         | 788 kB 5.3 MB/s eta 0:00:01\r\u001b[K     |███████████████████████         | 798 kB 5.3 MB/s eta 0:00:01\r\u001b[K     |███████████████████████▏        | 808 kB 5.3 MB/s eta 0:00:01\r\u001b[K     |███████████████████████▌        | 819 kB 5.3 MB/s eta 0:00:01\r\u001b[K     |███████████████████████▉        | 829 kB 5.3 MB/s eta 0:00:01\r\u001b[K     |████████████████████████        | 839 kB 5.3 MB/s eta 0:00:01\r\u001b[K     |████████████████████████▍       | 849 kB 5.3 MB/s eta 0:00:01\r\u001b[K     |████████████████████████▊       | 860 kB 5.3 MB/s eta 0:00:01\r\u001b[K     |█████████████████████████       | 870 kB 5.3 MB/s eta 0:00:01\r\u001b[K     |█████████████████████████▎      | 880 kB 5.3 MB/s eta 0:00:01\r\u001b[K     |█████████████████████████▋      | 890 kB 5.3 MB/s eta 0:00:01\r\u001b[K     |█████████████████████████▉      | 901 kB 5.3 MB/s eta 0:00:01\r\u001b[K     |██████████████████████████▏     | 911 kB 5.3 MB/s eta 0:00:01\r\u001b[K     |██████████████████████████▌     | 921 kB 5.3 MB/s eta 0:00:01\r\u001b[K     |██████████████████████████▊     | 931 kB 5.3 MB/s eta 0:00:01\r\u001b[K     |███████████████████████████     | 942 kB 5.3 MB/s eta 0:00:01\r\u001b[K     |███████████████████████████▎    | 952 kB 5.3 MB/s eta 0:00:01\r\u001b[K     |███████████████████████████▋    | 962 kB 5.3 MB/s eta 0:00:01\r\u001b[K     |████████████████████████████    | 972 kB 5.3 MB/s eta 0:00:01\r\u001b[K     |████████████████████████████▏   | 983 kB 5.3 MB/s eta 0:00:01\r\u001b[K     |████████████████████████████▌   | 993 kB 5.3 MB/s eta 0:00:01\r\u001b[K     |████████████████████████████▉   | 1.0 MB 5.3 MB/s eta 0:00:01\r\u001b[K     |█████████████████████████████   | 1.0 MB 5.3 MB/s eta 0:00:01\r\u001b[K     |█████████████████████████████▍  | 1.0 MB 5.3 MB/s eta 0:00:01\r\u001b[K     |█████████████████████████████▊  | 1.0 MB 5.3 MB/s eta 0:00:01\r\u001b[K     |██████████████████████████████  | 1.0 MB 5.3 MB/s eta 0:00:01\r\u001b[K     |██████████████████████████████▎ | 1.1 MB 5.3 MB/s eta 0:00:01\r\u001b[K     |██████████████████████████████▋ | 1.1 MB 5.3 MB/s eta 0:00:01\r\u001b[K     |██████████████████████████████▉ | 1.1 MB 5.3 MB/s eta 0:00:01\r\u001b[K     |███████████████████████████████▏| 1.1 MB 5.3 MB/s eta 0:00:01\r\u001b[K     |███████████████████████████████▍| 1.1 MB 5.3 MB/s eta 0:00:01\r\u001b[K     |███████████████████████████████▊| 1.1 MB 5.3 MB/s eta 0:00:01\r\u001b[K     |████████████████████████████████| 1.1 MB 5.3 MB/s \n",
            "\u001b[?25hRequirement already satisfied: typeguard>=2.7 in /usr/local/lib/python3.7/dist-packages (from tensorflow_addons) (2.7.1)\n",
            "Installing collected packages: tensorflow-addons\n",
            "Successfully installed tensorflow-addons-0.15.0\n"
          ]
        }
      ]
    },
    {
      "cell_type": "code",
      "metadata": {
        "id": "voJBV5X_g0B6"
      },
      "source": [
        "#!ls \"/content/drive/My Drive\"\n",
        "\n",
        "!cp -r \"/content/drive/My Drive/alga/aug_roi_train\" \"aug_roi_train\"\n",
        "!cp -r \"/content/drive/My Drive/alga/roi_validation\" \"roi_validation\"\n",
        "!cp -r \"/content/drive/My Drive/alga/roi_test\" \"roi_test\"\n",
        "!cp -r \"/content/drive/My Drive/alga/roi_train\" \"roi_train\""
      ],
      "execution_count": 4,
      "outputs": []
    },
    {
      "cell_type": "code",
      "metadata": {
        "id": "W384maMHy7Yc"
      },
      "source": [
        "import tensorflow as tf\n",
        "from tensorflow.keras.optimizers import RMSprop\n",
        "from tensorflow.keras.preprocessing.image import ImageDataGenerator\n",
        "from keras.layers import Dense,MaxPooling2D,Activation,Flatten,Conv2D,BatchNormalization,Dropout\n",
        "from tensorflow.keras import layers\n",
        "from tensorflow.keras import Model\n",
        "from keras.models import Sequential\n",
        "from tensorflow.keras.optimizers import SGD\n",
        "import matplotlib.pyplot as plt\n",
        "from sklearn.metrics import classification_report\n",
        "from sklearn.metrics import confusion_matrix\n",
        "import numpy as np\n",
        "import tensorflow_addons as tfa"
      ],
      "execution_count": 5,
      "outputs": []
    },
    {
      "cell_type": "code",
      "metadata": {
        "id": "ThJjNtJBi900"
      },
      "source": [
        "path_train = 'aug_roi_train'\n",
        "path_validation = 'roi_validation'\n",
        "path_test = 'roi_test'"
      ],
      "execution_count": 6,
      "outputs": []
    },
    {
      "cell_type": "markdown",
      "metadata": {
        "id": "3-0nc-LxNSF2"
      },
      "source": [
        "# Pretrained GoogLeNet model using ImageNet\n"
      ]
    },
    {
      "cell_type": "code",
      "metadata": {
        "id": "yWx2apyg_GXQ"
      },
      "source": [
        "from tensorflow.keras.applications.inception_v3 import InceptionV3\n",
        "\n",
        "pre_trained_model = InceptionV3(input_shape=(224,224,3),\n",
        "                                include_top=False,\n",
        "                                weights='imagenet')\n",
        "\n",
        "for layer in pre_trained_model.layers:\n",
        "  layer.trainable = False"
      ],
      "execution_count": 21,
      "outputs": []
    },
    {
      "cell_type": "markdown",
      "metadata": {
        "id": "Q8ZNyeF4v9FL"
      },
      "source": [
        "Hyperparameters"
      ]
    },
    {
      "cell_type": "code",
      "metadata": {
        "id": "js1kaBFGv9MD"
      },
      "source": [
        "batch_size = 32\n",
        "epochs=50"
      ],
      "execution_count": 22,
      "outputs": []
    },
    {
      "cell_type": "markdown",
      "metadata": {
        "id": "sHw1dYWP_GXV"
      },
      "source": [
        "### Data augmentation"
      ]
    },
    {
      "cell_type": "code",
      "metadata": {
        "id": "qh3pPvvDzvEq"
      },
      "source": [
        "train_datagen = ImageDataGenerator()\n",
        "\n",
        "validation_datagen = ImageDataGenerator()\n",
        "\n",
        "test_datagen = ImageDataGenerator()"
      ],
      "execution_count": 23,
      "outputs": []
    },
    {
      "cell_type": "markdown",
      "metadata": {
        "id": "mfA7Ta99wW_a"
      },
      "source": [
        "Read the images"
      ]
    },
    {
      "cell_type": "code",
      "metadata": {
        "colab": {
          "base_uri": "https://localhost:8080/"
        },
        "id": "c5Fpl71WwXGa",
        "outputId": "5b5ff8cb-1a85-4aa4-ab98-4d2f0aae9d16"
      },
      "source": [
        "# Flow training images in batches of 20 using train_datagen generator\n",
        "train_generator = train_datagen.flow_from_directory(path_train,\n",
        "                                                    batch_size = 32,\n",
        "                                                    class_mode = 'categorical', \n",
        "                                                    target_size = (224, 224))     \n",
        "\n",
        "# Flow validation images in batches of 20 using test_datagen generator\n",
        "validation_generator =  validation_datagen.flow_from_directory( path_validation,\n",
        "                                                          batch_size  = 32,\n",
        "                                                          class_mode  = 'categorical', \n",
        "                                                          target_size = (224, 224))\n",
        "\n",
        "test_generator =  test_datagen.flow_from_directory( path_test,\n",
        "                                                          batch_size  = 32,\n",
        "                                                          class_mode  = 'categorical', \n",
        "                                                          target_size = (224, 224))"
      ],
      "execution_count": 24,
      "outputs": [
        {
          "output_type": "stream",
          "name": "stdout",
          "text": [
            "Found 4340 images belonging to 8 classes.\n",
            "Found 51 images belonging to 8 classes.\n",
            "Found 107 images belonging to 8 classes.\n"
          ]
        }
      ]
    },
    {
      "cell_type": "markdown",
      "metadata": {
        "id": "JV5TTVwGtY1p"
      },
      "source": [
        "Hyper-parameters"
      ]
    },
    {
      "cell_type": "code",
      "metadata": {
        "id": "fcNysNaZtY74"
      },
      "source": [
        "number_of_neurons = 1000\n",
        "number_of_classes = validation_generator.class_indices"
      ],
      "execution_count": 25,
      "outputs": []
    },
    {
      "cell_type": "markdown",
      "metadata": {
        "id": "Qh_m54z-5VW8"
      },
      "source": [
        "Lets see some samples"
      ]
    },
    {
      "cell_type": "code",
      "metadata": {
        "id": "mDvSxorK_GXV"
      },
      "source": [
        "model = Sequential()\n",
        "\n",
        "model.add(pre_trained_model)\n",
        "\n",
        "model.add(Flatten())\n",
        "\n",
        "model.add(Dense(number_of_neurons))\n",
        "model.add(Activation(\"relu\"))\n",
        "model.add(Dropout(0.2))\n",
        "model.add(Dense(8))\n",
        "\n",
        "model.add(Activation(\"sigmoid\"))"
      ],
      "execution_count": 26,
      "outputs": []
    },
    {
      "cell_type": "code",
      "metadata": {
        "id": "sqeVzAQhsj6i"
      },
      "source": [
        "#sgd = SGD(learning_rate=0.1)\n",
        "\n",
        "f1_score = tfa.metrics.F1Score(num_classes=8, average='macro',threshold=0.5)\n",
        "\n",
        "model.compile(optimizer = tf.keras.optimizers.Adam(learning_rate=0.01), \n",
        "              loss = 'categorical_crossentropy', \n",
        "              metrics = ['accuracy',f1_score])"
      ],
      "execution_count": 27,
      "outputs": []
    },
    {
      "cell_type": "code",
      "metadata": {
        "id": "c9zT6oaF_GXX",
        "colab": {
          "base_uri": "https://localhost:8080/"
        },
        "outputId": "89b6295a-065b-46b1-9e8a-aa423d818c85"
      },
      "source": [
        "history_fine = model.fit(train_generator,\n",
        "                         epochs=epochs,\n",
        "                         validation_data=validation_generator\n",
        "                         #initial_epoch=history.epoch[-1],\n",
        "                         )"
      ],
      "execution_count": 28,
      "outputs": [
        {
          "output_type": "stream",
          "name": "stdout",
          "text": [
            "Epoch 1/50\n",
            "136/136 [==============================] - 33s 205ms/step - loss: 1471.2250 - accuracy: 0.2005 - f1_score: 0.2079 - val_loss: 1.9177 - val_accuracy: 0.1569 - val_f1_score: 0.1306\n",
            "Epoch 2/50\n",
            "136/136 [==============================] - 26s 191ms/step - loss: 6.2911 - accuracy: 0.2876 - f1_score: 0.1392 - val_loss: 1.8939 - val_accuracy: 0.1961 - val_f1_score: 0.1060\n",
            "Epoch 3/50\n",
            "136/136 [==============================] - 26s 190ms/step - loss: 2.8679 - accuracy: 0.2931 - f1_score: 0.1348 - val_loss: 3.8358 - val_accuracy: 0.2157 - val_f1_score: 0.1628\n",
            "Epoch 4/50\n",
            "136/136 [==============================] - 26s 190ms/step - loss: 1.7856 - accuracy: 0.2979 - f1_score: 0.1294 - val_loss: 1.9793 - val_accuracy: 0.1569 - val_f1_score: 0.0864\n",
            "Epoch 5/50\n",
            "136/136 [==============================] - 26s 190ms/step - loss: 1.8143 - accuracy: 0.2889 - f1_score: 0.1260 - val_loss: 2.0671 - val_accuracy: 0.1961 - val_f1_score: 0.1685\n",
            "Epoch 6/50\n",
            "136/136 [==============================] - 26s 190ms/step - loss: 1.9809 - accuracy: 0.2993 - f1_score: 0.1387 - val_loss: 2.4284 - val_accuracy: 0.2157 - val_f1_score: 0.1632\n",
            "Epoch 7/50\n",
            "136/136 [==============================] - 26s 189ms/step - loss: 1.6479 - accuracy: 0.3016 - f1_score: 0.1246 - val_loss: 3.1775 - val_accuracy: 0.1765 - val_f1_score: 0.1714\n",
            "Epoch 8/50\n",
            "136/136 [==============================] - 26s 190ms/step - loss: 1.6197 - accuracy: 0.3000 - f1_score: 0.1289 - val_loss: 5.3554 - val_accuracy: 0.1961 - val_f1_score: 0.1689\n",
            "Epoch 9/50\n",
            "136/136 [==============================] - 26s 190ms/step - loss: 1.7232 - accuracy: 0.2910 - f1_score: 0.1289 - val_loss: 2.0130 - val_accuracy: 0.2157 - val_f1_score: 0.0871\n",
            "Epoch 10/50\n",
            "136/136 [==============================] - 26s 190ms/step - loss: 1.7687 - accuracy: 0.3143 - f1_score: 0.1188 - val_loss: 2.0057 - val_accuracy: 0.1765 - val_f1_score: 0.0871\n",
            "Epoch 11/50\n",
            "136/136 [==============================] - 26s 190ms/step - loss: 1.7772 - accuracy: 0.3141 - f1_score: 0.1187 - val_loss: 2.0850 - val_accuracy: 0.2353 - val_f1_score: 0.0851\n",
            "Epoch 12/50\n",
            "136/136 [==============================] - 26s 189ms/step - loss: 1.7869 - accuracy: 0.3226 - f1_score: 0.1186 - val_loss: 2.0870 - val_accuracy: 0.2353 - val_f1_score: 0.0851\n",
            "Epoch 13/50\n",
            "136/136 [==============================] - 26s 190ms/step - loss: 1.7871 - accuracy: 0.3226 - f1_score: 0.1179 - val_loss: 2.0804 - val_accuracy: 0.2353 - val_f1_score: 0.0851\n",
            "Epoch 14/50\n",
            "136/136 [==============================] - 26s 189ms/step - loss: 1.7878 - accuracy: 0.3226 - f1_score: 0.1179 - val_loss: 2.0973 - val_accuracy: 0.2353 - val_f1_score: 0.0851\n",
            "Epoch 15/50\n",
            "136/136 [==============================] - 26s 189ms/step - loss: 1.7871 - accuracy: 0.3226 - f1_score: 0.1186 - val_loss: 2.0804 - val_accuracy: 0.2353 - val_f1_score: 0.0851\n",
            "Epoch 16/50\n",
            "136/136 [==============================] - 26s 191ms/step - loss: 1.7873 - accuracy: 0.3226 - f1_score: 0.1179 - val_loss: 2.0962 - val_accuracy: 0.2353 - val_f1_score: 0.0851\n",
            "Epoch 17/50\n",
            "136/136 [==============================] - 26s 190ms/step - loss: 1.7875 - accuracy: 0.3226 - f1_score: 0.1179 - val_loss: 2.0912 - val_accuracy: 0.2353 - val_f1_score: 0.0851\n",
            "Epoch 18/50\n",
            "136/136 [==============================] - 26s 190ms/step - loss: 1.7867 - accuracy: 0.3226 - f1_score: 0.1186 - val_loss: 2.0972 - val_accuracy: 0.2353 - val_f1_score: 0.0851\n",
            "Epoch 19/50\n",
            "136/136 [==============================] - 26s 190ms/step - loss: 1.7872 - accuracy: 0.3226 - f1_score: 0.1186 - val_loss: 2.0874 - val_accuracy: 0.2353 - val_f1_score: 0.0851\n",
            "Epoch 20/50\n",
            "136/136 [==============================] - 26s 190ms/step - loss: 1.7870 - accuracy: 0.3226 - f1_score: 0.1186 - val_loss: 2.0865 - val_accuracy: 0.2353 - val_f1_score: 0.0851\n",
            "Epoch 21/50\n",
            "136/136 [==============================] - 26s 190ms/step - loss: 1.7865 - accuracy: 0.3226 - f1_score: 0.1186 - val_loss: 2.0909 - val_accuracy: 0.2353 - val_f1_score: 0.0851\n",
            "Epoch 22/50\n",
            "136/136 [==============================] - 26s 190ms/step - loss: 1.7873 - accuracy: 0.3226 - f1_score: 0.1179 - val_loss: 2.0828 - val_accuracy: 0.2353 - val_f1_score: 0.0851\n",
            "Epoch 23/50\n",
            "136/136 [==============================] - 26s 189ms/step - loss: 1.7870 - accuracy: 0.3226 - f1_score: 0.1186 - val_loss: 2.0950 - val_accuracy: 0.2353 - val_f1_score: 0.0851\n",
            "Epoch 24/50\n",
            "136/136 [==============================] - 26s 190ms/step - loss: 1.7874 - accuracy: 0.3226 - f1_score: 0.1179 - val_loss: 2.0875 - val_accuracy: 0.2353 - val_f1_score: 0.0851\n",
            "Epoch 25/50\n",
            "136/136 [==============================] - 26s 189ms/step - loss: 1.7875 - accuracy: 0.3226 - f1_score: 0.1179 - val_loss: 2.0849 - val_accuracy: 0.2353 - val_f1_score: 0.0851\n",
            "Epoch 26/50\n",
            "136/136 [==============================] - 26s 190ms/step - loss: 1.7876 - accuracy: 0.3226 - f1_score: 0.1179 - val_loss: 2.0864 - val_accuracy: 0.2353 - val_f1_score: 0.0851\n",
            "Epoch 27/50\n",
            "136/136 [==============================] - 26s 190ms/step - loss: 1.7868 - accuracy: 0.3226 - f1_score: 0.1186 - val_loss: 2.0823 - val_accuracy: 0.2353 - val_f1_score: 0.0851\n",
            "Epoch 28/50\n",
            "136/136 [==============================] - 26s 190ms/step - loss: 1.7868 - accuracy: 0.3226 - f1_score: 0.1186 - val_loss: 2.0890 - val_accuracy: 0.2353 - val_f1_score: 0.0851\n",
            "Epoch 29/50\n",
            "136/136 [==============================] - 26s 189ms/step - loss: 1.7865 - accuracy: 0.3226 - f1_score: 0.1186 - val_loss: 2.0923 - val_accuracy: 0.2353 - val_f1_score: 0.0851\n",
            "Epoch 30/50\n",
            "136/136 [==============================] - 26s 190ms/step - loss: 1.7875 - accuracy: 0.3226 - f1_score: 0.1186 - val_loss: 2.0955 - val_accuracy: 0.2353 - val_f1_score: 0.0851\n",
            "Epoch 31/50\n",
            "136/136 [==============================] - 26s 190ms/step - loss: 1.7887 - accuracy: 0.3226 - f1_score: 0.1165 - val_loss: 2.0941 - val_accuracy: 0.2353 - val_f1_score: 0.0851\n",
            "Epoch 32/50\n",
            "136/136 [==============================] - 26s 190ms/step - loss: 1.7869 - accuracy: 0.3226 - f1_score: 0.1186 - val_loss: 2.0871 - val_accuracy: 0.2353 - val_f1_score: 0.0851\n",
            "Epoch 33/50\n",
            "136/136 [==============================] - 26s 189ms/step - loss: 1.7869 - accuracy: 0.3226 - f1_score: 0.1186 - val_loss: 2.0870 - val_accuracy: 0.2353 - val_f1_score: 0.0851\n",
            "Epoch 34/50\n",
            "136/136 [==============================] - 26s 190ms/step - loss: 1.7873 - accuracy: 0.3226 - f1_score: 0.1186 - val_loss: 2.0858 - val_accuracy: 0.2353 - val_f1_score: 0.0851\n",
            "Epoch 35/50\n",
            "136/136 [==============================] - 26s 190ms/step - loss: 1.7865 - accuracy: 0.3226 - f1_score: 0.1186 - val_loss: 2.0929 - val_accuracy: 0.2353 - val_f1_score: 0.0851\n",
            "Epoch 36/50\n",
            "136/136 [==============================] - 26s 190ms/step - loss: 1.7875 - accuracy: 0.3226 - f1_score: 0.1186 - val_loss: 2.0845 - val_accuracy: 0.2353 - val_f1_score: 0.0851\n",
            "Epoch 37/50\n",
            "136/136 [==============================] - 26s 190ms/step - loss: 1.7877 - accuracy: 0.3226 - f1_score: 0.1179 - val_loss: 2.0855 - val_accuracy: 0.2353 - val_f1_score: 0.0851\n",
            "Epoch 38/50\n",
            "136/136 [==============================] - 26s 190ms/step - loss: 1.7880 - accuracy: 0.3145 - f1_score: 0.1179 - val_loss: 2.0860 - val_accuracy: 0.2353 - val_f1_score: 0.0851\n",
            "Epoch 39/50\n",
            "136/136 [==============================] - 26s 189ms/step - loss: 1.7873 - accuracy: 0.3226 - f1_score: 0.1179 - val_loss: 2.0818 - val_accuracy: 0.2353 - val_f1_score: 0.0851\n",
            "Epoch 40/50\n",
            "136/136 [==============================] - 26s 190ms/step - loss: 1.7870 - accuracy: 0.3226 - f1_score: 0.1186 - val_loss: 2.0909 - val_accuracy: 0.2353 - val_f1_score: 0.0851\n",
            "Epoch 41/50\n",
            "136/136 [==============================] - 26s 190ms/step - loss: 1.7867 - accuracy: 0.3226 - f1_score: 0.1186 - val_loss: 2.0821 - val_accuracy: 0.2353 - val_f1_score: 0.0851\n",
            "Epoch 42/50\n",
            "136/136 [==============================] - 26s 190ms/step - loss: 1.7882 - accuracy: 0.3226 - f1_score: 0.1172 - val_loss: 2.0899 - val_accuracy: 0.2353 - val_f1_score: 0.0851\n",
            "Epoch 43/50\n",
            "136/136 [==============================] - 26s 190ms/step - loss: 1.7875 - accuracy: 0.3226 - f1_score: 0.1179 - val_loss: 2.0900 - val_accuracy: 0.2353 - val_f1_score: 0.0851\n",
            "Epoch 44/50\n",
            "136/136 [==============================] - 26s 190ms/step - loss: 1.7877 - accuracy: 0.3226 - f1_score: 0.1179 - val_loss: 2.0880 - val_accuracy: 0.2353 - val_f1_score: 0.0851\n",
            "Epoch 45/50\n",
            "136/136 [==============================] - 26s 190ms/step - loss: 1.7876 - accuracy: 0.3226 - f1_score: 0.1186 - val_loss: 2.0874 - val_accuracy: 0.2353 - val_f1_score: 0.0851\n",
            "Epoch 46/50\n",
            "136/136 [==============================] - 26s 190ms/step - loss: 1.7879 - accuracy: 0.3226 - f1_score: 0.1179 - val_loss: 2.0924 - val_accuracy: 0.2353 - val_f1_score: 0.0851\n",
            "Epoch 47/50\n",
            "136/136 [==============================] - 26s 190ms/step - loss: 1.7873 - accuracy: 0.3226 - f1_score: 0.1179 - val_loss: 2.0876 - val_accuracy: 0.2353 - val_f1_score: 0.0851\n",
            "Epoch 48/50\n",
            "136/136 [==============================] - 26s 190ms/step - loss: 1.7865 - accuracy: 0.3226 - f1_score: 0.1186 - val_loss: 2.0967 - val_accuracy: 0.2353 - val_f1_score: 0.0851\n",
            "Epoch 49/50\n",
            "136/136 [==============================] - 26s 190ms/step - loss: 1.7877 - accuracy: 0.3226 - f1_score: 0.1179 - val_loss: 2.0951 - val_accuracy: 0.2353 - val_f1_score: 0.0851\n",
            "Epoch 50/50\n",
            "136/136 [==============================] - 26s 189ms/step - loss: 1.7883 - accuracy: 0.3226 - f1_score: 0.1172 - val_loss: 2.0913 - val_accuracy: 0.2353 - val_f1_score: 0.0851\n"
          ]
        }
      ]
    },
    {
      "cell_type": "code",
      "metadata": {
        "id": "1WFZwVEg_GXb",
        "colab": {
          "base_uri": "https://localhost:8080/",
          "height": 279
        },
        "outputId": "d760f950-a430-4249-ea56-2cabe2b773ed"
      },
      "source": [
        "f1 = history_fine.history['f1_score']\n",
        "val_f1 = history_fine.history['val_f1_score']\n",
        "\n",
        "plt.figure(figsize=(8, 8))\n",
        "plt.subplot(2, 1, 1)\n",
        "plt.plot(f1, label='Training F1-Score')\n",
        "plt.plot(val_f1, label='Validation F1-Score')\n",
        "plt.legend(loc='lower right')\n",
        "plt.ylabel('F1-Score')\n",
        "plt.ylim([min(plt.ylim()),1])\n",
        "plt.title('Training and Validation F1-Score')\n"
      ],
      "execution_count": 15,
      "outputs": [
        {
          "output_type": "execute_result",
          "data": {
            "text/plain": [
              "Text(0.5, 1.0, 'Training and Validation F1-Score')"
            ]
          },
          "metadata": {},
          "execution_count": 15
        },
        {
          "output_type": "display_data",
          "data": {
            "image/png": "[encoded data removed]",
            "text/plain": [
              "<Figure size 576x576 with 1 Axes>"
            ]
          },
          "metadata": {
            "needs_background": "light"
          }
        }
      ]
    },
    {
      "cell_type": "code",
      "metadata": {
        "colab": {
          "base_uri": "https://localhost:8080/",
          "height": 295
        },
        "id": "Q8ENVvZSrKrS",
        "outputId": "33e73de0-f00f-4cc3-acb4-3ee9ba49510c"
      },
      "source": [
        "loss = history_fine.history['loss']\n",
        "val_loss = history_fine.history['val_loss']\n",
        "\n",
        "plt.plot(history_fine.history['loss'])\n",
        "plt.plot(history_fine.history['val_loss'])\n",
        "plt.title('model loss')\n",
        "plt.ylabel('loss')\n",
        "plt.xlabel('epoch')\n",
        "plt.legend(['training set', 'validation set'], loc='upper left')\n",
        "plt.show()"
      ],
      "execution_count": 16,
      "outputs": [
        {
          "output_type": "display_data",
          "data": {
            "image/png": "[encoded data removed]",
            "text/plain": [
              "<Figure size 432x288 with 1 Axes>"
            ]
          },
          "metadata": {
            "needs_background": "light"
          }
        }
      ]
    },
    {
      "cell_type": "markdown",
      "metadata": {
        "id": "zFraRq9i9FNA"
      },
      "source": [
        ""
      ]
    },
    {
      "cell_type": "code",
      "metadata": {
        "id": "RXFG_Bn19FTX",
        "colab": {
          "base_uri": "https://localhost:8080/"
        },
        "outputId": "cd7af5cb-265b-42dd-b66f-4609268ce22b"
      },
      "source": [
        "y_prob = model.predict(test_generator,batch_size=batch_size)\n",
        "y_pred = np.argmax(y_prob,axis=1)\n",
        "\n",
        "print(classification_report(test_generator.classes,y_pred))"
      ],
      "execution_count": 17,
      "outputs": [
        {
          "output_type": "stream",
          "name": "stdout",
          "text": [
            "              precision    recall  f1-score   support\n",
            "\n",
            "           0       0.00      0.00      0.00         9\n",
            "           1       0.50      0.11      0.18         9\n",
            "           2       0.00      0.00      0.00        17\n",
            "           3       0.14      0.09      0.11        22\n",
            "           4       0.10      0.23      0.14        13\n",
            "           5       0.29      0.15      0.20        13\n",
            "           6       0.08      0.10      0.09        10\n",
            "           7       0.15      0.29      0.20        14\n",
            "\n",
            "    accuracy                           0.12       107\n",
            "   macro avg       0.16      0.12      0.12       107\n",
            "weighted avg       0.15      0.12      0.11       107\n",
            "\n"
          ]
        }
      ]
    },
    {
      "cell_type": "code",
      "source": [
        "import plotly.figure_factory as ff\n",
        "\n",
        "y_true = test_generator.classes\n",
        "\n",
        "z = confusion_matrix(y_true, y_pred)\n",
        "\n",
        "x = list(test_generator.class_indices.keys())\n",
        "\n",
        "y = list(test_generator.class_indices.keys())\n"
      ],
      "metadata": {
        "id": "5NOZQOgN_DHU"
      },
      "execution_count": 18,
      "outputs": []
    },
    {
      "cell_type": "code",
      "metadata": {
        "colab": {
          "base_uri": "https://localhost:8080/",
          "height": 542
        },
        "id": "EHxUyHkC1URt",
        "outputId": "723e7008-46f0-4cef-cfaa-0d2b21cb8b51"
      },
      "source": [
        "# change each element of z to type string for annotations\n",
        "z_text = [[str(y) for y in x] for x in z]\n",
        "\n",
        "# set up figure \n",
        "fig = ff.create_annotated_heatmap(z, x=x, y=y, annotation_text=z_text, colorscale='Viridis')\n",
        "\n",
        "# add title\n",
        "fig.update_layout(title_text='<i><b>Confusion matrix</b></i>',\n",
        "                  #xaxis = dict(title='x'),\n",
        "                  #yaxis = dict(title='x')\n",
        "                 )\n",
        "\n",
        "# add custom xaxis title\n",
        "fig.add_annotation(dict(font=dict(color=\"black\",size=14),\n",
        "                        x=0.5,\n",
        "                        y=-0.15,\n",
        "                        showarrow=False,\n",
        "                        text=\"Predicted value\",\n",
        "                        xref=\"paper\",\n",
        "                        yref=\"paper\"))\n",
        "\n",
        "# add custom yaxis title\n",
        "fig.add_annotation(dict(font=dict(color=\"black\",size=14),\n",
        "                        x=-0.35,\n",
        "                        y=0.5,\n",
        "                        showarrow=False,\n",
        "                        text=\"Real value\",\n",
        "                        textangle=-90,\n",
        "                        xref=\"paper\",\n",
        "                        yref=\"paper\"))\n",
        "\n",
        "# adjust margins to make room for yaxis title\n",
        "fig.update_layout(margin=dict(t=50, l=200))\n",
        "\n",
        "# add colorbar\n",
        "fig['data'][0]['showscale'] = True\n",
        "fig.show()"
      ],
      "execution_count": 19,
      "outputs": [
        {
          "output_type": "display_data",
          "data": {
            "text/html": [
              "<html>\n",
              "<head><meta charset=\"utf-8\" /></head>\n",
              "<body>\n",
              "    <div>\n",
              "            <script src=\"https://cdnjs.cloudflare.com/ajax/libs/mathjax/2.7.5/MathJax.js?config=TeX-AMS-MML_SVG\"></script><script type=\"text/javascript\">if (window.MathJax) {MathJax.Hub.Config({SVG: {font: \"STIX-Web\"}});}</script>\n",
              "                <script type=\"text/javascript\">window.PlotlyConfig = {MathJaxConfig: 'local'};</script>\n",
              "        <script src=\"https://cdn.plot.ly/plotly-latest.min.js\"></script>    \n",
              "            <div id=\"c430eddd-5d10-434c-ada3-cb133e9155fb\" class=\"plotly-graph-div\" style=\"height:525px; width:100%;\"></div>\n",
              "            <script type=\"text/javascript\">\n",
              "                \n",
              "                    window.PLOTLYENV=window.PLOTLYENV || {};\n",
              "                    \n",
              "                if (document.getElementById(\"c430eddd-5d10-434c-ada3-cb133e9155fb\")) {\n",
              "                    Plotly.newPlot(\n",
              "                        'c430eddd-5d10-434c-ada3-cb133e9155fb',\n",
              "                        [{\"colorscale\": [[0.0, \"#440154\"], [0.1111111111111111, \"#482878\"], [0.2222222222222222, \"#3e4989\"], [0.3333333333333333, \"#31688e\"], [0.4444444444444444, \"#26828e\"], [0.5555555555555556, \"#1f9e89\"], [0.6666666666666666, \"#35b779\"], [0.7777777777777778, \"#6ece58\"], [0.8888888888888888, \"#b5de2b\"], [1.0, \"#fde725\"]], \"reversescale\": false, \"showscale\": true, \"type\": \"heatmap\", \"x\": [\"ankisdensus\", \"ankisfusiformis\", \"kirchneriela\", \"monorapcontortum\", \"monorapgriff\", \"nephrocytium\", \"raphidocelis\", \"selenastrumbrib\"], \"y\": [\"ankisdensus\", \"ankisfusiformis\", \"kirchneriela\", \"monorapcontortum\", \"monorapgriff\", \"nephrocytium\", \"raphidocelis\", \"selenastrumbrib\"], \"z\": [[0, 0, 0, 1, 5, 1, 0, 2], [1, 1, 0, 0, 5, 0, 0, 2], [2, 1, 0, 3, 3, 0, 2, 6], [3, 0, 0, 2, 4, 2, 7, 4], [1, 0, 1, 3, 3, 1, 1, 3], [0, 0, 1, 2, 4, 2, 0, 4], [3, 0, 0, 1, 4, 0, 1, 1], [3, 0, 1, 2, 2, 1, 1, 4]]}],\n",
              "                        {\"annotations\": [{\"font\": {\"color\": \"#FFFFFF\"}, \"showarrow\": false, \"text\": \"0\", \"x\": \"ankisdensus\", \"xref\": \"x\", \"y\": \"ankisdensus\", \"yref\": \"y\"}, {\"font\": {\"color\": \"#FFFFFF\"}, \"showarrow\": false, \"text\": \"0\", \"x\": \"ankisfusiformis\", \"xref\": \"x\", \"y\": \"ankisdensus\", \"yref\": \"y\"}, {\"font\": {\"color\": \"#FFFFFF\"}, \"showarrow\": false, \"text\": \"0\", \"x\": \"kirchneriela\", \"xref\": \"x\", \"y\": \"ankisdensus\", \"yref\": \"y\"}, {\"font\": {\"color\": \"#FFFFFF\"}, \"showarrow\": false, \"text\": \"1\", \"x\": \"monorapcontortum\", \"xref\": \"x\", \"y\": \"ankisdensus\", \"yref\": \"y\"}, {\"font\": {\"color\": \"#000000\"}, \"showarrow\": false, \"text\": \"5\", \"x\": \"monorapgriff\", \"xref\": \"x\", \"y\": \"ankisdensus\", \"yref\": \"y\"}, {\"font\": {\"color\": \"#FFFFFF\"}, \"showarrow\": false, \"text\": \"1\", \"x\": \"nephrocytium\", \"xref\": \"x\", \"y\": \"ankisdensus\", \"yref\": \"y\"}, {\"font\": {\"color\": \"#FFFFFF\"}, \"showarrow\": false, \"text\": \"0\", \"x\": \"raphidocelis\", \"xref\": \"x\", \"y\": \"ankisdensus\", \"yref\": \"y\"}, {\"font\": {\"color\": \"#FFFFFF\"}, \"showarrow\": false, \"text\": \"2\", \"x\": \"selenastrumbrib\", \"xref\": \"x\", \"y\": \"ankisdensus\", \"yref\": \"y\"}, {\"font\": {\"color\": \"#FFFFFF\"}, \"showarrow\": false, \"text\": \"1\", \"x\": \"ankisdensus\", \"xref\": \"x\", \"y\": \"ankisfusiformis\", \"yref\": \"y\"}, {\"font\": {\"color\": \"#FFFFFF\"}, \"showarrow\": false, \"text\": \"1\", \"x\": \"ankisfusiformis\", \"xref\": \"x\", \"y\": \"ankisfusiformis\", \"yref\": \"y\"}, {\"font\": {\"color\": \"#FFFFFF\"}, \"showarrow\": false, \"text\": \"0\", \"x\": \"kirchneriela\", \"xref\": \"x\", \"y\": \"ankisfusiformis\", \"yref\": \"y\"}, {\"font\": {\"color\": \"#FFFFFF\"}, \"showarrow\": false, \"text\": \"0\", \"x\": \"monorapcontortum\", \"xref\": \"x\", \"y\": \"ankisfusiformis\", \"yref\": \"y\"}, {\"font\": {\"color\": \"#000000\"}, \"showarrow\": false, \"text\": \"5\", \"x\": \"monorapgriff\", \"xref\": \"x\", \"y\": \"ankisfusiformis\", \"yref\": \"y\"}, {\"font\": {\"color\": \"#FFFFFF\"}, \"showarrow\": false, \"text\": \"0\", \"x\": \"nephrocytium\", \"xref\": \"x\", \"y\": \"ankisfusiformis\", \"yref\": \"y\"}, {\"font\": {\"color\": \"#FFFFFF\"}, \"showarrow\": false, \"text\": \"0\", \"x\": \"raphidocelis\", \"xref\": \"x\", \"y\": \"ankisfusiformis\", \"yref\": \"y\"}, {\"font\": {\"color\": \"#FFFFFF\"}, \"showarrow\": false, \"text\": \"2\", \"x\": \"selenastrumbrib\", \"xref\": \"x\", \"y\": \"ankisfusiformis\", \"yref\": \"y\"}, {\"font\": {\"color\": \"#FFFFFF\"}, \"showarrow\": false, \"text\": \"2\", \"x\": \"ankisdensus\", \"xref\": \"x\", \"y\": \"kirchneriela\", \"yref\": \"y\"}, {\"font\": {\"color\": \"#FFFFFF\"}, \"showarrow\": false, \"text\": \"1\", \"x\": \"ankisfusiformis\", \"xref\": \"x\", \"y\": \"kirchneriela\", \"yref\": \"y\"}, {\"font\": {\"color\": \"#FFFFFF\"}, \"showarrow\": false, \"text\": \"0\", \"x\": \"kirchneriela\", \"xref\": \"x\", \"y\": \"kirchneriela\", \"yref\": \"y\"}, {\"font\": {\"color\": \"#FFFFFF\"}, \"showarrow\": false, \"text\": \"3\", \"x\": \"monorapcontortum\", \"xref\": \"x\", \"y\": \"kirchneriela\", \"yref\": \"y\"}, {\"font\": {\"color\": \"#FFFFFF\"}, \"showarrow\": false, \"text\": \"3\", \"x\": \"monorapgriff\", \"xref\": \"x\", \"y\": \"kirchneriela\", \"yref\": \"y\"}, {\"font\": {\"color\": \"#FFFFFF\"}, \"showarrow\": false, \"text\": \"0\", \"x\": \"nephrocytium\", \"xref\": \"x\", \"y\": \"kirchneriela\", \"yref\": \"y\"}, {\"font\": {\"color\": \"#FFFFFF\"}, \"showarrow\": false, \"text\": \"2\", \"x\": \"raphidocelis\", \"xref\": \"x\", \"y\": \"kirchneriela\", \"yref\": \"y\"}, {\"font\": {\"color\": \"#000000\"}, \"showarrow\": false, \"text\": \"6\", \"x\": \"selenastrumbrib\", \"xref\": \"x\", \"y\": \"kirchneriela\", \"yref\": \"y\"}, {\"font\": {\"color\": \"#FFFFFF\"}, \"showarrow\": false, \"text\": \"3\", \"x\": \"ankisdensus\", \"xref\": \"x\", \"y\": \"monorapcontortum\", \"yref\": \"y\"}, {\"font\": {\"color\": \"#FFFFFF\"}, \"showarrow\": false, \"text\": \"0\", \"x\": \"ankisfusiformis\", \"xref\": \"x\", \"y\": \"monorapcontortum\", \"yref\": \"y\"}, {\"font\": {\"color\": \"#FFFFFF\"}, \"showarrow\": false, \"text\": \"0\", \"x\": \"kirchneriela\", \"xref\": \"x\", \"y\": \"monorapcontortum\", \"yref\": \"y\"}, {\"font\": {\"color\": \"#FFFFFF\"}, \"showarrow\": false, \"text\": \"2\", \"x\": \"monorapcontortum\", \"xref\": \"x\", \"y\": \"monorapcontortum\", \"yref\": \"y\"}, {\"font\": {\"color\": \"#000000\"}, \"showarrow\": false, \"text\": \"4\", \"x\": \"monorapgriff\", \"xref\": \"x\", \"y\": \"monorapcontortum\", \"yref\": \"y\"}, {\"font\": {\"color\": \"#FFFFFF\"}, \"showarrow\": false, \"text\": \"2\", \"x\": \"nephrocytium\", \"xref\": \"x\", \"y\": \"monorapcontortum\", \"yref\": \"y\"}, {\"font\": {\"color\": \"#000000\"}, \"showarrow\": false, \"text\": \"7\", \"x\": \"raphidocelis\", \"xref\": \"x\", \"y\": \"monorapcontortum\", \"yref\": \"y\"}, {\"font\": {\"color\": \"#000000\"}, \"showarrow\": false, \"text\": \"4\", \"x\": \"selenastrumbrib\", \"xref\": \"x\", \"y\": \"monorapcontortum\", \"yref\": \"y\"}, {\"font\": {\"color\": \"#FFFFFF\"}, \"showarrow\": false, \"text\": \"1\", \"x\": \"ankisdensus\", \"xref\": \"x\", \"y\": \"monorapgriff\", \"yref\": \"y\"}, {\"font\": {\"color\": \"#FFFFFF\"}, \"showarrow\": false, \"text\": \"0\", \"x\": \"ankisfusiformis\", \"xref\": \"x\", \"y\": \"monorapgriff\", \"yref\": \"y\"}, {\"font\": {\"color\": \"#FFFFFF\"}, \"showarrow\": false, \"text\": \"1\", \"x\": \"kirchneriela\", \"xref\": \"x\", \"y\": \"monorapgriff\", \"yref\": \"y\"}, {\"font\": {\"color\": \"#FFFFFF\"}, \"showarrow\": false, \"text\": \"3\", \"x\": \"monorapcontortum\", \"xref\": \"x\", \"y\": \"monorapgriff\", \"yref\": \"y\"}, {\"font\": {\"color\": \"#FFFFFF\"}, \"showarrow\": false, \"text\": \"3\", \"x\": \"monorapgriff\", \"xref\": \"x\", \"y\": \"monorapgriff\", \"yref\": \"y\"}, {\"font\": {\"color\": \"#FFFFFF\"}, \"showarrow\": false, \"text\": \"1\", \"x\": \"nephrocytium\", \"xref\": \"x\", \"y\": \"monorapgriff\", \"yref\": \"y\"}, {\"font\": {\"color\": \"#FFFFFF\"}, \"showarrow\": false, \"text\": \"1\", \"x\": \"raphidocelis\", \"xref\": \"x\", \"y\": \"monorapgriff\", \"yref\": \"y\"}, {\"font\": {\"color\": \"#FFFFFF\"}, \"showarrow\": false, \"text\": \"3\", \"x\": \"selenastrumbrib\", \"xref\": \"x\", \"y\": \"monorapgriff\", \"yref\": \"y\"}, {\"font\": {\"color\": \"#FFFFFF\"}, \"showarrow\": false, \"text\": \"0\", \"x\": \"ankisdensus\", \"xref\": \"x\", \"y\": \"nephrocytium\", \"yref\": \"y\"}, {\"font\": {\"color\": \"#FFFFFF\"}, \"showarrow\": false, \"text\": \"0\", \"x\": \"ankisfusiformis\", \"xref\": \"x\", \"y\": \"nephrocytium\", \"yref\": \"y\"}, {\"font\": {\"color\": \"#FFFFFF\"}, \"showarrow\": false, \"text\": \"1\", \"x\": \"kirchneriela\", \"xref\": \"x\", \"y\": \"nephrocytium\", \"yref\": \"y\"}, {\"font\": {\"color\": \"#FFFFFF\"}, \"showarrow\": false, \"text\": \"2\", \"x\": \"monorapcontortum\", \"xref\": \"x\", \"y\": \"nephrocytium\", \"yref\": \"y\"}, {\"font\": {\"color\": \"#000000\"}, \"showarrow\": false, \"text\": \"4\", \"x\": \"monorapgriff\", \"xref\": \"x\", \"y\": \"nephrocytium\", \"yref\": \"y\"}, {\"font\": {\"color\": \"#FFFFFF\"}, \"showarrow\": false, \"text\": \"2\", \"x\": \"nephrocytium\", \"xref\": \"x\", \"y\": \"nephrocytium\", \"yref\": \"y\"}, {\"font\": {\"color\": \"#FFFFFF\"}, \"showarrow\": false, \"text\": \"0\", \"x\": \"raphidocelis\", \"xref\": \"x\", \"y\": \"nephrocytium\", \"yref\": \"y\"}, {\"font\": {\"color\": \"#000000\"}, \"showarrow\": false, \"text\": \"4\", \"x\": \"selenastrumbrib\", \"xref\": \"x\", \"y\": \"nephrocytium\", \"yref\": \"y\"}, {\"font\": {\"color\": \"#FFFFFF\"}, \"showarrow\": false, \"text\": \"3\", \"x\": \"ankisdensus\", \"xref\": \"x\", \"y\": \"raphidocelis\", \"yref\": \"y\"}, {\"font\": {\"color\": \"#FFFFFF\"}, \"showarrow\": false, \"text\": \"0\", \"x\": \"ankisfusiformis\", \"xref\": \"x\", \"y\": \"raphidocelis\", \"yref\": \"y\"}, {\"font\": {\"color\": \"#FFFFFF\"}, \"showarrow\": false, \"text\": \"0\", \"x\": \"kirchneriela\", \"xref\": \"x\", \"y\": \"raphidocelis\", \"yref\": \"y\"}, {\"font\": {\"color\": \"#FFFFFF\"}, \"showarrow\": false, \"text\": \"1\", \"x\": \"monorapcontortum\", \"xref\": \"x\", \"y\": \"raphidocelis\", \"yref\": \"y\"}, {\"font\": {\"color\": \"#000000\"}, \"showarrow\": false, \"text\": \"4\", \"x\": \"monorapgriff\", \"xref\": \"x\", \"y\": \"raphidocelis\", \"yref\": \"y\"}, {\"font\": {\"color\": \"#FFFFFF\"}, \"showarrow\": false, \"text\": \"0\", \"x\": \"nephrocytium\", \"xref\": \"x\", \"y\": \"raphidocelis\", \"yref\": \"y\"}, {\"font\": {\"color\": \"#FFFFFF\"}, \"showarrow\": false, \"text\": \"1\", \"x\": \"raphidocelis\", \"xref\": \"x\", \"y\": \"raphidocelis\", \"yref\": \"y\"}, {\"font\": {\"color\": \"#FFFFFF\"}, \"showarrow\": false, \"text\": \"1\", \"x\": \"selenastrumbrib\", \"xref\": \"x\", \"y\": \"raphidocelis\", \"yref\": \"y\"}, {\"font\": {\"color\": \"#FFFFFF\"}, \"showarrow\": false, \"text\": \"3\", \"x\": \"ankisdensus\", \"xref\": \"x\", \"y\": \"selenastrumbrib\", \"yref\": \"y\"}, {\"font\": {\"color\": \"#FFFFFF\"}, \"showarrow\": false, \"text\": \"0\", \"x\": \"ankisfusiformis\", \"xref\": \"x\", \"y\": \"selenastrumbrib\", \"yref\": \"y\"}, {\"font\": {\"color\": \"#FFFFFF\"}, \"showarrow\": false, \"text\": \"1\", \"x\": \"kirchneriela\", \"xref\": \"x\", \"y\": \"selenastrumbrib\", \"yref\": \"y\"}, {\"font\": {\"color\": \"#FFFFFF\"}, \"showarrow\": false, \"text\": \"2\", \"x\": \"monorapcontortum\", \"xref\": \"x\", \"y\": \"selenastrumbrib\", \"yref\": \"y\"}, {\"font\": {\"color\": \"#FFFFFF\"}, \"showarrow\": false, \"text\": \"2\", \"x\": \"monorapgriff\", \"xref\": \"x\", \"y\": \"selenastrumbrib\", \"yref\": \"y\"}, {\"font\": {\"color\": \"#FFFFFF\"}, \"showarrow\": false, \"text\": \"1\", \"x\": \"nephrocytium\", \"xref\": \"x\", \"y\": \"selenastrumbrib\", \"yref\": \"y\"}, {\"font\": {\"color\": \"#FFFFFF\"}, \"showarrow\": false, \"text\": \"1\", \"x\": \"raphidocelis\", \"xref\": \"x\", \"y\": \"selenastrumbrib\", \"yref\": \"y\"}, {\"font\": {\"color\": \"#000000\"}, \"showarrow\": false, \"text\": \"4\", \"x\": \"selenastrumbrib\", \"xref\": \"x\", \"y\": \"selenastrumbrib\", \"yref\": \"y\"}, {\"font\": {\"color\": \"black\", \"size\": 14}, \"showarrow\": false, \"text\": \"Predicted value\", \"x\": 0.5, \"xref\": \"paper\", \"y\": -0.15, \"yref\": \"paper\"}, {\"font\": {\"color\": \"black\", \"size\": 14}, \"showarrow\": false, \"text\": \"Real value\", \"textangle\": -90, \"x\": -0.35, \"xref\": \"paper\", \"y\": 0.5, \"yref\": \"paper\"}], \"margin\": {\"l\": 200, \"t\": 50}, \"template\": {\"data\": {\"bar\": [{\"error_x\": {\"color\": \"#2a3f5f\"}, \"error_y\": {\"color\": \"#2a3f5f\"}, \"marker\": {\"line\": {\"color\": \"#E5ECF6\", \"width\": 0.5}}, \"type\": \"bar\"}], \"barpolar\": [{\"marker\": {\"line\": {\"color\": \"#E5ECF6\", \"width\": 0.5}}, \"type\": \"barpolar\"}], \"carpet\": [{\"aaxis\": {\"endlinecolor\": \"#2a3f5f\", \"gridcolor\": \"white\", \"linecolor\": \"white\", \"minorgridcolor\": \"white\", \"startlinecolor\": \"#2a3f5f\"}, \"baxis\": {\"endlinecolor\": \"#2a3f5f\", \"gridcolor\": \"white\", \"linecolor\": \"white\", \"minorgridcolor\": \"white\", \"startlinecolor\": \"#2a3f5f\"}, \"type\": \"carpet\"}], \"choropleth\": [{\"colorbar\": {\"outlinewidth\": 0, \"ticks\": \"\"}, \"type\": \"choropleth\"}], \"contour\": [{\"colorbar\": {\"outlinewidth\": 0, \"ticks\": \"\"}, \"colorscale\": [[0.0, \"#0d0887\"], [0.1111111111111111, \"#46039f\"], [0.2222222222222222, \"#7201a8\"], [0.3333333333333333, \"#9c179e\"], [0.4444444444444444, \"#bd3786\"], [0.5555555555555556, \"#d8576b\"], [0.6666666666666666, \"#ed7953\"], [0.7777777777777778, \"#fb9f3a\"], [0.8888888888888888, \"#fdca26\"], [1.0, \"#f0f921\"]], \"type\": \"contour\"}], \"contourcarpet\": [{\"colorbar\": {\"outlinewidth\": 0, \"ticks\": \"\"}, \"type\": \"contourcarpet\"}], \"heatmap\": [{\"colorbar\": {\"outlinewidth\": 0, \"ticks\": \"\"}, \"colorscale\": [[0.0, \"#0d0887\"], [0.1111111111111111, \"#46039f\"], [0.2222222222222222, \"#7201a8\"], [0.3333333333333333, \"#9c179e\"], [0.4444444444444444, \"#bd3786\"], [0.5555555555555556, \"#d8576b\"], [0.6666666666666666, \"#ed7953\"], [0.7777777777777778, \"#fb9f3a\"], [0.8888888888888888, \"#fdca26\"], [1.0, \"#f0f921\"]], \"type\": \"heatmap\"}], \"heatmapgl\": [{\"colorbar\": {\"outlinewidth\": 0, \"ticks\": \"\"}, \"colorscale\": [[0.0, \"#0d0887\"], [0.1111111111111111, \"#46039f\"], [0.2222222222222222, \"#7201a8\"], [0.3333333333333333, \"#9c179e\"], [0.4444444444444444, \"#bd3786\"], [0.5555555555555556, \"#d8576b\"], [0.6666666666666666, \"#ed7953\"], [0.7777777777777778, \"#fb9f3a\"], [0.8888888888888888, \"#fdca26\"], [1.0, \"#f0f921\"]], \"type\": \"heatmapgl\"}], \"histogram\": [{\"marker\": {\"colorbar\": {\"outlinewidth\": 0, \"ticks\": \"\"}}, \"type\": \"histogram\"}], \"histogram2d\": [{\"colorbar\": {\"outlinewidth\": 0, \"ticks\": \"\"}, \"colorscale\": [[0.0, \"#0d0887\"], [0.1111111111111111, \"#46039f\"], [0.2222222222222222, \"#7201a8\"], [0.3333333333333333, \"#9c179e\"], [0.4444444444444444, \"#bd3786\"], [0.5555555555555556, \"#d8576b\"], [0.6666666666666666, \"#ed7953\"], [0.7777777777777778, \"#fb9f3a\"], [0.8888888888888888, \"#fdca26\"], [1.0, \"#f0f921\"]], \"type\": \"histogram2d\"}], \"histogram2dcontour\": [{\"colorbar\": {\"outlinewidth\": 0, \"ticks\": \"\"}, \"colorscale\": [[0.0, \"#0d0887\"], [0.1111111111111111, \"#46039f\"], [0.2222222222222222, \"#7201a8\"], [0.3333333333333333, \"#9c179e\"], [0.4444444444444444, \"#bd3786\"], [0.5555555555555556, \"#d8576b\"], [0.6666666666666666, \"#ed7953\"], [0.7777777777777778, \"#fb9f3a\"], [0.8888888888888888, \"#fdca26\"], [1.0, \"#f0f921\"]], \"type\": \"histogram2dcontour\"}], \"mesh3d\": [{\"colorbar\": {\"outlinewidth\": 0, \"ticks\": \"\"}, \"type\": \"mesh3d\"}], \"parcoords\": [{\"line\": {\"colorbar\": {\"outlinewidth\": 0, \"ticks\": \"\"}}, \"type\": \"parcoords\"}], \"pie\": [{\"automargin\": true, \"type\": \"pie\"}], \"scatter\": [{\"marker\": {\"colorbar\": {\"outlinewidth\": 0, \"ticks\": \"\"}}, \"type\": \"scatter\"}], \"scatter3d\": [{\"line\": {\"colorbar\": {\"outlinewidth\": 0, \"ticks\": \"\"}}, \"marker\": {\"colorbar\": {\"outlinewidth\": 0, \"ticks\": \"\"}}, \"type\": \"scatter3d\"}], \"scattercarpet\": [{\"marker\": {\"colorbar\": {\"outlinewidth\": 0, \"ticks\": \"\"}}, \"type\": \"scattercarpet\"}], \"scattergeo\": [{\"marker\": {\"colorbar\": {\"outlinewidth\": 0, \"ticks\": \"\"}}, \"type\": \"scattergeo\"}], \"scattergl\": [{\"marker\": {\"colorbar\": {\"outlinewidth\": 0, \"ticks\": \"\"}}, \"type\": \"scattergl\"}], \"scattermapbox\": [{\"marker\": {\"colorbar\": {\"outlinewidth\": 0, \"ticks\": \"\"}}, \"type\": \"scattermapbox\"}], \"scatterpolar\": [{\"marker\": {\"colorbar\": {\"outlinewidth\": 0, \"ticks\": \"\"}}, \"type\": \"scatterpolar\"}], \"scatterpolargl\": [{\"marker\": {\"colorbar\": {\"outlinewidth\": 0, \"ticks\": \"\"}}, \"type\": \"scatterpolargl\"}], \"scatterternary\": [{\"marker\": {\"colorbar\": {\"outlinewidth\": 0, \"ticks\": \"\"}}, \"type\": \"scatterternary\"}], \"surface\": [{\"colorbar\": {\"outlinewidth\": 0, \"ticks\": \"\"}, \"colorscale\": [[0.0, \"#0d0887\"], [0.1111111111111111, \"#46039f\"], [0.2222222222222222, \"#7201a8\"], [0.3333333333333333, \"#9c179e\"], [0.4444444444444444, \"#bd3786\"], [0.5555555555555556, \"#d8576b\"], [0.6666666666666666, \"#ed7953\"], [0.7777777777777778, \"#fb9f3a\"], [0.8888888888888888, \"#fdca26\"], [1.0, \"#f0f921\"]], \"type\": \"surface\"}], \"table\": [{\"cells\": {\"fill\": {\"color\": \"#EBF0F8\"}, \"line\": {\"color\": \"white\"}}, \"header\": {\"fill\": {\"color\": \"#C8D4E3\"}, \"line\": {\"color\": \"white\"}}, \"type\": \"table\"}]}, \"layout\": {\"annotationdefaults\": {\"arrowcolor\": \"#2a3f5f\", \"arrowhead\": 0, \"arrowwidth\": 1}, \"coloraxis\": {\"colorbar\": {\"outlinewidth\": 0, \"ticks\": \"\"}}, \"colorscale\": {\"diverging\": [[0, \"#8e0152\"], [0.1, \"#c51b7d\"], [0.2, \"#de77ae\"], [0.3, \"#f1b6da\"], [0.4, \"#fde0ef\"], [0.5, \"#f7f7f7\"], [0.6, \"#e6f5d0\"], [0.7, \"#b8e186\"], [0.8, \"#7fbc41\"], [0.9, \"#4d9221\"], [1, \"#276419\"]], \"sequential\": [[0.0, \"#0d0887\"], [0.1111111111111111, \"#46039f\"], [0.2222222222222222, \"#7201a8\"], [0.3333333333333333, \"#9c179e\"], [0.4444444444444444, \"#bd3786\"], [0.5555555555555556, \"#d8576b\"], [0.6666666666666666, \"#ed7953\"], [0.7777777777777778, \"#fb9f3a\"], [0.8888888888888888, \"#fdca26\"], [1.0, \"#f0f921\"]], \"sequentialminus\": [[0.0, \"#0d0887\"], [0.1111111111111111, \"#46039f\"], [0.2222222222222222, \"#7201a8\"], [0.3333333333333333, \"#9c179e\"], [0.4444444444444444, \"#bd3786\"], [0.5555555555555556, \"#d8576b\"], [0.6666666666666666, \"#ed7953\"], [0.7777777777777778, \"#fb9f3a\"], [0.8888888888888888, \"#fdca26\"], [1.0, \"#f0f921\"]]}, \"colorway\": [\"#636efa\", \"#EF553B\", \"#00cc96\", \"#ab63fa\", \"#FFA15A\", \"#19d3f3\", \"#FF6692\", \"#B6E880\", \"#FF97FF\", \"#FECB52\"], \"font\": {\"color\": \"#2a3f5f\"}, \"geo\": {\"bgcolor\": \"white\", \"lakecolor\": \"white\", \"landcolor\": \"#E5ECF6\", \"showlakes\": true, \"showland\": true, \"subunitcolor\": \"white\"}, \"hoverlabel\": {\"align\": \"left\"}, \"hovermode\": \"closest\", \"mapbox\": {\"style\": \"light\"}, \"paper_bgcolor\": \"white\", \"plot_bgcolor\": \"#E5ECF6\", \"polar\": {\"angularaxis\": {\"gridcolor\": \"white\", \"linecolor\": \"white\", \"ticks\": \"\"}, \"bgcolor\": \"#E5ECF6\", \"radialaxis\": {\"gridcolor\": \"white\", \"linecolor\": \"white\", \"ticks\": \"\"}}, \"scene\": {\"xaxis\": {\"backgroundcolor\": \"#E5ECF6\", \"gridcolor\": \"white\", \"gridwidth\": 2, \"linecolor\": \"white\", \"showbackground\": true, \"ticks\": \"\", \"zerolinecolor\": \"white\"}, \"yaxis\": {\"backgroundcolor\": \"#E5ECF6\", \"gridcolor\": \"white\", \"gridwidth\": 2, \"linecolor\": \"white\", \"showbackground\": true, \"ticks\": \"\", \"zerolinecolor\": \"white\"}, \"zaxis\": {\"backgroundcolor\": \"#E5ECF6\", \"gridcolor\": \"white\", \"gridwidth\": 2, \"linecolor\": \"white\", \"showbackground\": true, \"ticks\": \"\", \"zerolinecolor\": \"white\"}}, \"shapedefaults\": {\"line\": {\"color\": \"#2a3f5f\"}}, \"ternary\": {\"aaxis\": {\"gridcolor\": \"white\", \"linecolor\": \"white\", \"ticks\": \"\"}, \"baxis\": {\"gridcolor\": \"white\", \"linecolor\": \"white\", \"ticks\": \"\"}, \"bgcolor\": \"#E5ECF6\", \"caxis\": {\"gridcolor\": \"white\", \"linecolor\": \"white\", \"ticks\": \"\"}}, \"title\": {\"x\": 0.05}, \"xaxis\": {\"automargin\": true, \"gridcolor\": \"white\", \"linecolor\": \"white\", \"ticks\": \"\", \"title\": {\"standoff\": 15}, \"zerolinecolor\": \"white\", \"zerolinewidth\": 2}, \"yaxis\": {\"automargin\": true, \"gridcolor\": \"white\", \"linecolor\": \"white\", \"ticks\": \"\", \"title\": {\"standoff\": 15}, \"zerolinecolor\": \"white\", \"zerolinewidth\": 2}}}, \"title\": {\"text\": \"<i><b>Confusion matrix</b></i>\"}, \"xaxis\": {\"dtick\": 1, \"gridcolor\": \"rgb(0, 0, 0)\", \"side\": \"top\", \"ticks\": \"\"}, \"yaxis\": {\"dtick\": 1, \"ticks\": \"\", \"ticksuffix\": \"  \"}},\n",
              "                        {\"responsive\": true}\n",
              "                    ).then(function(){\n",
              "                            \n",
              "var gd = document.getElementById('c430eddd-5d10-434c-ada3-cb133e9155fb');\n",
              "var x = new MutationObserver(function (mutations, observer) {{\n",
              "        var display = window.getComputedStyle(gd).display;\n",
              "        if (!display || display === 'none') {{\n",
              "            console.log([gd, 'removed!']);\n",
              "            Plotly.purge(gd);\n",
              "            observer.disconnect();\n",
              "        }}\n",
              "}});\n",
              "\n",
              "// Listen for the removal of the full notebook cells\n",
              "var notebookContainer = gd.closest('#notebook-container');\n",
              "if (notebookContainer) {{\n",
              "    x.observe(notebookContainer, {childList: true});\n",
              "}}\n",
              "\n",
              "// Listen for the clearing of the current output cell\n",
              "var outputEl = gd.closest('.output');\n",
              "if (outputEl) {{\n",
              "    x.observe(outputEl, {childList: true});\n",
              "}}\n",
              "\n",
              "                        })\n",
              "                };\n",
              "                \n",
              "            </script>\n",
              "        </div>\n",
              "</body>\n",
              "</html>"
            ]
          },
          "metadata": {}
        }
      ]
    }
  ]
}