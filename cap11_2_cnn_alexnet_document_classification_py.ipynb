{
  "nbformat": 4,
  "nbformat_minor": 0,
  "metadata": {
    "colab": {
      "name": "cap11_2_cnn_alexnet_document_classification.py",
      "provenance": [],
      "collapsed_sections": [],
      "authorship_tag": "ABX9TyNVlhgsoqfnVabkSLYoV+l5",
      "include_colab_link": true
    },
    "kernelspec": {
      "name": "python3",
      "display_name": "Python 3"
    },
    "language_info": {
      "name": "python"
    },
    "accelerator": "GPU",
    "gpuClass": "standard"
  },
  "cells": [
    {
      "cell_type": "markdown",
      "metadata": {
        "id": "view-in-github",
        "colab_type": "text"
      },
      "source": [
        "<a href=\"https://colab.research.google.com/github/viniciusrpb/116319_estruturasdedados/blob/main/cap11_2_cnn_alexnet_document_classification_py.ipynb\" target=\"_parent\"><img src=\"https://colab.research.google.com/assets/colab-badge.svg\" alt=\"Open In Colab\"/></a>"
      ]
    },
    {
      "cell_type": "code",
      "source": [
        "#from google.colab import drive\n",
        "#drive.mount('/content/drive')"
      ],
      "metadata": {
        "id": "kBwu-Scb5Z9W"
      },
      "execution_count": 1,
      "outputs": []
    },
    {
      "cell_type": "code",
      "source": [
        "#!pip install -U keras\n",
        "#!pip install tensorflow"
      ],
      "metadata": {
        "id": "6dfyHBHHhQqD"
      },
      "execution_count": 2,
      "outputs": []
    },
    {
      "cell_type": "code",
      "source": [
        "#!cp -r \"/content/drive/My Drive/ocr/full_3_balanced/\" \"documents\""
      ],
      "metadata": {
        "id": "5JLVuXqF5c6U"
      },
      "execution_count": 3,
      "outputs": []
    },
    {
      "cell_type": "code",
      "source": [
        "from keras.models import Sequential\n",
        "from keras.layers import Dense,Activation,Conv2D,MaxPooling2D,BatchNormalization,Flatten\n",
        "from tensorflow.keras.optimizers import SGD\n",
        "from sklearn.metrics import classification_report\n",
        "from sklearn.model_selection import train_test_split\n",
        "from tensorflow.keras.preprocessing.image import ImageDataGenerator\n",
        "from tensorflow.keras.callbacks import EarlyStopping\n",
        "from tensorflow.keras import layers\n",
        "import numpy as np\n",
        "import os\n",
        "import pandas as pd"
      ],
      "metadata": {
        "id": "y6JFUcrWhSaB"
      },
      "execution_count": 4,
      "outputs": []
    },
    {
      "cell_type": "code",
      "source": [
        "path_data = \"documents\"\n",
        "list_subfolders = os.listdir(path_data)\n",
        "    \n",
        "list_subfolders.sort()\n",
        "\n",
        "dataset_dict = {}\n",
        "\n",
        "dataset_dict['filename'] = []\n",
        "dataset_dict['label'] = []\n",
        "\n",
        "for folder in list_subfolders:\n",
        "\n",
        "    list_images_path = os.listdir(path_data+\"/\"+folder)\n",
        "    \n",
        "    list_images_path.sort()\n",
        "\n",
        "    for image_name in list_images_path:\n",
        "\n",
        "        dataset_dict['filename'].append(folder+\"/\"+image_name)\n",
        "\n",
        "        dataset_dict['label'].append(folder)"
      ],
      "metadata": {
        "id": "3j-UAr8A9Djs"
      },
      "execution_count": 5,
      "outputs": []
    },
    {
      "cell_type": "code",
      "source": [
        "df = pd.DataFrame.from_dict(dataset_dict)"
      ],
      "metadata": {
        "id": "d-kPiJ6K9RtT"
      },
      "execution_count": 6,
      "outputs": []
    },
    {
      "cell_type": "code",
      "source": [
        "df"
      ],
      "metadata": {
        "colab": {
          "base_uri": "https://localhost:8080/",
          "height": 424
        },
        "id": "CfQG_E-99Wso",
        "outputId": "5b4e9c69-22b1-4978-a6cc-886bf06e2940"
      },
      "execution_count": 7,
      "outputs": [
        {
          "output_type": "execute_result",
          "data": {
            "text/plain": [
              "                                     filename                   label\n",
              "0                advertisement/0000035285.tif           advertisement\n",
              "1                  advertisement/00001168.tif           advertisement\n",
              "2                advertisement/0000160476.tif           advertisement\n",
              "3                advertisement/0000171775.tif           advertisement\n",
              "4                advertisement/0000183298.tif           advertisement\n",
              "..                                        ...                     ...\n",
              "895           scientific_publication/9575.tif  scientific_publication\n",
              "896  scientific_publication/98793269_3285.tif  scientific_publication\n",
              "897           scientific_publication/9893.tif  scientific_publication\n",
              "898  scientific_publication/99026124_6146.tif  scientific_publication\n",
              "899  scientific_publication/99038381_8383.tif  scientific_publication\n",
              "\n",
              "[900 rows x 2 columns]"
            ],
            "text/html": [
              "\n",
              "  <div id=\"df-9abb4e61-0953-4d15-a4ec-6b520807fbcc\">\n",
              "    <div class=\"colab-df-container\">\n",
              "      <div>\n",
              "<style scoped>\n",
              "    .dataframe tbody tr th:only-of-type {\n",
              "        vertical-align: middle;\n",
              "    }\n",
              "\n",
              "    .dataframe tbody tr th {\n",
              "        vertical-align: top;\n",
              "    }\n",
              "\n",
              "    .dataframe thead th {\n",
              "        text-align: right;\n",
              "    }\n",
              "</style>\n",
              "<table border=\"1\" class=\"dataframe\">\n",
              "  <thead>\n",
              "    <tr style=\"text-align: right;\">\n",
              "      <th></th>\n",
              "      <th>filename</th>\n",
              "      <th>label</th>\n",
              "    </tr>\n",
              "  </thead>\n",
              "  <tbody>\n",
              "    <tr>\n",
              "      <th>0</th>\n",
              "      <td>advertisement/0000035285.tif</td>\n",
              "      <td>advertisement</td>\n",
              "    </tr>\n",
              "    <tr>\n",
              "      <th>1</th>\n",
              "      <td>advertisement/00001168.tif</td>\n",
              "      <td>advertisement</td>\n",
              "    </tr>\n",
              "    <tr>\n",
              "      <th>2</th>\n",
              "      <td>advertisement/0000160476.tif</td>\n",
              "      <td>advertisement</td>\n",
              "    </tr>\n",
              "    <tr>\n",
              "      <th>3</th>\n",
              "      <td>advertisement/0000171775.tif</td>\n",
              "      <td>advertisement</td>\n",
              "    </tr>\n",
              "    <tr>\n",
              "      <th>4</th>\n",
              "      <td>advertisement/0000183298.tif</td>\n",
              "      <td>advertisement</td>\n",
              "    </tr>\n",
              "    <tr>\n",
              "      <th>...</th>\n",
              "      <td>...</td>\n",
              "      <td>...</td>\n",
              "    </tr>\n",
              "    <tr>\n",
              "      <th>895</th>\n",
              "      <td>scientific_publication/9575.tif</td>\n",
              "      <td>scientific_publication</td>\n",
              "    </tr>\n",
              "    <tr>\n",
              "      <th>896</th>\n",
              "      <td>scientific_publication/98793269_3285.tif</td>\n",
              "      <td>scientific_publication</td>\n",
              "    </tr>\n",
              "    <tr>\n",
              "      <th>897</th>\n",
              "      <td>scientific_publication/9893.tif</td>\n",
              "      <td>scientific_publication</td>\n",
              "    </tr>\n",
              "    <tr>\n",
              "      <th>898</th>\n",
              "      <td>scientific_publication/99026124_6146.tif</td>\n",
              "      <td>scientific_publication</td>\n",
              "    </tr>\n",
              "    <tr>\n",
              "      <th>899</th>\n",
              "      <td>scientific_publication/99038381_8383.tif</td>\n",
              "      <td>scientific_publication</td>\n",
              "    </tr>\n",
              "  </tbody>\n",
              "</table>\n",
              "<p>900 rows × 2 columns</p>\n",
              "</div>\n",
              "      <button class=\"colab-df-convert\" onclick=\"convertToInteractive('df-9abb4e61-0953-4d15-a4ec-6b520807fbcc')\"\n",
              "              title=\"Convert this dataframe to an interactive table.\"\n",
              "              style=\"display:none;\">\n",
              "        \n",
              "  <svg xmlns=\"http://www.w3.org/2000/svg\" height=\"24px\"viewBox=\"0 0 24 24\"\n",
              "       width=\"24px\">\n",
              "    <path d=\"M0 0h24v24H0V0z\" fill=\"none\"/>\n",
              "    <path d=\"M18.56 5.44l.94 2.06.94-2.06 2.06-.94-2.06-.94-.94-2.06-.94 2.06-2.06.94zm-11 1L8.5 8.5l.94-2.06 2.06-.94-2.06-.94L8.5 2.5l-.94 2.06-2.06.94zm10 10l.94 2.06.94-2.06 2.06-.94-2.06-.94-.94-2.06-.94 2.06-2.06.94z\"/><path d=\"M17.41 7.96l-1.37-1.37c-.4-.4-.92-.59-1.43-.59-.52 0-1.04.2-1.43.59L10.3 9.45l-7.72 7.72c-.78.78-.78 2.05 0 2.83L4 21.41c.39.39.9.59 1.41.59.51 0 1.02-.2 1.41-.59l7.78-7.78 2.81-2.81c.8-.78.8-2.07 0-2.86zM5.41 20L4 18.59l7.72-7.72 1.47 1.35L5.41 20z\"/>\n",
              "  </svg>\n",
              "      </button>\n",
              "      \n",
              "  <style>\n",
              "    .colab-df-container {\n",
              "      display:flex;\n",
              "      flex-wrap:wrap;\n",
              "      gap: 12px;\n",
              "    }\n",
              "\n",
              "    .colab-df-convert {\n",
              "      background-color: #E8F0FE;\n",
              "      border: none;\n",
              "      border-radius: 50%;\n",
              "      cursor: pointer;\n",
              "      display: none;\n",
              "      fill: #1967D2;\n",
              "      height: 32px;\n",
              "      padding: 0 0 0 0;\n",
              "      width: 32px;\n",
              "    }\n",
              "\n",
              "    .colab-df-convert:hover {\n",
              "      background-color: #E2EBFA;\n",
              "      box-shadow: 0px 1px 2px rgba(60, 64, 67, 0.3), 0px 1px 3px 1px rgba(60, 64, 67, 0.15);\n",
              "      fill: #174EA6;\n",
              "    }\n",
              "\n",
              "    [theme=dark] .colab-df-convert {\n",
              "      background-color: #3B4455;\n",
              "      fill: #D2E3FC;\n",
              "    }\n",
              "\n",
              "    [theme=dark] .colab-df-convert:hover {\n",
              "      background-color: #434B5C;\n",
              "      box-shadow: 0px 1px 3px 1px rgba(0, 0, 0, 0.15);\n",
              "      filter: drop-shadow(0px 1px 2px rgba(0, 0, 0, 0.3));\n",
              "      fill: #FFFFFF;\n",
              "    }\n",
              "  </style>\n",
              "\n",
              "      <script>\n",
              "        const buttonEl =\n",
              "          document.querySelector('#df-9abb4e61-0953-4d15-a4ec-6b520807fbcc button.colab-df-convert');\n",
              "        buttonEl.style.display =\n",
              "          google.colab.kernel.accessAllowed ? 'block' : 'none';\n",
              "\n",
              "        async function convertToInteractive(key) {\n",
              "          const element = document.querySelector('#df-9abb4e61-0953-4d15-a4ec-6b520807fbcc');\n",
              "          const dataTable =\n",
              "            await google.colab.kernel.invokeFunction('convertToInteractive',\n",
              "                                                     [key], {});\n",
              "          if (!dataTable) return;\n",
              "\n",
              "          const docLinkHtml = 'Like what you see? Visit the ' +\n",
              "            '<a target=\"_blank\" href=https://colab.research.google.com/notebooks/data_table.ipynb>data table notebook</a>'\n",
              "            + ' to learn more about interactive tables.';\n",
              "          element.innerHTML = '';\n",
              "          dataTable['output_type'] = 'display_data';\n",
              "          await google.colab.output.renderOutput(dataTable, element);\n",
              "          const docLink = document.createElement('div');\n",
              "          docLink.innerHTML = docLinkHtml;\n",
              "          element.appendChild(docLink);\n",
              "        }\n",
              "      </script>\n",
              "    </div>\n",
              "  </div>\n",
              "  "
            ]
          },
          "metadata": {},
          "execution_count": 7
        }
      ]
    },
    {
      "cell_type": "code",
      "source": [
        "X = df['filename'].values\n",
        "y = df['label'].values\n",
        "X_train, X_test, y_train, y_test = train_test_split(X,y, test_size=0.3, random_state=42)\n",
        "X_valid, X_test, y_valid, y_test = train_test_split(X_test, y_test, test_size=0.5, random_state=42)"
      ],
      "metadata": {
        "id": "Hqhqw0oO-O-T"
      },
      "execution_count": 8,
      "outputs": []
    },
    {
      "cell_type": "code",
      "source": [
        "from keras.utils.np_utils import to_categorical\n",
        "\n",
        "labels_train = pd.Categorical(y_train)\n",
        "labels_valid = pd.Categorical(y_valid)\n",
        "labels_test = pd.Categorical(y_test)\n",
        "\n",
        "y_train_int = labels_train.codes\n",
        "y_valid_int = labels_valid.codes\n",
        "y_test_int = labels_test.codes\n",
        "\n",
        "y_train_logits = to_categorical(y_train_int)\n",
        "y_valid_logits = to_categorical(y_valid_int)\n",
        "y_test_logits = to_categorical(y_test_int)"
      ],
      "metadata": {
        "id": "uiHTx3F5LDeY"
      },
      "execution_count": 9,
      "outputs": []
    },
    {
      "cell_type": "code",
      "source": [
        "agnostic_datagen = ImageDataGenerator(rescale=1./255)"
      ],
      "metadata": {
        "id": "RzfBxMVeAEos"
      },
      "execution_count": 10,
      "outputs": []
    },
    {
      "cell_type": "code",
      "source": [
        "train_list = []\n",
        "valid_list = []\n",
        "test_list = []\n",
        "\n",
        "for ind in range(0,len(X_train)):\n",
        "    train_list.append([X_train[ind],y_train[ind]])\n",
        "        \n",
        "for ind in range(0,len(X_valid)):\n",
        "    valid_list.append([X_valid[ind],y_valid[ind]])\n",
        "\n",
        "for ind in range(0,len(X_test)):\n",
        "    test_list.append([X_test[ind],y_test[ind]])\n",
        "\n",
        "df_train = pd.DataFrame(train_list, columns =['filename','label'])\n",
        "df_valid = pd.DataFrame(valid_list, columns =['filename','label'])\n",
        "df_test = pd.DataFrame(test_list, columns =['filename','label'])\n",
        "\n",
        "train_generator = agnostic_datagen.flow_from_dataframe(df_train, directory = path_data,\n",
        "                                                        x_col = \"filename\", y_col = \"label\",\n",
        "                                                        class_mode = \"categorical\", shuffle = True)\n",
        "        \n",
        "validation_generator = agnostic_datagen.flow_from_dataframe(df_valid, directory = path_data,\n",
        "                                                            x_col = \"filename\", y_col = \"label\",\n",
        "                                                            class_mode = \"categorical\", shuffle = True)\n",
        "\n",
        "test_generator = agnostic_datagen.flow_from_dataframe(df_test, directory = path_data,\n",
        "                                                            x_col = \"filename\", y_col = \"label\",\n",
        "                                                            class_mode = \"categorical\", shuffle = True)"
      ],
      "metadata": {
        "colab": {
          "base_uri": "https://localhost:8080/"
        },
        "id": "i9miifv7Bb_A",
        "outputId": "df6c3cfe-195a-44bc-aae3-f045d486431a"
      },
      "execution_count": 11,
      "outputs": [
        {
          "output_type": "stream",
          "name": "stdout",
          "text": [
            "Found 630 validated image filenames belonging to 3 classes.\n",
            "Found 135 validated image filenames belonging to 3 classes.\n",
            "Found 135 validated image filenames belonging to 3 classes.\n"
          ]
        }
      ]
    },
    {
      "cell_type": "markdown",
      "source": [
        "Hyperparameters"
      ],
      "metadata": {
        "id": "A9i8TjKRjHJ1"
      }
    },
    {
      "cell_type": "code",
      "source": [
        "dims = (224,224,3)\n",
        "num_classes = 3"
      ],
      "metadata": {
        "id": "vwZ2ynTPjHRI"
      },
      "execution_count": 12,
      "outputs": []
    },
    {
      "cell_type": "code",
      "source": [
        "model = Sequential()\n",
        "# Parte 1 da AlexNet\n",
        "model.add(layers.experimental.preprocessing.Resizing(224,224,interpolation=\"bilinear\",input_shape=(224,224,3)))\n",
        "model.add(Conv2D(96,kernel_size=(11,11), strides=(4,4),input_shape=dims,padding=\"same\"))\n",
        "model.add(Activation(\"relu\"))\n",
        "model.add(MaxPooling2D((3, 3),strides=(2,2),padding=\"same\"))\n",
        "#model.add(BatchNormalization())\n",
        "\n",
        "# Parte 2 da AlexNet\n",
        "model.add(Conv2D(256,kernel_size=(5,5), strides=(1,1),padding=\"same\"))\n",
        "model.add(Activation(\"relu\"))\n",
        "model.add(MaxPooling2D((3, 3),strides=(2,2)))\n",
        "#model.add(BatchNormalization())\n",
        "\n",
        "# Parte 3 da AlexNet\n",
        "model.add(Conv2D(384,kernel_size=(3,3), strides=(1,1),padding=\"same\"))\n",
        "model.add(Activation(\"relu\"))\n",
        "\n",
        "model.add(Conv2D(384,kernel_size=(3,3), strides=(1,1),padding=\"same\"))\n",
        "model.add(Activation(\"relu\"))\n",
        "\n",
        "model.add(Conv2D(256,kernel_size=(3,3), strides=(1,1),padding=\"same\"))\n",
        "model.add(Activation(\"relu\"))\n",
        "\n",
        "model.add(MaxPooling2D((3, 3),strides=(2,2),padding=\"same\"))\n",
        "\n",
        "model.add(Flatten())\n",
        "\n",
        "model.add(Dense(4096, input_shape=(224*224*3,)))\n",
        "model.add(Activation(\"relu\"))\n",
        "\n",
        "model.add(Dense(4096))\n",
        "model.add(Activation(\"relu\"))\n",
        "\n",
        "model.add(Dense(num_classes))\n",
        "model.add(Activation(\"softmax\"))"
      ],
      "metadata": {
        "id": "ADggsOKeh1Lc"
      },
      "execution_count": 13,
      "outputs": []
    },
    {
      "cell_type": "code",
      "source": [
        "model.summary()"
      ],
      "metadata": {
        "colab": {
          "base_uri": "https://localhost:8080/"
        },
        "id": "1dPoAyxJqk7l",
        "outputId": "3f9a7631-0148-4a06-e190-8d8c54fe5e0e"
      },
      "execution_count": 14,
      "outputs": [
        {
          "output_type": "stream",
          "name": "stdout",
          "text": [
            "Model: \"sequential\"\n",
            "_________________________________________________________________\n",
            " Layer (type)                Output Shape              Param #   \n",
            "=================================================================\n",
            " resizing (Resizing)         (None, 224, 224, 3)       0         \n",
            "                                                                 \n",
            " conv2d (Conv2D)             (None, 56, 56, 96)        34944     \n",
            "                                                                 \n",
            " activation (Activation)     (None, 56, 56, 96)        0         \n",
            "                                                                 \n",
            " max_pooling2d (MaxPooling2D  (None, 28, 28, 96)       0         \n",
            " )                                                               \n",
            "                                                                 \n",
            " conv2d_1 (Conv2D)           (None, 28, 28, 256)       614656    \n",
            "                                                                 \n",
            " activation_1 (Activation)   (None, 28, 28, 256)       0         \n",
            "                                                                 \n",
            " max_pooling2d_1 (MaxPooling  (None, 13, 13, 256)      0         \n",
            " 2D)                                                             \n",
            "                                                                 \n",
            " conv2d_2 (Conv2D)           (None, 13, 13, 384)       885120    \n",
            "                                                                 \n",
            " activation_2 (Activation)   (None, 13, 13, 384)       0         \n",
            "                                                                 \n",
            " conv2d_3 (Conv2D)           (None, 13, 13, 384)       1327488   \n",
            "                                                                 \n",
            " activation_3 (Activation)   (None, 13, 13, 384)       0         \n",
            "                                                                 \n",
            " conv2d_4 (Conv2D)           (None, 13, 13, 256)       884992    \n",
            "                                                                 \n",
            " activation_4 (Activation)   (None, 13, 13, 256)       0         \n",
            "                                                                 \n",
            " max_pooling2d_2 (MaxPooling  (None, 7, 7, 256)        0         \n",
            " 2D)                                                             \n",
            "                                                                 \n",
            " flatten (Flatten)           (None, 12544)             0         \n",
            "                                                                 \n",
            " dense (Dense)               (None, 4096)              51384320  \n",
            "                                                                 \n",
            " activation_5 (Activation)   (None, 4096)              0         \n",
            "                                                                 \n",
            " dense_1 (Dense)             (None, 4096)              16781312  \n",
            "                                                                 \n",
            " activation_6 (Activation)   (None, 4096)              0         \n",
            "                                                                 \n",
            " dense_2 (Dense)             (None, 3)                 12291     \n",
            "                                                                 \n",
            " activation_7 (Activation)   (None, 3)                 0         \n",
            "                                                                 \n",
            "=================================================================\n",
            "Total params: 71,925,123\n",
            "Trainable params: 71,925,123\n",
            "Non-trainable params: 0\n",
            "_________________________________________________________________\n"
          ]
        }
      ]
    },
    {
      "cell_type": "code",
      "source": [
        "early_stopping = EarlyStopping(monitor='loss', patience=5)"
      ],
      "metadata": {
        "id": "XNkDxbweGdzR"
      },
      "execution_count": 15,
      "outputs": []
    },
    {
      "cell_type": "code",
      "source": [
        "sgd = SGD(lr = 0.001)\n",
        "\n",
        "model.compile(optimizer = sgd, \n",
        "              loss = 'categorical_crossentropy',\n",
        "              metrics='accuracy')\n",
        "\n",
        "history_fine = model.fit(train_generator,\n",
        "                         epochs=60,\n",
        "                         batch_size=16,\n",
        "                         validation_data=validation_generator,\n",
        "                         callbacks=[early_stopping]\n",
        "                         )"
      ],
      "metadata": {
        "colab": {
          "base_uri": "https://localhost:8080/"
        },
        "id": "X3_kA_Y0GtOo",
        "outputId": "99e849ab-609f-4cdc-d9da-3d5f188baa34"
      },
      "execution_count": 16,
      "outputs": [
        {
          "output_type": "stream",
          "name": "stderr",
          "text": [
            "/usr/local/lib/python3.7/dist-packages/keras/optimizer_v2/gradient_descent.py:102: UserWarning: The `lr` argument is deprecated, use `learning_rate` instead.\n",
            "  super(SGD, self).__init__(name, **kwargs)\n"
          ]
        },
        {
          "output_type": "stream",
          "name": "stdout",
          "text": [
            "Epoch 1/60\n",
            "20/20 [==============================] - 11s 341ms/step - loss: 1.0909 - accuracy: 0.4048 - val_loss: 1.0936 - val_accuracy: 0.3111\n",
            "Epoch 2/60\n",
            "20/20 [==============================] - 4s 195ms/step - loss: 1.0781 - accuracy: 0.4048 - val_loss: 1.0898 - val_accuracy: 0.3111\n",
            "Epoch 3/60\n",
            "20/20 [==============================] - 3s 163ms/step - loss: 1.0687 - accuracy: 0.4048 - val_loss: 1.0872 - val_accuracy: 0.3111\n",
            "Epoch 4/60\n",
            "20/20 [==============================] - 3s 162ms/step - loss: 1.0603 - accuracy: 0.4048 - val_loss: 1.0842 - val_accuracy: 0.3111\n",
            "Epoch 5/60\n",
            "20/20 [==============================] - 3s 163ms/step - loss: 1.0526 - accuracy: 0.4048 - val_loss: 1.0803 - val_accuracy: 0.3111\n",
            "Epoch 6/60\n",
            "20/20 [==============================] - 3s 164ms/step - loss: 1.0450 - accuracy: 0.4095 - val_loss: 1.0771 - val_accuracy: 0.3185\n",
            "Epoch 7/60\n",
            "20/20 [==============================] - 3s 164ms/step - loss: 1.0377 - accuracy: 0.4095 - val_loss: 1.0721 - val_accuracy: 0.3259\n",
            "Epoch 8/60\n",
            "20/20 [==============================] - 3s 162ms/step - loss: 1.0302 - accuracy: 0.4349 - val_loss: 1.0658 - val_accuracy: 0.3556\n",
            "Epoch 9/60\n",
            "20/20 [==============================] - 3s 162ms/step - loss: 1.0229 - accuracy: 0.4635 - val_loss: 1.0605 - val_accuracy: 0.3630\n",
            "Epoch 10/60\n",
            "20/20 [==============================] - 3s 164ms/step - loss: 1.0151 - accuracy: 0.4762 - val_loss: 1.0532 - val_accuracy: 0.3852\n",
            "Epoch 11/60\n",
            "20/20 [==============================] - 3s 164ms/step - loss: 1.0063 - accuracy: 0.4921 - val_loss: 1.0427 - val_accuracy: 0.4148\n",
            "Epoch 12/60\n",
            "20/20 [==============================] - 3s 164ms/step - loss: 0.9957 - accuracy: 0.5238 - val_loss: 1.0358 - val_accuracy: 0.4444\n",
            "Epoch 13/60\n",
            "20/20 [==============================] - 3s 172ms/step - loss: 0.9853 - accuracy: 0.5333 - val_loss: 1.0208 - val_accuracy: 0.4444\n",
            "Epoch 14/60\n",
            "20/20 [==============================] - 3s 162ms/step - loss: 0.9718 - accuracy: 0.5333 - val_loss: 1.0070 - val_accuracy: 0.5185\n",
            "Epoch 15/60\n",
            "20/20 [==============================] - 3s 163ms/step - loss: 0.9584 - accuracy: 0.5603 - val_loss: 0.9899 - val_accuracy: 0.5185\n",
            "Epoch 16/60\n",
            "20/20 [==============================] - 3s 164ms/step - loss: 0.9408 - accuracy: 0.5603 - val_loss: 0.9769 - val_accuracy: 0.5259\n",
            "Epoch 17/60\n",
            "20/20 [==============================] - 3s 164ms/step - loss: 0.9231 - accuracy: 0.5794 - val_loss: 0.9451 - val_accuracy: 0.5333\n",
            "Epoch 18/60\n",
            "20/20 [==============================] - 3s 164ms/step - loss: 0.8996 - accuracy: 0.5889 - val_loss: 0.9159 - val_accuracy: 0.5926\n",
            "Epoch 19/60\n",
            "20/20 [==============================] - 3s 162ms/step - loss: 0.8707 - accuracy: 0.6667 - val_loss: 0.8878 - val_accuracy: 0.6667\n",
            "Epoch 20/60\n",
            "20/20 [==============================] - 3s 161ms/step - loss: 0.8511 - accuracy: 0.6841 - val_loss: 0.8539 - val_accuracy: 0.7481\n",
            "Epoch 21/60\n",
            "20/20 [==============================] - 3s 165ms/step - loss: 0.8181 - accuracy: 0.7333 - val_loss: 0.8324 - val_accuracy: 0.6889\n",
            "Epoch 22/60\n",
            "20/20 [==============================] - 3s 167ms/step - loss: 0.7959 - accuracy: 0.7286 - val_loss: 0.7828 - val_accuracy: 0.7407\n",
            "Epoch 23/60\n",
            "20/20 [==============================] - 3s 166ms/step - loss: 0.7748 - accuracy: 0.7127 - val_loss: 0.9229 - val_accuracy: 0.4444\n",
            "Epoch 24/60\n",
            "20/20 [==============================] - 3s 163ms/step - loss: 0.7536 - accuracy: 0.6952 - val_loss: 0.7683 - val_accuracy: 0.7259\n",
            "Epoch 25/60\n",
            "20/20 [==============================] - 3s 167ms/step - loss: 0.7779 - accuracy: 0.6714 - val_loss: 0.7297 - val_accuracy: 0.7333\n",
            "Epoch 26/60\n",
            "20/20 [==============================] - 3s 167ms/step - loss: 0.7109 - accuracy: 0.7381 - val_loss: 0.7488 - val_accuracy: 0.6963\n",
            "Epoch 27/60\n",
            "20/20 [==============================] - 3s 163ms/step - loss: 0.7071 - accuracy: 0.7190 - val_loss: 0.6730 - val_accuracy: 0.7704\n",
            "Epoch 28/60\n",
            "20/20 [==============================] - 3s 164ms/step - loss: 0.7187 - accuracy: 0.7063 - val_loss: 0.7894 - val_accuracy: 0.6815\n",
            "Epoch 29/60\n",
            "20/20 [==============================] - 3s 165ms/step - loss: 0.7370 - accuracy: 0.6635 - val_loss: 1.1231 - val_accuracy: 0.4222\n",
            "Epoch 30/60\n",
            "20/20 [==============================] - 3s 163ms/step - loss: 0.7222 - accuracy: 0.6952 - val_loss: 0.7399 - val_accuracy: 0.7407\n",
            "Epoch 31/60\n",
            "20/20 [==============================] - 3s 164ms/step - loss: 0.6774 - accuracy: 0.7175 - val_loss: 0.6164 - val_accuracy: 0.8296\n",
            "Epoch 32/60\n",
            "20/20 [==============================] - 4s 182ms/step - loss: 0.6682 - accuracy: 0.7397 - val_loss: 0.5821 - val_accuracy: 0.7926\n",
            "Epoch 33/60\n",
            "20/20 [==============================] - 3s 162ms/step - loss: 0.5843 - accuracy: 0.7794 - val_loss: 0.8720 - val_accuracy: 0.6222\n",
            "Epoch 34/60\n",
            "20/20 [==============================] - 3s 164ms/step - loss: 0.6723 - accuracy: 0.7349 - val_loss: 0.6238 - val_accuracy: 0.7704\n",
            "Epoch 35/60\n",
            "20/20 [==============================] - 3s 165ms/step - loss: 0.5682 - accuracy: 0.7825 - val_loss: 0.5566 - val_accuracy: 0.7852\n",
            "Epoch 36/60\n",
            "20/20 [==============================] - 3s 162ms/step - loss: 0.6845 - accuracy: 0.7095 - val_loss: 0.5790 - val_accuracy: 0.7852\n",
            "Epoch 37/60\n",
            "20/20 [==============================] - 3s 167ms/step - loss: 0.6357 - accuracy: 0.7397 - val_loss: 0.5694 - val_accuracy: 0.8074\n",
            "Epoch 38/60\n",
            "20/20 [==============================] - 3s 165ms/step - loss: 0.5460 - accuracy: 0.8079 - val_loss: 0.5409 - val_accuracy: 0.8000\n",
            "Epoch 39/60\n",
            "20/20 [==============================] - 3s 165ms/step - loss: 0.5834 - accuracy: 0.7762 - val_loss: 0.5307 - val_accuracy: 0.8000\n",
            "Epoch 40/60\n",
            "20/20 [==============================] - 3s 165ms/step - loss: 0.5571 - accuracy: 0.7841 - val_loss: 0.5075 - val_accuracy: 0.8148\n",
            "Epoch 41/60\n",
            "20/20 [==============================] - 3s 165ms/step - loss: 0.5200 - accuracy: 0.7873 - val_loss: 0.5625 - val_accuracy: 0.7852\n",
            "Epoch 42/60\n",
            "20/20 [==============================] - 3s 164ms/step - loss: 0.5695 - accuracy: 0.7619 - val_loss: 0.5069 - val_accuracy: 0.8074\n",
            "Epoch 43/60\n",
            "20/20 [==============================] - 3s 168ms/step - loss: 0.5232 - accuracy: 0.8000 - val_loss: 0.4857 - val_accuracy: 0.8222\n",
            "Epoch 44/60\n",
            "20/20 [==============================] - 4s 184ms/step - loss: 0.5395 - accuracy: 0.7937 - val_loss: 0.5293 - val_accuracy: 0.8000\n",
            "Epoch 45/60\n",
            "20/20 [==============================] - 3s 164ms/step - loss: 0.5192 - accuracy: 0.7873 - val_loss: 0.5594 - val_accuracy: 0.7630\n",
            "Epoch 46/60\n",
            "20/20 [==============================] - 3s 164ms/step - loss: 0.5009 - accuracy: 0.7984 - val_loss: 0.6487 - val_accuracy: 0.7704\n",
            "Epoch 47/60\n",
            "20/20 [==============================] - 3s 166ms/step - loss: 0.5671 - accuracy: 0.7635 - val_loss: 0.6195 - val_accuracy: 0.7630\n",
            "Epoch 48/60\n",
            "20/20 [==============================] - 3s 164ms/step - loss: 0.4996 - accuracy: 0.8143 - val_loss: 0.5058 - val_accuracy: 0.7926\n",
            "Epoch 49/60\n",
            "20/20 [==============================] - 3s 164ms/step - loss: 0.5289 - accuracy: 0.7778 - val_loss: 0.5542 - val_accuracy: 0.8000\n",
            "Epoch 50/60\n",
            "20/20 [==============================] - 3s 165ms/step - loss: 0.4779 - accuracy: 0.8143 - val_loss: 0.4558 - val_accuracy: 0.8296\n",
            "Epoch 51/60\n",
            "20/20 [==============================] - 3s 168ms/step - loss: 0.5063 - accuracy: 0.8079 - val_loss: 0.7293 - val_accuracy: 0.7704\n",
            "Epoch 52/60\n",
            "20/20 [==============================] - 3s 164ms/step - loss: 0.4837 - accuracy: 0.8048 - val_loss: 0.4579 - val_accuracy: 0.8074\n",
            "Epoch 53/60\n",
            "20/20 [==============================] - 3s 167ms/step - loss: 0.4807 - accuracy: 0.8048 - val_loss: 0.4927 - val_accuracy: 0.8148\n",
            "Epoch 54/60\n",
            "20/20 [==============================] - 3s 164ms/step - loss: 0.4945 - accuracy: 0.8190 - val_loss: 0.4907 - val_accuracy: 0.8148\n",
            "Epoch 55/60\n",
            "20/20 [==============================] - 3s 165ms/step - loss: 0.4549 - accuracy: 0.8222 - val_loss: 0.4378 - val_accuracy: 0.8222\n",
            "Epoch 56/60\n",
            "20/20 [==============================] - 3s 164ms/step - loss: 0.4651 - accuracy: 0.8095 - val_loss: 0.4517 - val_accuracy: 0.8148\n",
            "Epoch 57/60\n",
            "20/20 [==============================] - 3s 166ms/step - loss: 0.4768 - accuracy: 0.8333 - val_loss: 0.5468 - val_accuracy: 0.8074\n",
            "Epoch 58/60\n",
            "20/20 [==============================] - 3s 163ms/step - loss: 0.4821 - accuracy: 0.8127 - val_loss: 0.4778 - val_accuracy: 0.8148\n",
            "Epoch 59/60\n",
            "20/20 [==============================] - 3s 165ms/step - loss: 0.4549 - accuracy: 0.8143 - val_loss: 0.5709 - val_accuracy: 0.7556\n",
            "Epoch 60/60\n",
            "20/20 [==============================] - 3s 169ms/step - loss: 0.4524 - accuracy: 0.8333 - val_loss: 0.4331 - val_accuracy: 0.8370\n"
          ]
        }
      ]
    },
    {
      "cell_type": "code",
      "source": [
        "y_prob = model.predict(test_generator)\n",
        "y_pred= np.argmax(y_prob,axis=1)\n",
        "y_true = test_generator.classes\n",
        "\n",
        "#Plotting the confusion matrix\n",
        "from sklearn.metrics import confusion_matrix\n",
        "\n",
        "print(classification_report(y_true,y_pred))\n",
        "\n",
        "print(confusion_matrix(y_true, y_pred))"
      ],
      "metadata": {
        "colab": {
          "base_uri": "https://localhost:8080/"
        },
        "id": "AQZddqQnQdOM",
        "outputId": "fb0478ee-7cd5-40ae-a8dc-e981f8c568ea"
      },
      "execution_count": 18,
      "outputs": [
        {
          "output_type": "stream",
          "name": "stdout",
          "text": [
            "              precision    recall  f1-score   support\n",
            "\n",
            "           0       0.24      0.21      0.23        38\n",
            "           1       0.35      0.29      0.32        48\n",
            "           2       0.39      0.49      0.43        49\n",
            "\n",
            "    accuracy                           0.34       135\n",
            "   macro avg       0.33      0.33      0.33       135\n",
            "weighted avg       0.33      0.34      0.33       135\n",
            "\n",
            "[[ 8 11 19]\n",
            " [15 14 19]\n",
            " [10 15 24]]\n"
          ]
        }
      ]
    },
    {
      "cell_type": "markdown",
      "source": [
        "Com transfer learning"
      ],
      "metadata": {
        "id": "HldRLOcgc-rL"
      }
    },
    {
      "cell_type": "code",
      "source": [
        "#from tensorflow.keras.applications.inception_v3 import InceptionV3\n",
        "from tensorflow.keras.applications.resnet50 import ResNet50\n",
        "\n",
        "#pre_trained_model = InceptionV3(input_shape=(224,224,3),include_top=False,weights='imagenet')\n",
        "pre_trained_model = ResNet50(input_shape=(224,224,3),include_top=False,pooling ='avg',weights='imagenet', classes=3)\n",
        "\n",
        "for layer in pre_trained_model.layers:\n",
        "  layer.trainable = False"
      ],
      "metadata": {
        "id": "NzYV_xPZdAcT"
      },
      "execution_count": 20,
      "outputs": []
    },
    {
      "cell_type": "markdown",
      "source": [
        ""
      ],
      "metadata": {
        "id": "2N0QfPJ3ecqU"
      }
    },
    {
      "cell_type": "code",
      "source": [
        "model_resnet = Sequential()\n",
        "\n",
        "model_resnet.add(pre_trained_model)\n",
        "model_resnet.add(BatchNormalization())\n",
        "\n",
        "model_resnet.add(Dense(3,activation=\"softmax\"))"
      ],
      "metadata": {
        "id": "HtAGRPtyecv1"
      },
      "execution_count": 22,
      "outputs": []
    },
    {
      "cell_type": "code",
      "source": [
        "sgd2 = SGD(lr = 0.01)\n",
        "\n",
        "model_resnet.compile(optimizer = sgd2, \n",
        "              loss = 'categorical_crossentropy', \n",
        "              metrics = ['accuracy'])\n",
        "\n",
        "history_fine = model_resnet.fit(train_generator,\n",
        "                         epochs=6,\n",
        "                         batch_size=16,\n",
        "                         validation_data=validation_generator,\n",
        "                         callbacks=[early_stopping]\n",
        "                         )"
      ],
      "metadata": {
        "colab": {
          "base_uri": "https://localhost:8080/"
        },
        "id": "nCKzreTlen4V",
        "outputId": "caf4b8b5-a56b-4e78-b6e9-47548ff1151d"
      },
      "execution_count": 24,
      "outputs": [
        {
          "output_type": "stream",
          "name": "stdout",
          "text": [
            "Epoch 1/6\n"
          ]
        },
        {
          "output_type": "stream",
          "name": "stderr",
          "text": [
            "/usr/local/lib/python3.7/dist-packages/keras/optimizer_v2/gradient_descent.py:102: UserWarning: The `lr` argument is deprecated, use `learning_rate` instead.\n",
            "  super(SGD, self).__init__(name, **kwargs)\n"
          ]
        },
        {
          "output_type": "stream",
          "name": "stdout",
          "text": [
            "20/20 [==============================] - 10s 296ms/step - loss: 0.6138 - accuracy: 0.7571 - val_loss: 1.1590 - val_accuracy: 0.3852\n",
            "Epoch 2/6\n",
            "20/20 [==============================] - 4s 189ms/step - loss: 0.4294 - accuracy: 0.8524 - val_loss: 1.1164 - val_accuracy: 0.5111\n",
            "Epoch 3/6\n",
            "20/20 [==============================] - 4s 192ms/step - loss: 0.3938 - accuracy: 0.8730 - val_loss: 1.0677 - val_accuracy: 0.5556\n",
            "Epoch 4/6\n",
            "20/20 [==============================] - 4s 192ms/step - loss: 0.3855 - accuracy: 0.8635 - val_loss: 1.0132 - val_accuracy: 0.6000\n",
            "Epoch 5/6\n",
            "20/20 [==============================] - 5s 245ms/step - loss: 0.3777 - accuracy: 0.8667 - val_loss: 0.9564 - val_accuracy: 0.6000\n",
            "Epoch 6/6\n",
            "20/20 [==============================] - 5s 256ms/step - loss: 0.3466 - accuracy: 0.8810 - val_loss: 0.8888 - val_accuracy: 0.6000\n"
          ]
        }
      ]
    },
    {
      "cell_type": "code",
      "source": [
        "y_prob = model_resnet.predict(test_generator)\n",
        "y_pred= np.argmax(y_prob,axis=1)\n",
        "y_true = test_generator.classes\n",
        "\n",
        "#Plotting the confusion matrix\n",
        "from sklearn.metrics import confusion_matrix\n",
        "\n",
        "print(classification_report(y_true,y_pred))\n",
        "\n",
        "print(confusion_matrix(y_true, y_pred))"
      ],
      "metadata": {
        "colab": {
          "base_uri": "https://localhost:8080/"
        },
        "id": "HCo4qEn5fCAR",
        "outputId": "d720f554-6849-47a3-a5ef-6ec0520f6e8f"
      },
      "execution_count": 25,
      "outputs": [
        {
          "output_type": "stream",
          "name": "stdout",
          "text": [
            "              precision    recall  f1-score   support\n",
            "\n",
            "           0       0.33      0.34      0.34        38\n",
            "           1       0.00      0.00      0.00        48\n",
            "           2       0.36      0.71      0.48        49\n",
            "\n",
            "    accuracy                           0.36       135\n",
            "   macro avg       0.23      0.35      0.27       135\n",
            "weighted avg       0.23      0.36      0.27       135\n",
            "\n",
            "[[13  0 25]\n",
            " [12  0 36]\n",
            " [14  0 35]]\n"
          ]
        },
        {
          "output_type": "stream",
          "name": "stderr",
          "text": [
            "/usr/local/lib/python3.7/dist-packages/sklearn/metrics/_classification.py:1318: UndefinedMetricWarning: Precision and F-score are ill-defined and being set to 0.0 in labels with no predicted samples. Use `zero_division` parameter to control this behavior.\n",
            "  _warn_prf(average, modifier, msg_start, len(result))\n",
            "/usr/local/lib/python3.7/dist-packages/sklearn/metrics/_classification.py:1318: UndefinedMetricWarning: Precision and F-score are ill-defined and being set to 0.0 in labels with no predicted samples. Use `zero_division` parameter to control this behavior.\n",
            "  _warn_prf(average, modifier, msg_start, len(result))\n",
            "/usr/local/lib/python3.7/dist-packages/sklearn/metrics/_classification.py:1318: UndefinedMetricWarning: Precision and F-score are ill-defined and being set to 0.0 in labels with no predicted samples. Use `zero_division` parameter to control this behavior.\n",
            "  _warn_prf(average, modifier, msg_start, len(result))\n"
          ]
        }
      ]
    }
  ]
}