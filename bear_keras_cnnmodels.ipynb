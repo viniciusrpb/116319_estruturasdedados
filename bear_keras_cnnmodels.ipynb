{
  "nbformat": 4,
  "nbformat_minor": 0,
  "metadata": {
    "kernelspec": {
      "display_name": "Python 3",
      "language": "python",
      "name": "python3"
    },
    "language_info": {
      "codemirror_mode": {
        "name": "ipython",
        "version": 3
      },
      "file_extension": ".py",
      "mimetype": "text/x-python",
      "name": "python",
      "nbconvert_exporter": "python",
      "pygments_lexer": "ipython3",
      "version": "3.6.10"
    },
    "colab": {
      "name": "bear_keras_cnnmodels.ipynb",
      "provenance": [],
      "collapsed_sections": [],
      "include_colab_link": true
    },
    "accelerator": "GPU"
  },
  "cells": [
    {
      "cell_type": "markdown",
      "metadata": {
        "id": "view-in-github",
        "colab_type": "text"
      },
      "source": [
        "<a href=\"https://colab.research.google.com/github/viniciusrpb/116319_estruturasdedados/blob/main/bear_keras_cnnmodels.ipynb\" target=\"_parent\"><img src=\"https://colab.research.google.com/assets/colab-badge.svg\" alt=\"Open In Colab\"/></a>"
      ]
    },
    {
      "cell_type": "code",
      "metadata": {
        "id": "Lf68PvvD_GXN"
      },
      "source": [
        "#from google.colab import drive\n",
        "#drive.mount('/content/drive')"
      ],
      "execution_count": 1,
      "outputs": []
    },
    {
      "cell_type": "markdown",
      "source": [
        "# New Section"
      ],
      "metadata": {
        "id": "uSEdHGn26Hzg"
      }
    },
    {
      "cell_type": "code",
      "metadata": {
        "id": "6o0SMmf8z9qD"
      },
      "source": [
        "#!pip install tensorflow_addons"
      ],
      "execution_count": 2,
      "outputs": []
    },
    {
      "cell_type": "code",
      "metadata": {
        "id": "voJBV5X_g0B6"
      },
      "source": [
        "#!cp -r \"/content/drive/My Drive/bears/bears_2/bears_validation\" \"bears_validation_2\"\n",
        "#!cp -r \"/content/drive/My Drive/bears/bears_2/bears_train\" \"bears_train_2\""
      ],
      "execution_count": 3,
      "outputs": []
    },
    {
      "cell_type": "code",
      "metadata": {
        "id": "W384maMHy7Yc"
      },
      "source": [
        "import tensorflow as tf\n",
        "from tensorflow.keras.optimizers import RMSprop\n",
        "from tensorflow.keras.preprocessing.image import ImageDataGenerator\n",
        "from keras.layers import Dense,GlobalAveragePooling2D ,MaxPooling2D,Activation,Flatten,Conv2D,BatchNormalization,Dropout\n",
        "from tensorflow.keras import layers\n",
        "from tensorflow.keras import Model\n",
        "from keras.models import Sequential\n",
        "from tensorflow.keras.optimizers import SGD, Adam\n",
        "import matplotlib.pyplot as plt\n",
        "from sklearn.metrics import classification_report\n",
        "from sklearn.metrics import confusion_matrix\n",
        "import numpy as np\n",
        "import tensorflow_addons as tfa"
      ],
      "execution_count": 4,
      "outputs": []
    },
    {
      "cell_type": "code",
      "metadata": {
        "id": "ThJjNtJBi900"
      },
      "source": [
        "path_train = 'bears_train_2'\n",
        "path_validation = 'bears_validation_2'\n",
        "path_test = 'bears_validation_2'"
      ],
      "execution_count": 5,
      "outputs": []
    },
    {
      "cell_type": "markdown",
      "metadata": {
        "id": "3-0nc-LxNSF2"
      },
      "source": [
        "# Pretrained GoogLeNet model using ImageNet\n"
      ]
    },
    {
      "cell_type": "code",
      "metadata": {
        "id": "yWx2apyg_GXQ"
      },
      "source": [
        "#from tf.keras.applications.MobileNetV2 import MobileNetV2\n",
        "\n",
        "pre_trained_model = tf.keras.applications.MobileNetV2(input_shape=(224,224,3),include_top=True)#,include_top=False,weights='imagenet')\n",
        "\n",
        "#for layer in pre_trained_model.layers:\n",
        "#  layer.trainable = False"
      ],
      "execution_count": 6,
      "outputs": []
    },
    {
      "cell_type": "markdown",
      "metadata": {
        "id": "Q8ZNyeF4v9FL"
      },
      "source": [
        "Hyperparameters"
      ]
    },
    {
      "cell_type": "code",
      "metadata": {
        "id": "js1kaBFGv9MD"
      },
      "source": [
        "batch_size = 16\n",
        "epochs=30"
      ],
      "execution_count": 7,
      "outputs": []
    },
    {
      "cell_type": "markdown",
      "metadata": {
        "id": "sHw1dYWP_GXV"
      },
      "source": [
        "### Data augmentation"
      ]
    },
    {
      "cell_type": "code",
      "metadata": {
        "id": "qh3pPvvDzvEq"
      },
      "source": [
        "train_datagen = ImageDataGenerator(rescale=1./255)\n",
        "\n",
        "validation_datagen = ImageDataGenerator(rescale=1./255)\n",
        "\n",
        "test_datagen = ImageDataGenerator(rescale=1./255)"
      ],
      "execution_count": 8,
      "outputs": []
    },
    {
      "cell_type": "markdown",
      "metadata": {
        "id": "mfA7Ta99wW_a"
      },
      "source": [
        "Read the images"
      ]
    },
    {
      "cell_type": "code",
      "metadata": {
        "colab": {
          "base_uri": "https://localhost:8080/"
        },
        "id": "c5Fpl71WwXGa",
        "outputId": "7330bc03-feb5-4c12-d31e-023c93bd960d"
      },
      "source": [
        "# Flow training images in batches of 20 using train_datagen generator\n",
        "train_generator = train_datagen.flow_from_directory(path_train,\n",
        "                                                    batch_size = batch_size,\n",
        "                                                    class_mode = 'categorical', \n",
        "                                                    target_size = (224, 224))     \n",
        "\n",
        "# Flow validation images in batches of 20 using test_datagen generator\n",
        "validation_generator =  validation_datagen.flow_from_directory( path_validation,\n",
        "                                                          batch_size  = batch_size,\n",
        "                                                          class_mode  = 'categorical', \n",
        "                                                          target_size = (224, 224))\n",
        "\n",
        "test_generator =  test_datagen.flow_from_directory( path_test,\n",
        "                                                          batch_size  = batch_size,\n",
        "                                                          class_mode  = 'categorical', \n",
        "                                                          target_size = (224, 224))"
      ],
      "execution_count": 9,
      "outputs": [
        {
          "output_type": "stream",
          "name": "stdout",
          "text": [
            "Found 232 images belonging to 2 classes.\n",
            "Found 52 images belonging to 2 classes.\n",
            "Found 52 images belonging to 2 classes.\n"
          ]
        }
      ]
    },
    {
      "cell_type": "markdown",
      "metadata": {
        "id": "JV5TTVwGtY1p"
      },
      "source": [
        "Hyper-parameters"
      ]
    },
    {
      "cell_type": "code",
      "metadata": {
        "id": "fcNysNaZtY74"
      },
      "source": [
        "number_of_neurons = 30\n",
        "number_of_classes = validation_generator.class_indices"
      ],
      "execution_count": 10,
      "outputs": []
    },
    {
      "cell_type": "markdown",
      "metadata": {
        "id": "Qh_m54z-5VW8"
      },
      "source": [
        "Lets see some samples"
      ]
    },
    {
      "cell_type": "code",
      "metadata": {
        "id": "mDvSxorK_GXV"
      },
      "source": [
        "model = Sequential()\n",
        "\n",
        "model.add(pre_trained_model)\n",
        "#model.add(GlobalAveragePooling2D())\n",
        "#model.add(Flatten())\n",
        "\n",
        "model.add(Dense(number_of_neurons))\n",
        "model.add(Activation(\"relu\"))\n",
        "model.add(Dropout(0.2))\n",
        "model.add(Dense(2))\n",
        "\n",
        "model.add(Activation(\"sigmoid\"))"
      ],
      "execution_count": 11,
      "outputs": []
    },
    {
      "cell_type": "code",
      "metadata": {
        "id": "sqeVzAQhsj6i"
      },
      "source": [
        "#sgd = SGD(learning_rate=0.0001,decay=1e-6, momentum=0.9, nesterov=True)\n",
        "\n",
        "adam = Adam(learning_rate=0.0001)#,decay=1e-6)\n",
        "\n",
        "#f1_score = tfa.metrics.F1Score(num_classes=2, average='micro',threshold=0.5)\n",
        "\n",
        "model.compile(optimizer = adam, \n",
        "              loss = 'categorical_crossentropy', \n",
        "              metrics = 'accuracy')\n",
        "            #metrics = ['accuracy',f1_score])\n",
        "\n",
        "#model.compile(optimizer = tf.keras.optimizers.Adam(learning_rate=0.000001,decay=0.01), \n",
        "#              loss = 'categorical_crossentropy', \n",
        "#              metrics = 'accuracy')\n",
        "            #metrics = ['accuracy',f1_score])"
      ],
      "execution_count": 12,
      "outputs": []
    },
    {
      "cell_type": "code",
      "metadata": {
        "id": "c9zT6oaF_GXX",
        "colab": {
          "base_uri": "https://localhost:8080/"
        },
        "outputId": "2f320409-fc4f-42a8-ccd6-d1dcae4d0ec8"
      },
      "source": [
        "history_fine = model.fit(train_generator,\n",
        "                         epochs=epochs,\n",
        "                         validation_data=validation_generator\n",
        "                         #initial_epoch=history.epoch[-1],\n",
        "                         )"
      ],
      "execution_count": 13,
      "outputs": [
        {
          "output_type": "stream",
          "name": "stdout",
          "text": [
            "Epoch 1/30\n",
            "15/15 [==============================] - 29s 896ms/step - loss: 0.6907 - accuracy: 0.7198 - val_loss: 0.6900 - val_accuracy: 0.4423\n",
            "Epoch 2/30\n",
            "15/15 [==============================] - 11s 717ms/step - loss: 0.6781 - accuracy: 0.9138 - val_loss: 0.6829 - val_accuracy: 0.8269\n",
            "Epoch 3/30\n",
            "15/15 [==============================] - 11s 709ms/step - loss: 0.6619 - accuracy: 0.9612 - val_loss: 0.6650 - val_accuracy: 0.9231\n",
            "Epoch 4/30\n",
            "15/15 [==============================] - 10s 696ms/step - loss: 0.6453 - accuracy: 0.9784 - val_loss: 0.6371 - val_accuracy: 0.9615\n",
            "Epoch 5/30\n",
            "15/15 [==============================] - 10s 679ms/step - loss: 0.6337 - accuracy: 0.9741 - val_loss: 0.6290 - val_accuracy: 0.9615\n",
            "Epoch 6/30\n",
            "15/15 [==============================] - 10s 678ms/step - loss: 0.6209 - accuracy: 0.9871 - val_loss: 0.6268 - val_accuracy: 0.9231\n",
            "Epoch 7/30\n",
            "15/15 [==============================] - 10s 665ms/step - loss: 0.6053 - accuracy: 0.9957 - val_loss: 0.6349 - val_accuracy: 0.8654\n",
            "Epoch 8/30\n",
            "15/15 [==============================] - 10s 701ms/step - loss: 0.5963 - accuracy: 0.9957 - val_loss: 0.6171 - val_accuracy: 0.9038\n",
            "Epoch 9/30\n",
            "15/15 [==============================] - 12s 789ms/step - loss: 0.5887 - accuracy: 0.9914 - val_loss: 0.6210 - val_accuracy: 0.8654\n",
            "Epoch 10/30\n",
            "15/15 [==============================] - 11s 712ms/step - loss: 0.5850 - accuracy: 0.9828 - val_loss: 0.5960 - val_accuracy: 0.9231\n",
            "Epoch 11/30\n",
            "15/15 [==============================] - 11s 713ms/step - loss: 0.5751 - accuracy: 0.9914 - val_loss: 0.5755 - val_accuracy: 0.9615\n",
            "Epoch 12/30\n",
            "15/15 [==============================] - 11s 682ms/step - loss: 0.5675 - accuracy: 0.9871 - val_loss: 0.5639 - val_accuracy: 0.9808\n",
            "Epoch 13/30\n",
            "15/15 [==============================] - 11s 695ms/step - loss: 0.5568 - accuracy: 0.9957 - val_loss: 0.5657 - val_accuracy: 0.9615\n",
            "Epoch 14/30\n",
            "15/15 [==============================] - 11s 699ms/step - loss: 0.5550 - accuracy: 0.9698 - val_loss: 0.5581 - val_accuracy: 0.9615\n",
            "Epoch 15/30\n",
            "15/15 [==============================] - 10s 717ms/step - loss: 0.5482 - accuracy: 0.9828 - val_loss: 0.5469 - val_accuracy: 0.9615\n",
            "Epoch 16/30\n",
            "15/15 [==============================] - 11s 713ms/step - loss: 0.5355 - accuracy: 0.9914 - val_loss: 0.5434 - val_accuracy: 0.9615\n",
            "Epoch 17/30\n",
            "15/15 [==============================] - 11s 703ms/step - loss: 0.5305 - accuracy: 0.9914 - val_loss: 0.5297 - val_accuracy: 0.9808\n",
            "Epoch 18/30\n",
            "15/15 [==============================] - 11s 715ms/step - loss: 0.5179 - accuracy: 0.9914 - val_loss: 0.5235 - val_accuracy: 0.9808\n",
            "Epoch 19/30\n",
            "15/15 [==============================] - 11s 720ms/step - loss: 0.5167 - accuracy: 0.9914 - val_loss: 0.5122 - val_accuracy: 1.0000\n",
            "Epoch 20/30\n",
            "15/15 [==============================] - 11s 697ms/step - loss: 0.5101 - accuracy: 0.9871 - val_loss: 0.5155 - val_accuracy: 0.9615\n",
            "Epoch 21/30\n",
            "15/15 [==============================] - 11s 721ms/step - loss: 0.5030 - accuracy: 0.9828 - val_loss: 0.5080 - val_accuracy: 0.9615\n",
            "Epoch 22/30\n",
            "15/15 [==============================] - 11s 718ms/step - loss: 0.4982 - accuracy: 0.9828 - val_loss: 0.5046 - val_accuracy: 0.9615\n",
            "Epoch 23/30\n",
            "15/15 [==============================] - 11s 717ms/step - loss: 0.4925 - accuracy: 0.9871 - val_loss: 0.5056 - val_accuracy: 0.9423\n",
            "Epoch 24/30\n",
            "15/15 [==============================] - 11s 699ms/step - loss: 0.4911 - accuracy: 0.9741 - val_loss: 0.4969 - val_accuracy: 0.9423\n",
            "Epoch 25/30\n",
            "15/15 [==============================] - 10s 687ms/step - loss: 0.4750 - accuracy: 0.9914 - val_loss: 0.5011 - val_accuracy: 0.9423\n",
            "Epoch 26/30\n",
            "15/15 [==============================] - 11s 665ms/step - loss: 0.4726 - accuracy: 0.9957 - val_loss: 0.4961 - val_accuracy: 0.9423\n",
            "Epoch 27/30\n",
            "15/15 [==============================] - 11s 682ms/step - loss: 0.4672 - accuracy: 0.9957 - val_loss: 0.4919 - val_accuracy: 0.9423\n",
            "Epoch 28/30\n",
            "15/15 [==============================] - 11s 704ms/step - loss: 0.4565 - accuracy: 0.9957 - val_loss: 0.4774 - val_accuracy: 0.9615\n",
            "Epoch 29/30\n",
            "15/15 [==============================] - 10s 683ms/step - loss: 0.4500 - accuracy: 0.9871 - val_loss: 0.4780 - val_accuracy: 0.9423\n",
            "Epoch 30/30\n",
            "15/15 [==============================] - 11s 664ms/step - loss: 0.4558 - accuracy: 0.9828 - val_loss: 0.4714 - val_accuracy: 0.9423\n"
          ]
        }
      ]
    },
    {
      "cell_type": "code",
      "metadata": {
        "id": "1WFZwVEg_GXb",
        "colab": {
          "base_uri": "https://localhost:8080/"
        },
        "outputId": "b37e1735-dce9-47c6-e723-a52a9a928cfc"
      },
      "source": [
        "#f1 = history_fine.history['f1_score']\n",
        "#val_f1 = history_fine.history['val_f1_score']\n",
        "\n",
        "#plt.figure(figsize=(8, 8))\n",
        "#plt.subplot(2, 1, 1)\n",
        "#plt.plot(f1, label='Training F1-Score')\n",
        "#plt.plot(val_f1, label='Validation F1-Score')\n",
        "#plt.legend(loc='lower right')\n",
        "#plt.ylabel('F1-Score')\n",
        "#plt.ylim([min(plt.ylim()),1])\n",
        "#plt.title('Training and Validation F1-Score')\n",
        "score = model.evaluate(test_generator) \n",
        "print(f'Test loss: {score[0]} / Test accuracy: {score[1]}')"
      ],
      "execution_count": 31,
      "outputs": [
        {
          "output_type": "stream",
          "name": "stdout",
          "text": [
            "4/4 [==============================] - 2s 539ms/step - loss: 0.4714 - accuracy: 0.9423\n",
            "Test loss: 0.4714241027832031 / Test accuracy: 0.942307710647583\n",
            "Test loss: 0.4714241027832031\n",
            "Test accuracy: 0.942307710647583\n"
          ]
        }
      ]
    },
    {
      "cell_type": "code",
      "source": [
        "f1 = history_fine.history['accuracy']\n",
        "val_f1 = history_fine.history['val_accuracy']\n",
        "\n",
        "plt.figure(figsize=(8, 8))\n",
        "plt.subplot(2, 1, 1)\n",
        "plt.plot(f1, label='Training F1-Score')\n",
        "plt.plot(val_f1, label='Validation F1-Score')\n",
        "plt.legend(loc='lower right')\n",
        "plt.ylabel('F1-Score')\n",
        "plt.ylim([min(plt.ylim()),1])\n",
        "plt.title('Training and Validation F1-Score')\n"
      ],
      "metadata": {
        "colab": {
          "base_uri": "https://localhost:8080/",
          "height": 279
        },
        "id": "fOSIrhK5g1ZF",
        "outputId": "b5245a9e-4973-4360-9625-e9b59a3da815"
      },
      "execution_count": 15,
      "outputs": [
        {
          "output_type": "execute_result",
          "data": {
            "text/plain": [
              "Text(0.5, 1.0, 'Training and Validation F1-Score')"
            ]
          },
          "metadata": {},
          "execution_count": 15
        },
        {
          "output_type": "display_data",
          "data": {
            "image/png": "[encoded data removed]",
            "text/plain": [
              "<Figure size 576x576 with 1 Axes>"
            ]
          },
          "metadata": {
            "needs_background": "light"
          }
        }
      ]
    },
    {
      "cell_type": "code",
      "metadata": {
        "id": "Q8ENVvZSrKrS",
        "colab": {
          "base_uri": "https://localhost:8080/",
          "height": 295
        },
        "outputId": "1894de4c-0311-42e0-d53d-3843a3019c9a"
      },
      "source": [
        "loss = history_fine.history['loss']\n",
        "val_loss = history_fine.history['val_loss']\n",
        "\n",
        "plt.plot(history_fine.history['loss'])\n",
        "plt.plot(history_fine.history['val_loss'])\n",
        "plt.title('model loss')\n",
        "plt.ylabel('loss')\n",
        "plt.xlabel('epoch')\n",
        "plt.legend(['training set', 'validation set'], loc='upper left')\n",
        "plt.show()"
      ],
      "execution_count": 16,
      "outputs": [
        {
          "output_type": "display_data",
          "data": {
            "image/png": "[encoded data removed]",
            "text/plain": [
              "<Figure size 432x288 with 1 Axes>"
            ]
          },
          "metadata": {
            "needs_background": "light"
          }
        }
      ]
    },
    {
      "cell_type": "markdown",
      "metadata": {
        "id": "zFraRq9i9FNA"
      },
      "source": [
        ""
      ]
    },
    {
      "cell_type": "code",
      "metadata": {
        "id": "RXFG_Bn19FTX",
        "colab": {
          "base_uri": "https://localhost:8080/"
        },
        "outputId": "d2e3ca06-2155-405d-98f1-66918067208c"
      },
      "source": [
        "y_prob = model.predict(test_generator,batch_size=batch_size)\n",
        "y_pred = np.argmax(y_prob,axis=1)\n",
        "\n",
        "print(classification_report(y_pred.astype('int32'),test_generator.classes))"
      ],
      "execution_count": 32,
      "outputs": [
        {
          "output_type": "stream",
          "name": "stdout",
          "text": [
            "              precision    recall  f1-score   support\n",
            "\n",
            "           0       0.40      0.42      0.41        24\n",
            "           1       0.48      0.46      0.47        28\n",
            "\n",
            "    accuracy                           0.44        52\n",
            "   macro avg       0.44      0.44      0.44        52\n",
            "weighted avg       0.44      0.44      0.44        52\n",
            "\n"
          ]
        }
      ]
    },
    {
      "cell_type": "code",
      "source": [
        "test_generator.classes"
      ],
      "metadata": {
        "colab": {
          "base_uri": "https://localhost:8080/"
        },
        "id": "cbxMbryxo31y",
        "outputId": "91e6f4b6-5fc2-4b5a-8d63-b24ad9f192f8"
      },
      "execution_count": 27,
      "outputs": [
        {
          "output_type": "execute_result",
          "data": {
            "text/plain": [
              "array([0, 0, 0, 0, 0, 0, 0, 0, 0, 0, 0, 0, 0, 0, 0, 0, 0, 0, 0, 0, 0, 0,\n",
              "       0, 0, 0, 1, 1, 1, 1, 1, 1, 1, 1, 1, 1, 1, 1, 1, 1, 1, 1, 1, 1, 1,\n",
              "       1, 1, 1, 1, 1, 1, 1, 1], dtype=int32)"
            ]
          },
          "metadata": {},
          "execution_count": 27
        }
      ]
    },
    {
      "cell_type": "code",
      "source": [
        "y_pred.astype('int32')"
      ],
      "metadata": {
        "colab": {
          "base_uri": "https://localhost:8080/"
        },
        "id": "_C6CCDiayO0g",
        "outputId": "e64b1185-ac1f-47a7-c5a7-e27625c78a9b"
      },
      "execution_count": 28,
      "outputs": [
        {
          "output_type": "execute_result",
          "data": {
            "text/plain": [
              "array([0, 0, 1, 1, 0, 1, 1, 0, 0, 1, 1, 1, 0, 1, 0, 1, 0, 1, 1, 1, 0, 0,\n",
              "       1, 1, 1, 1, 1, 0, 0, 0, 0, 1, 0, 1, 0, 0, 1, 1, 0, 1, 0, 0, 0, 0,\n",
              "       1, 1, 1, 1, 1, 0, 1, 0], dtype=int32)"
            ]
          },
          "metadata": {},
          "execution_count": 28
        }
      ]
    },
    {
      "cell_type": "code",
      "source": [
        "import plotly.figure_factory as ff\n",
        "\n",
        "y_true = test_generator.classes\n",
        "\n",
        "z = confusion_matrix(y_true, y_pred.astype('int32'))\n",
        "\n",
        "x = list(test_generator.class_indices.keys())\n",
        "\n",
        "y = list(test_generator.class_indices.keys())\n"
      ],
      "metadata": {
        "id": "5NOZQOgN_DHU"
      },
      "execution_count": 29,
      "outputs": []
    },
    {
      "cell_type": "code",
      "metadata": {
        "id": "EHxUyHkC1URt",
        "colab": {
          "base_uri": "https://localhost:8080/",
          "height": 542
        },
        "outputId": "d812ad59-aa5b-4964-c81c-6d849a595d07"
      },
      "source": [
        "# change each element of z to type string for annotations\n",
        "z_text = [[str(y) for y in x] for x in z]\n",
        "\n",
        "# set up figure \n",
        "fig = ff.create_annotated_heatmap(z, x=x, y=y, annotation_text=z_text, colorscale='Viridis')\n",
        "\n",
        "# add title\n",
        "fig.update_layout(title_text='<i><b>Confusion matrix</b></i>',\n",
        "                  #xaxis = dict(title='x'),\n",
        "                  #yaxis = dict(title='x')\n",
        "                 )\n",
        "\n",
        "# add custom xaxis title\n",
        "fig.add_annotation(dict(font=dict(color=\"black\",size=14),\n",
        "                        x=0.5,\n",
        "                        y=-0.15,\n",
        "                        showarrow=False,\n",
        "                        text=\"Predicted value\",\n",
        "                        xref=\"paper\",\n",
        "                        yref=\"paper\"))\n",
        "\n",
        "# add custom yaxis title\n",
        "fig.add_annotation(dict(font=dict(color=\"black\",size=14),\n",
        "                        x=-0.35,\n",
        "                        y=0.5,\n",
        "                        showarrow=False,\n",
        "                        text=\"Real value\",\n",
        "                        textangle=-90,\n",
        "                        xref=\"paper\",\n",
        "                        yref=\"paper\"))\n",
        "\n",
        "# adjust margins to make room for yaxis title\n",
        "fig.update_layout(margin=dict(t=50, l=200))\n",
        "\n",
        "# add colorbar\n",
        "fig['data'][0]['showscale'] = True\n",
        "fig.show()"
      ],
      "execution_count": 30,
      "outputs": [
        {
          "output_type": "display_data",
          "data": {
            "text/html": [
              "<html>\n",
              "<head><meta charset=\"utf-8\" /></head>\n",
              "<body>\n",
              "    <div>            <script src=\"https://cdnjs.cloudflare.com/ajax/libs/mathjax/2.7.5/MathJax.js?config=TeX-AMS-MML_SVG\"></script><script type=\"text/javascript\">if (window.MathJax) {MathJax.Hub.Config({SVG: {font: \"STIX-Web\"}});}</script>                <script type=\"text/javascript\">window.PlotlyConfig = {MathJaxConfig: 'local'};</script>\n",
              "        <script src=\"https://cdn.plot.ly/plotly-2.8.3.min.js\"></script>                <div id=\"3b4e1acb-105a-4fcc-8128-9c707f5d878d\" class=\"plotly-graph-div\" style=\"height:525px; width:100%;\"></div>            <script type=\"text/javascript\">                                    window.PLOTLYENV=window.PLOTLYENV || {};                                    if (document.getElementById(\"3b4e1acb-105a-4fcc-8128-9c707f5d878d\")) {                    Plotly.newPlot(                        \"3b4e1acb-105a-4fcc-8128-9c707f5d878d\",                        [{\"colorscale\":[[0.0,\"#440154\"],[0.1111111111111111,\"#482878\"],[0.2222222222222222,\"#3e4989\"],[0.3333333333333333,\"#31688e\"],[0.4444444444444444,\"#26828e\"],[0.5555555555555556,\"#1f9e89\"],[0.6666666666666666,\"#35b779\"],[0.7777777777777778,\"#6ece58\"],[0.8888888888888888,\"#b5de2b\"],[1.0,\"#fde725\"]],\"reversescale\":false,\"showscale\":true,\"x\":[\"black\",\"grizzly\"],\"y\":[\"black\",\"grizzly\"],\"z\":[[10,15],[14,13]],\"type\":\"heatmap\"}],                        {\"annotations\":[{\"font\":{\"color\":\"#FFFFFF\"},\"showarrow\":false,\"text\":\"10\",\"x\":\"black\",\"xref\":\"x\",\"y\":\"black\",\"yref\":\"y\"},{\"font\":{\"color\":\"#000000\"},\"showarrow\":false,\"text\":\"15\",\"x\":\"grizzly\",\"xref\":\"x\",\"y\":\"black\",\"yref\":\"y\"},{\"font\":{\"color\":\"#000000\"},\"showarrow\":false,\"text\":\"14\",\"x\":\"black\",\"xref\":\"x\",\"y\":\"grizzly\",\"yref\":\"y\"},{\"font\":{\"color\":\"#000000\"},\"showarrow\":false,\"text\":\"13\",\"x\":\"grizzly\",\"xref\":\"x\",\"y\":\"grizzly\",\"yref\":\"y\"},{\"font\":{\"color\":\"black\",\"size\":14},\"showarrow\":false,\"text\":\"Predicted value\",\"x\":0.5,\"xref\":\"paper\",\"y\":-0.15,\"yref\":\"paper\"},{\"font\":{\"color\":\"black\",\"size\":14},\"showarrow\":false,\"text\":\"Real value\",\"textangle\":-90,\"x\":-0.35,\"xref\":\"paper\",\"y\":0.5,\"yref\":\"paper\"}],\"xaxis\":{\"dtick\":1,\"gridcolor\":\"rgb(0, 0, 0)\",\"side\":\"top\",\"ticks\":\"\"},\"yaxis\":{\"dtick\":1,\"ticks\":\"\",\"ticksuffix\":\"  \"},\"template\":{\"data\":{\"bar\":[{\"error_x\":{\"color\":\"#2a3f5f\"},\"error_y\":{\"color\":\"#2a3f5f\"},\"marker\":{\"line\":{\"color\":\"#E5ECF6\",\"width\":0.5},\"pattern\":{\"fillmode\":\"overlay\",\"size\":10,\"solidity\":0.2}},\"type\":\"bar\"}],\"barpolar\":[{\"marker\":{\"line\":{\"color\":\"#E5ECF6\",\"width\":0.5},\"pattern\":{\"fillmode\":\"overlay\",\"size\":10,\"solidity\":0.2}},\"type\":\"barpolar\"}],\"carpet\":[{\"aaxis\":{\"endlinecolor\":\"#2a3f5f\",\"gridcolor\":\"white\",\"linecolor\":\"white\",\"minorgridcolor\":\"white\",\"startlinecolor\":\"#2a3f5f\"},\"baxis\":{\"endlinecolor\":\"#2a3f5f\",\"gridcolor\":\"white\",\"linecolor\":\"white\",\"minorgridcolor\":\"white\",\"startlinecolor\":\"#2a3f5f\"},\"type\":\"carpet\"}],\"choropleth\":[{\"colorbar\":{\"outlinewidth\":0,\"ticks\":\"\"},\"type\":\"choropleth\"}],\"contour\":[{\"colorbar\":{\"outlinewidth\":0,\"ticks\":\"\"},\"colorscale\":[[0.0,\"#0d0887\"],[0.1111111111111111,\"#46039f\"],[0.2222222222222222,\"#7201a8\"],[0.3333333333333333,\"#9c179e\"],[0.4444444444444444,\"#bd3786\"],[0.5555555555555556,\"#d8576b\"],[0.6666666666666666,\"#ed7953\"],[0.7777777777777778,\"#fb9f3a\"],[0.8888888888888888,\"#fdca26\"],[1.0,\"#f0f921\"]],\"type\":\"contour\"}],\"contourcarpet\":[{\"colorbar\":{\"outlinewidth\":0,\"ticks\":\"\"},\"type\":\"contourcarpet\"}],\"heatmap\":[{\"colorbar\":{\"outlinewidth\":0,\"ticks\":\"\"},\"colorscale\":[[0.0,\"#0d0887\"],[0.1111111111111111,\"#46039f\"],[0.2222222222222222,\"#7201a8\"],[0.3333333333333333,\"#9c179e\"],[0.4444444444444444,\"#bd3786\"],[0.5555555555555556,\"#d8576b\"],[0.6666666666666666,\"#ed7953\"],[0.7777777777777778,\"#fb9f3a\"],[0.8888888888888888,\"#fdca26\"],[1.0,\"#f0f921\"]],\"type\":\"heatmap\"}],\"heatmapgl\":[{\"colorbar\":{\"outlinewidth\":0,\"ticks\":\"\"},\"colorscale\":[[0.0,\"#0d0887\"],[0.1111111111111111,\"#46039f\"],[0.2222222222222222,\"#7201a8\"],[0.3333333333333333,\"#9c179e\"],[0.4444444444444444,\"#bd3786\"],[0.5555555555555556,\"#d8576b\"],[0.6666666666666666,\"#ed7953\"],[0.7777777777777778,\"#fb9f3a\"],[0.8888888888888888,\"#fdca26\"],[1.0,\"#f0f921\"]],\"type\":\"heatmapgl\"}],\"histogram\":[{\"marker\":{\"pattern\":{\"fillmode\":\"overlay\",\"size\":10,\"solidity\":0.2}},\"type\":\"histogram\"}],\"histogram2d\":[{\"colorbar\":{\"outlinewidth\":0,\"ticks\":\"\"},\"colorscale\":[[0.0,\"#0d0887\"],[0.1111111111111111,\"#46039f\"],[0.2222222222222222,\"#7201a8\"],[0.3333333333333333,\"#9c179e\"],[0.4444444444444444,\"#bd3786\"],[0.5555555555555556,\"#d8576b\"],[0.6666666666666666,\"#ed7953\"],[0.7777777777777778,\"#fb9f3a\"],[0.8888888888888888,\"#fdca26\"],[1.0,\"#f0f921\"]],\"type\":\"histogram2d\"}],\"histogram2dcontour\":[{\"colorbar\":{\"outlinewidth\":0,\"ticks\":\"\"},\"colorscale\":[[0.0,\"#0d0887\"],[0.1111111111111111,\"#46039f\"],[0.2222222222222222,\"#7201a8\"],[0.3333333333333333,\"#9c179e\"],[0.4444444444444444,\"#bd3786\"],[0.5555555555555556,\"#d8576b\"],[0.6666666666666666,\"#ed7953\"],[0.7777777777777778,\"#fb9f3a\"],[0.8888888888888888,\"#fdca26\"],[1.0,\"#f0f921\"]],\"type\":\"histogram2dcontour\"}],\"mesh3d\":[{\"colorbar\":{\"outlinewidth\":0,\"ticks\":\"\"},\"type\":\"mesh3d\"}],\"parcoords\":[{\"line\":{\"colorbar\":{\"outlinewidth\":0,\"ticks\":\"\"}},\"type\":\"parcoords\"}],\"pie\":[{\"automargin\":true,\"type\":\"pie\"}],\"scatter\":[{\"marker\":{\"colorbar\":{\"outlinewidth\":0,\"ticks\":\"\"}},\"type\":\"scatter\"}],\"scatter3d\":[{\"line\":{\"colorbar\":{\"outlinewidth\":0,\"ticks\":\"\"}},\"marker\":{\"colorbar\":{\"outlinewidth\":0,\"ticks\":\"\"}},\"type\":\"scatter3d\"}],\"scattercarpet\":[{\"marker\":{\"colorbar\":{\"outlinewidth\":0,\"ticks\":\"\"}},\"type\":\"scattercarpet\"}],\"scattergeo\":[{\"marker\":{\"colorbar\":{\"outlinewidth\":0,\"ticks\":\"\"}},\"type\":\"scattergeo\"}],\"scattergl\":[{\"marker\":{\"colorbar\":{\"outlinewidth\":0,\"ticks\":\"\"}},\"type\":\"scattergl\"}],\"scattermapbox\":[{\"marker\":{\"colorbar\":{\"outlinewidth\":0,\"ticks\":\"\"}},\"type\":\"scattermapbox\"}],\"scatterpolar\":[{\"marker\":{\"colorbar\":{\"outlinewidth\":0,\"ticks\":\"\"}},\"type\":\"scatterpolar\"}],\"scatterpolargl\":[{\"marker\":{\"colorbar\":{\"outlinewidth\":0,\"ticks\":\"\"}},\"type\":\"scatterpolargl\"}],\"scatterternary\":[{\"marker\":{\"colorbar\":{\"outlinewidth\":0,\"ticks\":\"\"}},\"type\":\"scatterternary\"}],\"surface\":[{\"colorbar\":{\"outlinewidth\":0,\"ticks\":\"\"},\"colorscale\":[[0.0,\"#0d0887\"],[0.1111111111111111,\"#46039f\"],[0.2222222222222222,\"#7201a8\"],[0.3333333333333333,\"#9c179e\"],[0.4444444444444444,\"#bd3786\"],[0.5555555555555556,\"#d8576b\"],[0.6666666666666666,\"#ed7953\"],[0.7777777777777778,\"#fb9f3a\"],[0.8888888888888888,\"#fdca26\"],[1.0,\"#f0f921\"]],\"type\":\"surface\"}],\"table\":[{\"cells\":{\"fill\":{\"color\":\"#EBF0F8\"},\"line\":{\"color\":\"white\"}},\"header\":{\"fill\":{\"color\":\"#C8D4E3\"},\"line\":{\"color\":\"white\"}},\"type\":\"table\"}]},\"layout\":{\"annotationdefaults\":{\"arrowcolor\":\"#2a3f5f\",\"arrowhead\":0,\"arrowwidth\":1},\"autotypenumbers\":\"strict\",\"coloraxis\":{\"colorbar\":{\"outlinewidth\":0,\"ticks\":\"\"}},\"colorscale\":{\"diverging\":[[0,\"#8e0152\"],[0.1,\"#c51b7d\"],[0.2,\"#de77ae\"],[0.3,\"#f1b6da\"],[0.4,\"#fde0ef\"],[0.5,\"#f7f7f7\"],[0.6,\"#e6f5d0\"],[0.7,\"#b8e186\"],[0.8,\"#7fbc41\"],[0.9,\"#4d9221\"],[1,\"#276419\"]],\"sequential\":[[0.0,\"#0d0887\"],[0.1111111111111111,\"#46039f\"],[0.2222222222222222,\"#7201a8\"],[0.3333333333333333,\"#9c179e\"],[0.4444444444444444,\"#bd3786\"],[0.5555555555555556,\"#d8576b\"],[0.6666666666666666,\"#ed7953\"],[0.7777777777777778,\"#fb9f3a\"],[0.8888888888888888,\"#fdca26\"],[1.0,\"#f0f921\"]],\"sequentialminus\":[[0.0,\"#0d0887\"],[0.1111111111111111,\"#46039f\"],[0.2222222222222222,\"#7201a8\"],[0.3333333333333333,\"#9c179e\"],[0.4444444444444444,\"#bd3786\"],[0.5555555555555556,\"#d8576b\"],[0.6666666666666666,\"#ed7953\"],[0.7777777777777778,\"#fb9f3a\"],[0.8888888888888888,\"#fdca26\"],[1.0,\"#f0f921\"]]},\"colorway\":[\"#636efa\",\"#EF553B\",\"#00cc96\",\"#ab63fa\",\"#FFA15A\",\"#19d3f3\",\"#FF6692\",\"#B6E880\",\"#FF97FF\",\"#FECB52\"],\"font\":{\"color\":\"#2a3f5f\"},\"geo\":{\"bgcolor\":\"white\",\"lakecolor\":\"white\",\"landcolor\":\"#E5ECF6\",\"showlakes\":true,\"showland\":true,\"subunitcolor\":\"white\"},\"hoverlabel\":{\"align\":\"left\"},\"hovermode\":\"closest\",\"mapbox\":{\"style\":\"light\"},\"paper_bgcolor\":\"white\",\"plot_bgcolor\":\"#E5ECF6\",\"polar\":{\"angularaxis\":{\"gridcolor\":\"white\",\"linecolor\":\"white\",\"ticks\":\"\"},\"bgcolor\":\"#E5ECF6\",\"radialaxis\":{\"gridcolor\":\"white\",\"linecolor\":\"white\",\"ticks\":\"\"}},\"scene\":{\"xaxis\":{\"backgroundcolor\":\"#E5ECF6\",\"gridcolor\":\"white\",\"gridwidth\":2,\"linecolor\":\"white\",\"showbackground\":true,\"ticks\":\"\",\"zerolinecolor\":\"white\"},\"yaxis\":{\"backgroundcolor\":\"#E5ECF6\",\"gridcolor\":\"white\",\"gridwidth\":2,\"linecolor\":\"white\",\"showbackground\":true,\"ticks\":\"\",\"zerolinecolor\":\"white\"},\"zaxis\":{\"backgroundcolor\":\"#E5ECF6\",\"gridcolor\":\"white\",\"gridwidth\":2,\"linecolor\":\"white\",\"showbackground\":true,\"ticks\":\"\",\"zerolinecolor\":\"white\"}},\"shapedefaults\":{\"line\":{\"color\":\"#2a3f5f\"}},\"ternary\":{\"aaxis\":{\"gridcolor\":\"white\",\"linecolor\":\"white\",\"ticks\":\"\"},\"baxis\":{\"gridcolor\":\"white\",\"linecolor\":\"white\",\"ticks\":\"\"},\"bgcolor\":\"#E5ECF6\",\"caxis\":{\"gridcolor\":\"white\",\"linecolor\":\"white\",\"ticks\":\"\"}},\"title\":{\"x\":0.05},\"xaxis\":{\"automargin\":true,\"gridcolor\":\"white\",\"linecolor\":\"white\",\"ticks\":\"\",\"title\":{\"standoff\":15},\"zerolinecolor\":\"white\",\"zerolinewidth\":2},\"yaxis\":{\"automargin\":true,\"gridcolor\":\"white\",\"linecolor\":\"white\",\"ticks\":\"\",\"title\":{\"standoff\":15},\"zerolinecolor\":\"white\",\"zerolinewidth\":2}}},\"title\":{\"text\":\"<i><b>Confusion matrix</b></i>\"},\"margin\":{\"t\":50,\"l\":200}},                        {\"responsive\": true}                    ).then(function(){\n",
              "                            \n",
              "var gd = document.getElementById('3b4e1acb-105a-4fcc-8128-9c707f5d878d');\n",
              "var x = new MutationObserver(function (mutations, observer) {{\n",
              "        var display = window.getComputedStyle(gd).display;\n",
              "        if (!display || display === 'none') {{\n",
              "            console.log([gd, 'removed!']);\n",
              "            Plotly.purge(gd);\n",
              "            observer.disconnect();\n",
              "        }}\n",
              "}});\n",
              "\n",
              "// Listen for the removal of the full notebook cells\n",
              "var notebookContainer = gd.closest('#notebook-container');\n",
              "if (notebookContainer) {{\n",
              "    x.observe(notebookContainer, {childList: true});\n",
              "}}\n",
              "\n",
              "// Listen for the clearing of the current output cell\n",
              "var outputEl = gd.closest('.output');\n",
              "if (outputEl) {{\n",
              "    x.observe(outputEl, {childList: true});\n",
              "}}\n",
              "\n",
              "                        })                };                            </script>        </div>\n",
              "</body>\n",
              "</html>"
            ]
          },
          "metadata": {}
        }
      ]
    }
  ]
}